{
 "cells": [
  {
   "cell_type": "code",
   "execution_count": 1,
   "metadata": {},
   "outputs": [
    {
     "name": "stdout",
     "output_type": "stream",
     "text": [
      "  ID Variável                                           Variável   Unidade  \\\n",
      "0       10484  Número de espécies da fauna e da flora brasile...  Unidades   \n",
      "1       10484  Número de espécies da fauna e da flora brasile...  Unidades   \n",
      "2       10484  Número de espécies da fauna e da flora brasile...  Unidades   \n",
      "3       10484  Número de espécies da fauna e da flora brasile...  Unidades   \n",
      "\n",
      "  ID Classificação                                Classificação ID Categoria  \\\n",
      "0              454  Grupos taxonômicos, hábito ou forma de vida        47952   \n",
      "1              919                             Tipo de ambiente        48243   \n",
      "2              920                Biomas, mar e ilhas oceânicas        48254   \n",
      "3            12920                          Categorias de risco       119363   \n",
      "\n",
      "  Categoria ID Localidade Localidade ID Nível   Nível   Ano  Valor  \n",
      "0     Total             1     Brasil       N1  Brasil  2014  16645  \n",
      "1     Total             1     Brasil       N1  Brasil  2014  16645  \n",
      "2     Total             1     Brasil       N1  Brasil  2014  16645  \n",
      "3     Total             1     Brasil       N1  Brasil  2014  16645  \n"
     ]
    }
   ],
   "source": [
    "import requests\n",
    "import pandas as pd\n",
    "\n",
    "link = \"https://servicodados.ibge.gov.br/api/v3/agregados/7392/periodos/-6/variaveis/10484?localidades=N1[all]\"\n",
    "\n",
    "requisicao = requests.get(link)\n",
    "dados = requisicao.json()\n",
    "\n",
    "# Extrair os dados relevantes\n",
    "dados_organizados = []\n",
    "\n",
    "for item in dados:\n",
    "    id_variavel = item['id']\n",
    "    variavel = item['variavel']\n",
    "    unidade = item['unidade']\n",
    "    \n",
    "    for resultado in item['resultados']:\n",
    "        for classificacao in resultado['classificacoes']:\n",
    "            id_classificacao = classificacao['id']\n",
    "            nome_classificacao = classificacao['nome']\n",
    "            categoria_id, categoria_nome = list(classificacao['categoria'].items())[0]\n",
    "            \n",
    "            for serie in resultado['series']:\n",
    "                localidade_id = serie['localidade']['id']\n",
    "                localidade_nome = serie['localidade']['nome']\n",
    "                nivel_id = serie['localidade']['nivel']['id']\n",
    "                nivel_nome = serie['localidade']['nivel']['nome']\n",
    "                \n",
    "                for ano, valor in serie['serie'].items():\n",
    "                    dados_organizados.append({\n",
    "                        'ID Variável': id_variavel,\n",
    "                        'Variável': variavel,\n",
    "                        'Unidade': unidade,\n",
    "                        'ID Classificação': id_classificacao,\n",
    "                        'Classificação': nome_classificacao,\n",
    "                        'ID Categoria': categoria_id,\n",
    "                        'Categoria': categoria_nome,\n",
    "                        'ID Localidade': localidade_id,\n",
    "                        'Localidade': localidade_nome,\n",
    "                        'ID Nível': nivel_id,\n",
    "                        'Nível': nivel_nome,\n",
    "                        'Ano': ano,\n",
    "                        'Valor': valor\n",
    "                    })\n",
    "\n",
    "# Criar o DataFrame\n",
    "df = pd.DataFrame(dados_organizados)\n",
    "\n",
    "df.to_excel(r\"C:\\Users\\marce\\OneDrive\\Arquivos Antigos\\Documentos\\GitHub\\Python_Projetos\\Datasets\\teste.xlsx\")\n",
    "\n",
    "# Exibir o DataFrame\n",
    "print(df)"
   ]
  }
 ],
 "metadata": {
  "kernelspec": {
   "display_name": "Python 3",
   "language": "python",
   "name": "python3"
  },
  "language_info": {
   "codemirror_mode": {
    "name": "ipython",
    "version": 3
   },
   "file_extension": ".py",
   "mimetype": "text/x-python",
   "name": "python",
   "nbconvert_exporter": "python",
   "pygments_lexer": "ipython3",
   "version": "3.13.2"
  }
 },
 "nbformat": 4,
 "nbformat_minor": 2
}
