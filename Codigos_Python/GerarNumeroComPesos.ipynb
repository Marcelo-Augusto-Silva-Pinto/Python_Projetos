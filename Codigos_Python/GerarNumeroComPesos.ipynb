{
 "cells": [
  {
   "cell_type": "code",
   "execution_count": 11,
   "metadata": {},
   "outputs": [
    {
     "data": {
      "application/vnd.microsoft.datawrangler.viewer.v0+json": {
       "columns": [
        {
         "name": "index",
         "rawType": "int64",
         "type": "integer"
        },
        {
         "name": "0",
         "rawType": "int64",
         "type": "integer"
        }
       ],
       "conversionMethod": "pd.DataFrame",
       "ref": "f26cf99f-1473-461a-8f2e-f0160e5ad0da",
       "rows": [
        [
         "0",
         "18"
        ],
        [
         "1",
         "5"
        ],
        [
         "2",
         "21"
        ],
        [
         "3",
         "1"
        ],
        [
         "4",
         "23"
        ],
        [
         "5",
         "18"
        ],
        [
         "6",
         "5"
        ],
        [
         "7",
         "19"
        ],
        [
         "8",
         "9"
        ],
        [
         "9",
         "28"
        ],
        [
         "10",
         "16"
        ],
        [
         "11",
         "4"
        ],
        [
         "12",
         "2"
        ],
        [
         "13",
         "25"
        ],
        [
         "14",
         "19"
        ],
        [
         "15",
         "10"
        ],
        [
         "16",
         "9"
        ],
        [
         "17",
         "25"
        ],
        [
         "18",
         "5"
        ],
        [
         "19",
         "7"
        ],
        [
         "20",
         "18"
        ],
        [
         "21",
         "1"
        ],
        [
         "22",
         "8"
        ],
        [
         "23",
         "12"
        ],
        [
         "24",
         "7"
        ],
        [
         "25",
         "20"
        ],
        [
         "26",
         "20"
        ],
        [
         "27",
         "22"
        ],
        [
         "28",
         "24"
        ],
        [
         "29",
         "19"
        ],
        [
         "30",
         "14"
        ],
        [
         "31",
         "22"
        ],
        [
         "32",
         "24"
        ],
        [
         "33",
         "10"
        ],
        [
         "34",
         "5"
        ],
        [
         "35",
         "27"
        ],
        [
         "36",
         "24"
        ],
        [
         "37",
         "24"
        ],
        [
         "38",
         "12"
        ],
        [
         "39",
         "21"
        ],
        [
         "40",
         "20"
        ],
        [
         "41",
         "5"
        ],
        [
         "42",
         "29"
        ],
        [
         "43",
         "20"
        ],
        [
         "44",
         "12"
        ],
        [
         "45",
         "3"
        ],
        [
         "46",
         "29"
        ],
        [
         "47",
         "19"
        ],
        [
         "48",
         "3"
        ],
        [
         "49",
         "21"
        ]
       ],
       "shape": {
        "columns": 1,
        "rows": 400
       }
      },
      "text/html": [
       "<div>\n",
       "<style scoped>\n",
       "    .dataframe tbody tr th:only-of-type {\n",
       "        vertical-align: middle;\n",
       "    }\n",
       "\n",
       "    .dataframe tbody tr th {\n",
       "        vertical-align: top;\n",
       "    }\n",
       "\n",
       "    .dataframe thead th {\n",
       "        text-align: right;\n",
       "    }\n",
       "</style>\n",
       "<table border=\"1\" class=\"dataframe\">\n",
       "  <thead>\n",
       "    <tr style=\"text-align: right;\">\n",
       "      <th></th>\n",
       "      <th>0</th>\n",
       "    </tr>\n",
       "  </thead>\n",
       "  <tbody>\n",
       "    <tr>\n",
       "      <th>0</th>\n",
       "      <td>18</td>\n",
       "    </tr>\n",
       "    <tr>\n",
       "      <th>1</th>\n",
       "      <td>5</td>\n",
       "    </tr>\n",
       "    <tr>\n",
       "      <th>2</th>\n",
       "      <td>21</td>\n",
       "    </tr>\n",
       "    <tr>\n",
       "      <th>3</th>\n",
       "      <td>1</td>\n",
       "    </tr>\n",
       "    <tr>\n",
       "      <th>4</th>\n",
       "      <td>23</td>\n",
       "    </tr>\n",
       "    <tr>\n",
       "      <th>...</th>\n",
       "      <td>...</td>\n",
       "    </tr>\n",
       "    <tr>\n",
       "      <th>395</th>\n",
       "      <td>10</td>\n",
       "    </tr>\n",
       "    <tr>\n",
       "      <th>396</th>\n",
       "      <td>23</td>\n",
       "    </tr>\n",
       "    <tr>\n",
       "      <th>397</th>\n",
       "      <td>19</td>\n",
       "    </tr>\n",
       "    <tr>\n",
       "      <th>398</th>\n",
       "      <td>13</td>\n",
       "    </tr>\n",
       "    <tr>\n",
       "      <th>399</th>\n",
       "      <td>27</td>\n",
       "    </tr>\n",
       "  </tbody>\n",
       "</table>\n",
       "<p>400 rows × 1 columns</p>\n",
       "</div>"
      ],
      "text/plain": [
       "      0\n",
       "0    18\n",
       "1     5\n",
       "2    21\n",
       "3     1\n",
       "4    23\n",
       "..   ..\n",
       "395  10\n",
       "396  23\n",
       "397  19\n",
       "398  13\n",
       "399  27\n",
       "\n",
       "[400 rows x 1 columns]"
      ]
     },
     "metadata": {},
     "output_type": "display_data"
    }
   ],
   "source": [
    "import numpy as np\n",
    "import pandas as pd\n",
    "\n",
    "# Definição dos grupos\n",
    "grupo_1 = [4]  # 53%\n",
    "grupo_2 = [5, 6, 7, 11, 17, 18, 19, 24, 3]  # 34%\n",
    "grupo_3 = [n for n in range(1, 30) if n not in grupo_1 + grupo_2]  # 13%\n",
    "\n",
    "#grupo_1 = [50, 100, 150]  # 53%\n",
    "#grupo_2 = [75, 80, 120, 200, 90, 140]  # 34%\n",
    "#grupo_3 = [500, 450, 400]  # 13%\n",
    "#\n",
    "# Pesos correspondentes\n",
    "pesos = [0.01 / len(grupo_1)] * len(grupo_1) + \\\n",
    "        [0.49 / len(grupo_2)] * len(grupo_2) + \\\n",
    "        [0.50 / len(grupo_3)] * len(grupo_3)\n",
    "\n",
    "# Lista combinada de números\n",
    "numeros = grupo_1 + grupo_2 + grupo_3\n",
    "\n",
    "# Gerando os 500 números aleatórios seguindo os pesos definidos\n",
    "numeros_aleatorios = np.random.choice(numeros, 400, p=pesos)\n",
    "\n",
    "df = pd.DataFrame(numeros_aleatorios)\n",
    "\n",
    "df.to_excel(r\"C:\\Users\\marce\\OneDrive\\Arquivos Antigos\\Área de Trabalho\\Kaggle\\Projeto_Todos_Graficos\\numeros.xlsx\")\n",
    "\n",
    "display(df)"
   ]
  }
 ],
 "metadata": {
  "kernelspec": {
   "display_name": "Python 3",
   "language": "python",
   "name": "python3"
  },
  "language_info": {
   "codemirror_mode": {
    "name": "ipython",
    "version": 3
   },
   "file_extension": ".py",
   "mimetype": "text/x-python",
   "name": "python",
   "nbconvert_exporter": "python",
   "pygments_lexer": "ipython3",
   "version": "3.13.2"
  }
 },
 "nbformat": 4,
 "nbformat_minor": 2
}
