{
 "cells": [
  {
   "cell_type": "code",
   "execution_count": null,
   "metadata": {},
   "outputs": [],
   "source": [
    "#Script para enviar uma lista para uma coluna de uma tabela no banco de dados SQL Server\n",
    "\n",
    "import pandas as pd\n",
    "from sqlalchemy import create_engine, text\n",
    " \n",
    "\n",
    "server = \"DESKTOP-HV85ADA\\\\PROJETO_MERCADO\"\n",
    "bancodados = \"MERCADO_OLTP\"\n",
    "driver = \"ODBC Driver 17 for SQL Server\"\n",
    "#user = \"\"\n",
    "#senha = \"\"\n",
    "\n",
    "conexaostring = f\"mssql+pyodbc://{server}/{bancodados}?driver={driver}&Trusted_Connection=yes\"\n",
    "#conn_str = f\"mssql+pyodbc://{username}:{password}@{server}/{database}?driver={driver}\"\n",
    "engine = create_engine(conexaostring)\n",
    "\n",
    "tabela = \"DEPARTAMENTO\"\n",
    "coluna = \"NOME\"\n",
    "\n",
    "df = []\n",
    "lista = df['NOME_COLUNA'].to_list() #converte uma coluna de um df em uma lista\n",
    "\n",
    "lista_declarada = [\"Administrativo\",\"Comercial\",\"Financeiro\",\"Operacional\",\"Recursos humanos\"]\n",
    "\n",
    "with engine.connect() as connection:\n",
    "    connection.execute(text(f\"TRUNCATE TABLE {tabela}\"))\n",
    "    connection.commit()\n",
    "    for nome in lista_departamento:\n",
    "        connection.execute(text(f\"INSERT INTO {tabela} ({coluna}) VALUES (:nome)\"),{\"nome\": nome})\n",
    "        connection.commit()\n",
    "\n",
    "connection.close()"
   ]
  }
 ],
 "metadata": {
  "language_info": {
   "name": "python"
  }
 },
 "nbformat": 4,
 "nbformat_minor": 2
}
