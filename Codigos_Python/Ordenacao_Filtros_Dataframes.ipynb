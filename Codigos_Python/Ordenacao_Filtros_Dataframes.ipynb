{
 "cells": [
  {
   "cell_type": "code",
   "execution_count": null,
   "metadata": {},
   "outputs": [],
   "source": [
    "import pandas as pd\n",
    "\n",
    "arquivo = r\"C:\\Users\\marce\\OneDrive\\Arquivos Antigos\\Documentos\\GitHub\\Python_Projetos\\Datasets\\movies.csv\"\n",
    "\n",
    "df = pd.read_csv(arquivo)\n",
    "df.rename(columns={'star rating':'star_rating','content rating':'content_rating', 'actors list':'actors_list'}, inplace=True)\n",
    "\n",
    "#ordenando por uma coluna\n",
    "\n",
    "df.sort_values(['title']).head(10)\n",
    "\n",
    "#ordenando de forma descendente\n",
    "\n",
    "df.sort_values('duration', ascending=False).head(10)\n",
    "\n",
    "#ordenando por mais de uma coluna\n",
    "\n",
    "df.sort_values(['title', 'duration']).head(10)\n",
    "\n",
    "#filtragem por uma coluna\n",
    "\n",
    "df[df.duration >= 200].head(10)\n",
    "\n",
    "#multiplos filtros \n",
    "\n",
    "df[(df.duration >= 200) & (df.genre == 'Drama')].head(10)  # & = e\n",
    "\n",
    "df[(df.duration >= 200) | (df.genre == 'Drama')].head(10) # | = ou\n",
    "\n",
    "df[(df.genre == 'Crime') | (df.genre == 'Drama') | (df.genre == 'Action')].head(10)\n",
    "\n",
    "#Metodo LOC para filtrar, eh uma boa pratica utilizar o metodo LOC\n",
    "\n",
    "df.loc[df.duration >= 200, 'genre'].head(5)\n",
    "\n",
    "#Metodo ISIN para aplicar multiplos filtros\n",
    "\n",
    "df[df.star_rating.isin([9.1,9.2,9.3,9.4]) ]\n",
    "\n",
    "#Filtro usando uma string\n",
    "\n",
    "df[df.title.str.contains('Godfather')].head(10)\n",
    "\n",
    "#Tratando valores nulos "
   ]
  }
 ],
 "metadata": {
  "kernelspec": {
   "display_name": "Python 3",
   "language": "python",
   "name": "python3"
  },
  "language_info": {
   "codemirror_mode": {
    "name": "ipython",
    "version": 3
   },
   "file_extension": ".py",
   "mimetype": "text/x-python",
   "name": "python",
   "nbconvert_exporter": "python",
   "pygments_lexer": "ipython3",
   "version": "3.13.2"
  }
 },
 "nbformat": 4,
 "nbformat_minor": 2
}
