{
 "cells": [
  {
   "cell_type": "code",
   "execution_count": null,
   "metadata": {},
   "outputs": [
    {
     "data": {
      "application/vnd.microsoft.datawrangler.viewer.v0+json": {
       "columns": [
        {
         "name": "index",
         "rawType": "int64",
         "type": "integer"
        },
        {
         "name": "teste",
         "rawType": "object",
         "type": "string"
        },
        {
         "name": "coluna2",
         "rawType": "int64",
         "type": "integer"
        }
       ],
       "conversionMethod": "pd.DataFrame",
       "ref": "5a499040-cca4-461b-a7b5-effb63851e0f",
       "rows": [
        [
         "0",
         "Novais Barros Ltda.",
         "1"
        ],
        [
         "1",
         "Freitas Monteiro Ltda.",
         "2"
        ],
        [
         "2",
         "Abreu Cirino Ltda.",
         "3"
        ]
       ],
       "shape": {
        "columns": 2,
        "rows": 3
       }
      },
      "text/html": [
       "<div>\n",
       "<style scoped>\n",
       "    .dataframe tbody tr th:only-of-type {\n",
       "        vertical-align: middle;\n",
       "    }\n",
       "\n",
       "    .dataframe tbody tr th {\n",
       "        vertical-align: top;\n",
       "    }\n",
       "\n",
       "    .dataframe thead th {\n",
       "        text-align: right;\n",
       "    }\n",
       "</style>\n",
       "<table border=\"1\" class=\"dataframe\">\n",
       "  <thead>\n",
       "    <tr style=\"text-align: right;\">\n",
       "      <th></th>\n",
       "      <th>teste</th>\n",
       "      <th>coluna2</th>\n",
       "    </tr>\n",
       "  </thead>\n",
       "  <tbody>\n",
       "    <tr>\n",
       "      <th>0</th>\n",
       "      <td>Novais Barros Ltda.</td>\n",
       "      <td>1</td>\n",
       "    </tr>\n",
       "    <tr>\n",
       "      <th>1</th>\n",
       "      <td>Freitas Monteiro Ltda.</td>\n",
       "      <td>2</td>\n",
       "    </tr>\n",
       "    <tr>\n",
       "      <th>2</th>\n",
       "      <td>Abreu Cirino Ltda.</td>\n",
       "      <td>3</td>\n",
       "    </tr>\n",
       "  </tbody>\n",
       "</table>\n",
       "</div>"
      ],
      "text/plain": [
       "                    teste  coluna2\n",
       "0     Novais Barros Ltda.        1\n",
       "1  Freitas Monteiro Ltda.        2\n",
       "2      Abreu Cirino Ltda.        3"
      ]
     },
     "metadata": {},
     "output_type": "display_data"
    }
   ],
   "source": [
    "import unicodedata\n",
    "import pandas as pd\n",
    "import numpy as np\n",
    "\n",
    "\n",
    "lista = ['        Novais Barros Ltda.', 'Freitas Monteiro          Ltda.', 'Abreu         Cirino                Ltda.']\n",
    "\n",
    "df = pd.DataFrame({\n",
    "        'teste':   lista,\n",
    "        'coluna2': [1,2,3]\n",
    "})\n",
    "\n",
    "#remove espacos desnecessarios antes, entre e depois dos valores em formato string\n",
    "df = df(lambda col: col.str.replace(r'\\s+', ' ', regex=True).str.strip() if col.dtype == 'object' and col.apply(lambda x: isinstance(x, str)).any() else col)\n",
    "\n",
    "import numpy as np\n",
    "\n",
    "# Função para remover espaços desnecessários em todos os tipos de dados\n",
    "def strip_all_types(col):\n",
    "    # Converte a coluna para string, remove espaços extras e aplica strip\n",
    "    col_stripped = col.astype(str).str.replace(r'\\s+', ' ', regex=True).str.strip()\n",
    "    \n",
    "    # Converte de volta para o tipo original da coluna\n",
    "    if np.issubdtype(col.dtype, np.integer):  # Se for inteiro\n",
    "        return pd.to_numeric(col_stripped, errors='coerce').astype(col.dtype)\n",
    "    elif np.issubdtype(col.dtype, np.floating):  # Se for float\n",
    "        return pd.to_numeric(col_stripped, errors='coerce').astype(col.dtype)\n",
    "    elif np.issubdtype(col.dtype, np.datetime64):  # Se for data\n",
    "        return pd.to_datetime(col_stripped, errors='coerce')\n",
    "    else:  # Se for string ou outro tipo\n",
    "        return col_stripped\n",
    "\n",
    "# Aplica a função a todas as colunas do DataFrame\n",
    "df = df.apply(strip_all_types)\n",
    "\n",
    "lista_formatada = []\n",
    "\n",
    "# Processa cada item da lista\n",
    "for item in lista:\n",
    "    #espacos desnecessarios antes e depois da string\n",
    "    item = item.strip()\n",
    "    # Remove acentos\n",
    "    item_sem_acentos = ''.join(\n",
    "        letra for letra in unicodedata.normalize('NFD', item)\n",
    "        if unicodedata.category(letra) != 'Mn'\n",
    "    )\n",
    "    \n",
    "    # Remove caracteres especiais e pontos\n",
    "    item_formatado = ''.join(\n",
    "        letra for letra in item_sem_acentos\n",
    "        if letra.isalnum() or letra.isspace()\n",
    "    )\n",
    "    \n",
    "    # Adiciona o item formatado à lista\n",
    "    lista_formatada.append(item_formatado)\n",
    "\n",
    "# Exibe a lista formatada\n",
    "display(df)\n"
   ]
  }
 ],
 "metadata": {
  "kernelspec": {
   "display_name": "Python 3",
   "language": "python",
   "name": "python3"
  },
  "language_info": {
   "codemirror_mode": {
    "name": "ipython",
    "version": 3
   },
   "file_extension": ".py",
   "mimetype": "text/x-python",
   "name": "python",
   "nbconvert_exporter": "python",
   "pygments_lexer": "ipython3",
   "version": "3.13.2"
  }
 },
 "nbformat": 4,
 "nbformat_minor": 2
}
