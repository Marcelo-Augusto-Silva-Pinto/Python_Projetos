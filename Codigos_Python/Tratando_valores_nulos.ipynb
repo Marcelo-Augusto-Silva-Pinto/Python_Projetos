{
 "cells": [
  {
   "cell_type": "code",
   "execution_count": null,
   "metadata": {},
   "outputs": [],
   "source": [
    "import pandas as pd\n",
    "\n",
    "arquivo = r\"C:\\Users\\marce\\OneDrive\\Arquivos Antigos\\Documentos\\GitHub\\Python_Projetos\\Datasets\\ufo.csv\"\n",
    "\n",
    "df_ufo = pd.read_csv(arquivo)\n",
    "\n",
    "df_ufo.head()\n",
    "\n",
    "#Remove todas as linhas que contem algum valor nulo\n",
    "\n",
    "df_ufo.dropna(how='any').shape\n",
    "\n",
    "#Remove as linhas das colunas especificadas que possuem valores nulos\n",
    "\n",
    "df_ufo.dropna(subset=['City', 'Shape Reported'], how='any').shape #remove se tiver nulo na primeira OU na segunda coluna\n",
    "\n",
    "df_ufo.dropna(subset=['City', 'Shape Reported'], how='all').head() #remove se tiver nulo na primeira E na segunda coluna\n",
    "\n",
    "#Substitui os valores nulos\n",
    "\n",
    "df_ufo.fillna({'Shape Reported': 'Diversos'}, inplace=True)\n",
    "\n",
    "df_ufo['Shape Reported'].value_counts(dropna=False).head(20)\n"
   ]
  }
 ],
 "metadata": {
  "kernelspec": {
   "display_name": "Python 3",
   "language": "python",
   "name": "python3"
  },
  "language_info": {
   "codemirror_mode": {
    "name": "ipython",
    "version": 3
   },
   "file_extension": ".py",
   "mimetype": "text/x-python",
   "name": "python",
   "nbconvert_exporter": "python",
   "pygments_lexer": "ipython3",
   "version": "3.13.2"
  }
 },
 "nbformat": 4,
 "nbformat_minor": 2
}
