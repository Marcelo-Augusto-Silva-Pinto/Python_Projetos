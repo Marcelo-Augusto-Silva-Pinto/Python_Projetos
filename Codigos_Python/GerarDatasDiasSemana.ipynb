{
 "cells": [
  {
   "cell_type": "code",
   "execution_count": null,
   "metadata": {},
   "outputs": [
    {
     "name": "stdout",
     "output_type": "stream",
     "text": [
      "           Data\n",
      "0    2023-01-02\n",
      "1    2023-01-02\n",
      "2    2023-01-02\n",
      "3    2023-01-02\n",
      "4    2023-01-03\n",
      "..          ...\n",
      "795  2025-03-24\n",
      "796  2025-03-26\n",
      "797  2025-03-28\n",
      "798  2025-03-28\n",
      "799  2025-03-31\n",
      "\n",
      "[800 rows x 1 columns]\n"
     ]
    }
   ],
   "source": [
    "#Gera datas aleatórias dentro de um intervalo de anos, considerando apenas dias de semana\n",
    "\n",
    "import pandas as pd\n",
    "import numpy as np\n",
    "from datetime import datetime, timedelta\n",
    "\n",
    "def gerar_datas_aleatorias(inicio_ano, fim_ano, quantidade):\n",
    "\n",
    "    #Definir o intervalo de datas\n",
    "    data_inicio = datetime(inicio_ano, 1, 1).date()\n",
    "    data_fim = datetime(fim_ano, 12, 31).date()\n",
    "    \n",
    "    #Calcular o número total de dias no intervalo\n",
    "    total_dias = (data_fim - data_inicio).days + 1\n",
    "    \n",
    "    # Gerar todas as datas no intervalo\n",
    "    todas_datas = [data_inicio + timedelta(dias) for dias in range(total_dias)]\n",
    "    \n",
    "    # Filtrar apenas dias de semana (segunda=0, sexta=4)\n",
    "    dias_uteis = [data for data in todas_datas if data.weekday() < 5]\n",
    "    \n",
    "    # Selecionar aleatoriamente as datas desejadas\n",
    "    datas_selecionadas = np.random.choice(dias_uteis, size=quantidade, replace=True)\n",
    "    \n",
    "    return sorted(datas_selecionadas)\n",
    "\n",
    "# Exemplo de uso\n",
    "inicio_ano = 2023\n",
    "fim_ano = 2025\n",
    "quantidade_datas = 800\n",
    "\n",
    "# Gerar as datas\n",
    "datas = gerar_datas_aleatorias(inicio_ano, fim_ano, quantidade_datas)\n",
    "\n",
    "# Criar DataFrame e armazenar as datas em uma coluna\n",
    "df = pd.DataFrame({'Data': datas})\n",
    "df.to_excel(r\"C:\\Users\\marce\\OneDrive\\Arquivos Antigos\\Área de Trabalho\\Kaggle\\Projeto_Todos_Graficos\\datas.xlsx\")\n",
    "# Mostrar o DataFrame\n",
    "print(df)\n",
    "\n"
   ]
  }
 ],
 "metadata": {
  "kernelspec": {
   "display_name": "Python 3",
   "language": "python",
   "name": "python3"
  },
  "language_info": {
   "codemirror_mode": {
    "name": "ipython",
    "version": 3
   },
   "file_extension": ".py",
   "mimetype": "text/x-python",
   "name": "python",
   "nbconvert_exporter": "python",
   "pygments_lexer": "ipython3",
   "version": "3.13.2"
  }
 },
 "nbformat": 4,
 "nbformat_minor": 2
}
