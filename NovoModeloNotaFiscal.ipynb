{
 "cells": [
  {
   "cell_type": "code",
   "execution_count": null,
   "metadata": {},
   "outputs": [
    {
     "name": "stdout",
     "output_type": "stream",
     "text": [
      "Conexão com o banco de dados estabelecida com sucesso\n",
      "Query executada com sucesso\n",
      "A conexão foi bem-sucedida\n",
      "Numero da ultima nota fiscal do banco de dados: 0\n"
     ]
    }
   ],
   "source": [
    "import pandas as pd\n",
    "import  random\n",
    "from sqlalchemy import create_engine, VARCHAR,NUMERIC,INTEGER,DATE,DATETIME,String,text,CHAR\n",
    "from datetime import datetime, date\n",
    "from faker import Faker\n",
    "\n",
    "fake = Faker()\n",
    "\n",
    "server = \"DESKTOP-HV85ADA\\\\PROJETO_MERCADO\"\n",
    "bancodados = \"HIST_ATUALIZACOES\"\n",
    "driver = \"ODBC Driver 17 for SQL Server\"\n",
    "\n",
    "conexaostring = f\"mssql+pyodbc://{server}/{bancodados}?driver={driver}&Trusted_Connection=yes\"\n",
    "engine = create_engine(conexaostring)\n",
    "\n",
    "#Função para testar a conexão\n",
    "def testar_conexao_sqlalchemy(engine):\n",
    "    try:        \n",
    "        with engine.connect() as conexao: #Tenta conectar ao banco de dados\n",
    "            print(\"Conexão com o banco de dados estabelecida com sucesso\")\n",
    "            result = conexao.execute(text(\"SELECT 1 AS teste\")) #Executa uma consulta para testar a conexão\n",
    "            print(\"Query executada com sucesso\")\n",
    "            return True\n",
    "    except Exception as e:\n",
    "        print(f\"Erro ao conectar ao banco de dados: {e}\")\n",
    "        return False\n",
    "#testa a conexão\n",
    "if testar_conexao_sqlalchemy(engine): \n",
    "    print(\"A conexão foi bem-sucedida\")\n",
    "else:\n",
    "    print(\"Falha na conexão.\")\n",
    "\n",
    "\n",
    "#DATA DA NOTA\n",
    "data_nota_ini = fake.date_time_between(start_date=datetime(2024, 1, 1), end_date=datetime(2024, 1, 20))\n",
    "hora_aleatoria = random.randint(7, 21)  #Gera uma hora entre 8 e 22\n",
    "minuto_aleatorio = random.randint(0, 59)  #Gera minutos aleatórios\n",
    "segundo_aleatorio = random.randint(0, 59)  #Gera segundos aleatórios\n",
    "data_nota = data_nota_ini.replace(hour=hora_aleatoria, minute=minuto_aleatorio, second=segundo_aleatorio) #Substituir o horário da data_nota pelo horário gerado\n",
    "\n",
    "#CRIAR O NUMERO DA NOTA FISCAL\n",
    "\n",
    "try:\n",
    "    with engine.connect() as conn:\n",
    "            num_nf_no_bancodados = conn.execute(text(\"SELECT COUNT(NUMERONF) FROM NOTAFISCAL\")).scalar()\n",
    "            print(f\"Numero da ultima nota fiscal do banco de dados: {num_nf_no_bancodados}\")            \n",
    "except Exception as e:\n",
    "    print(f\"Erro ao executar: {e}\")\n",
    "\n",
    "numeronf = num_nf_no_bancodados + 1\n",
    "\n",
    "#tipo_dados_ITEMNOTA = {\n",
    "#                'ID_NOTAFISCAL':  INTEGER,\n",
    "#                'ID_PRODUTO':     INTEGER,\n",
    "#                'QUANTIDADE':     INTEGER,\n",
    "#                'PRECO_UNIT':     NUMERIC(18,2),\n",
    "#                'TOTAL_ITEM':     NUMERIC(18,2),\n",
    "#                'DATA_CRIACAO':   DATE,\n",
    "#                'DATA_ATLZ':      DATE,\n",
    "#                'VERSAO':         INTEGER,\n",
    "#        }\n",
    "#df_NOTAFISCAL = pd.DataFrame({\n",
    "#                'DATA':           df_todas_notas2['DATA_NOTAFISCAL'],\n",
    "#                'NUMERONF'        ?,\n",
    "#                'TOTAL_NOTA':     df_todas_notas2['TOTAL_NOTA'],\n",
    "#                'ID_FORMA_PGMT':  df_todas_notas2['ID_FORMA_PGMT'],\n",
    "#                'ID_CLIENTE':     df_todas_notas2['ID_CLIENTE'],\n",
    "#                'ID_LOJA':        df_todas_notas2['ID_LOJA'],\n",
    "#                'ID_CFOP':        df_id_cfop['ID_CFOP'],\n",
    "#                'CHAVE_ACESSO':   valores_unicos,\n",
    "#                'DATA_CRIACAO':   df_todas_notas2['DATA_CRIACAO'],\n",
    "#                'DATA_ATLZ':      df_todas_notas2['DATA_ATLZ'],\n",
    "#                'VERSAO':         df_todas_notas2['VERSAO'],\n",
    "#})"
   ]
  }
 ],
 "metadata": {
  "kernelspec": {
   "display_name": "Python 3",
   "language": "python",
   "name": "python3"
  },
  "language_info": {
   "codemirror_mode": {
    "name": "ipython",
    "version": 3
   },
   "file_extension": ".py",
   "mimetype": "text/x-python",
   "name": "python",
   "nbconvert_exporter": "python",
   "pygments_lexer": "ipython3",
   "version": "3.13.2"
  }
 },
 "nbformat": 4,
 "nbformat_minor": 2
}
