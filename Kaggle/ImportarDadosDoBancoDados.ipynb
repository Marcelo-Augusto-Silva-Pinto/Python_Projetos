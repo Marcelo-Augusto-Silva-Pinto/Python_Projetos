{
 "cells": [
  {
   "cell_type": "code",
   "execution_count": 2,
   "metadata": {},
   "outputs": [
    {
     "name": "stdout",
     "output_type": "stream",
     "text": [
      "Query teste executada com sucesso, conexão com o banco de dados Engine(mssql+pyodbc://DESKTOP-HV85ADA\\SERVERSQL22/OLIP?Trusted_Connection=yes&driver=ODBC+Driver+17+for+SQL+Server) bem-sucedida\n"
     ]
    },
    {
     "data": {
      "application/vnd.microsoft.datawrangler.viewer.v0+json": {
       "columns": [
        {
         "name": "index",
         "rawType": "int64",
         "type": "integer"
        },
        {
         "name": "order_id",
         "rawType": "object",
         "type": "string"
        },
        {
         "name": "order_status",
         "rawType": "object",
         "type": "string"
        },
        {
         "name": "total_price",
         "rawType": "float64",
         "type": "float"
        },
        {
         "name": "TOTAL_FRETE",
         "rawType": "float64",
         "type": "float"
        },
        {
         "name": "TOTAL_PEDIDO",
         "rawType": "float64",
         "type": "float"
        }
       ],
       "conversionMethod": "pd.DataFrame",
       "ref": "20c557d7-3864-4344-83e0-4c16045f0791",
       "rows": [
        [
         "0",
         "00054e8431b9d7675808bcb819fb4a32",
         "delivered",
         "19.9",
         "11.85",
         "31.75"
        ],
        [
         "1",
         "000229ec398224ef6ca0657da4fc703e",
         "delivered",
         "199.0",
         "17.87",
         "216.87"
        ],
        [
         "2",
         "00010242fe8c5a6d1ba2dd792cb16214",
         "delivered",
         "58.9",
         "13.29",
         "72.19"
        ],
        [
         "3",
         "00048cc3ae777c65dbb7d2a0634bc1ea",
         "delivered",
         "21.9",
         "12.69",
         "34.589999999999996"
        ],
        [
         "4",
         "001427c0ec99cf8af737bd88e92fd444",
         "delivered",
         "59.9",
         "23.35",
         "83.25"
        ],
        [
         "5",
         "0008288aa423d2a3f00fcb17cd7d8719",
         "delivered",
         "99.8",
         "26.74",
         "126.53999999999999"
        ],
        [
         "6",
         "00125cb692d04887809806618a2a145f",
         "delivered",
         "109.9",
         "25.51",
         "135.41"
        ],
        [
         "7",
         "0009c9a17f916a706d71784483a5d643",
         "delivered",
         "639.0",
         "11.34",
         "650.34"
        ],
        [
         "8",
         "001d8f0e34a38c37f7dba2a37d4eba8b",
         "delivered",
         "37.98",
         "15.56",
         "53.54"
        ],
        [
         "9",
         "000aed2e25dbad2f9ddb70584c5a2ded",
         "delivered",
         "144.0",
         "8.77",
         "152.77"
        ],
        [
         "10",
         "0015ebb40fb17286bea51d4607c4733c",
         "delivered",
         "21.9",
         "15.1",
         "37.0"
        ],
        [
         "11",
         "00169e31ef4b29deaae414f9a5e95929",
         "delivered",
         "39.0",
         "16.11",
         "55.11"
        ],
        [
         "12",
         "002175704e8b209f61b9ad5cfd92b60e",
         "delivered",
         "109.9",
         "13.21",
         "123.11000000000001"
        ],
        [
         "13",
         "0005a1a1728c9d785b8e2b08b904576c",
         "delivered",
         "145.95",
         "11.65",
         "157.6"
        ],
        [
         "14",
         "000576fe39319847cbb9d288c5617fa6",
         "delivered",
         "810.0",
         "70.75",
         "880.75"
        ],
        [
         "15",
         "00018f77f2f0320c557190d7a144bdd3",
         "delivered",
         "239.9",
         "19.93",
         "259.83"
        ],
        [
         "16",
         "0005f50442cb953dcd1d21e1fb923495",
         "delivered",
         "53.99",
         "11.4",
         "65.39"
        ],
        [
         "17",
         "00063b381e2406b52ad429470734ebd5",
         "delivered",
         "45.0",
         "12.98",
         "57.980000000000004"
        ],
        [
         "18",
         "001862358bf858722e1e2ae000cfed8b",
         "delivered",
         "99.99",
         "13.72",
         "113.71"
        ],
        [
         "19",
         "000f25f4d72195062c040b12dce9a18a",
         "delivered",
         "119.99",
         "44.4",
         "164.39"
        ],
        [
         "20",
         "0009792311464db532ff765bf7b182ae",
         "delivered",
         "99.9",
         "27.65",
         "127.55000000000001"
        ],
        [
         "21",
         "0026a368634b6e6f34f33b1499773a30",
         "delivered",
         "149.0",
         "15.8",
         "164.8"
        ],
        [
         "22",
         "001ab0a7578dd66cd4b0a71f5b6e1e41",
         "delivered",
         "74.67",
         "52.89",
         "127.56"
        ],
        [
         "23",
         "002834535f7a609a5c68266f173fa59e",
         "delivered",
         "37.99",
         "19.18",
         "57.17"
        ],
        [
         "24",
         "0010b2e5201cc5f1ae7e9c6cc8f5bd00",
         "delivered",
         "48.9",
         "16.6",
         "65.5"
        ],
        [
         "25",
         "0006ec9db01a64e59a68b2c340bf65a7",
         "delivered",
         "74.0",
         "23.32",
         "97.32"
        ],
        [
         "26",
         "000c3e6612759851cc3cbb4b83257986",
         "delivered",
         "99.0",
         "13.71",
         "112.71000000000001"
        ],
        [
         "27",
         "000e906b789b55f64edcb1f84030f90d",
         "delivered",
         "21.99",
         "11.85",
         "33.839999999999996"
        ],
        [
         "28",
         "001021efaa8636c29475e7734483457d",
         "delivered",
         "49.0",
         "15.1",
         "64.1"
        ],
        [
         "29",
         "00024acbcdf0a6daa1e931b038114c75",
         "delivered",
         "12.99",
         "12.79",
         "25.78"
        ],
        [
         "30",
         "00119ff934e539cf26f92b9ef0cdfed8",
         "delivered",
         "219.9",
         "16.98",
         "236.88"
        ],
        [
         "31",
         "0011d82c4b53e22e84023405fb467e57",
         "delivered",
         "289.0",
         "26.33",
         "315.33"
        ],
        [
         "32",
         "000e562887b1f2006d75e0be9558292e",
         "delivered",
         "25.0",
         "16.11",
         "41.11"
        ],
        [
         "33",
         "00130c0eee84a3d909e75bc08c5c3ca1",
         "delivered",
         "27.9",
         "7.94",
         "35.839999999999996"
        ],
        [
         "34",
         "002f98c0f7efd42638ed6100ca699b42",
         "delivered",
         "53.89",
         "39.730000000000004",
         "93.62"
        ],
        [
         "35",
         "00042b26cf59d7ce69dfabb4e55b4fd9",
         "delivered",
         "199.9",
         "18.14",
         "218.04000000000002"
        ],
        [
         "36",
         "001e7ba991be1b19605ca0316e7130f9",
         "delivered",
         "195.0",
         "18.21",
         "213.21"
        ],
        [
         "37",
         "0013503b13da1eac686219390b7d641b",
         "delivered",
         "119.9",
         "17.32",
         "137.22"
        ],
        [
         "38",
         "00137e170939bba5a3134e2386413108",
         "delivered",
         "397.0",
         "24.65",
         "421.65"
        ],
        [
         "39",
         "00378c6c981f234634c0b9d6128df6dd",
         "delivered",
         "41.0",
         "11.85",
         "52.85"
        ],
        [
         "40",
         "00061f2a7bc09da83e415a52dc8a4af1",
         "delivered",
         "59.99",
         "8.88",
         "68.87"
        ],
        [
         "41",
         "0020262c8a370bd5a174ea6a2a267321",
         "delivered",
         "79.5",
         "21.05",
         "100.55"
        ],
        [
         "42",
         "002611a77fe03d076285fd4ca95db77c",
         "delivered",
         "135.0",
         "21.75",
         "156.75"
        ],
        [
         "43",
         "00143d0f86d6fbd9f9b38ab440ac16f5",
         "delivered",
         "63.989999999999995",
         "45.3",
         "109.28999999999999"
        ],
        [
         "44",
         "001ac194d4a326a6fa99b581e9a3d963",
         "delivered",
         "54.0",
         "8.54",
         "62.54"
        ],
        [
         "45",
         "0028de0ca693a1bb26448916a81105cc",
         "delivered",
         "29.99",
         "15.31",
         "45.3"
        ],
        [
         "46",
         "0017afd5076e074a48f1f1a4c7bac9c5",
         "delivered",
         "809.1",
         "44.29",
         "853.39"
        ],
        [
         "47",
         "0014ae671de39511f7575066200733b7",
         "delivered",
         "16.5",
         "14.1",
         "30.6"
        ],
        [
         "48",
         "0029f17cf0e7640c5cb6825af681303f",
         "delivered",
         "94.9",
         "18.54",
         "113.44"
        ],
        [
         "49",
         "003a7f59d7e08a9c61d9e2881fe6459c",
         "delivered",
         "119.0",
         "15.28",
         "134.28"
        ]
       ],
       "shape": {
        "columns": 5,
        "rows": 98198
       }
      },
      "text/html": [
       "<div>\n",
       "<style scoped>\n",
       "    .dataframe tbody tr th:only-of-type {\n",
       "        vertical-align: middle;\n",
       "    }\n",
       "\n",
       "    .dataframe tbody tr th {\n",
       "        vertical-align: top;\n",
       "    }\n",
       "\n",
       "    .dataframe thead th {\n",
       "        text-align: right;\n",
       "    }\n",
       "</style>\n",
       "<table border=\"1\" class=\"dataframe\">\n",
       "  <thead>\n",
       "    <tr style=\"text-align: right;\">\n",
       "      <th></th>\n",
       "      <th>order_id</th>\n",
       "      <th>order_status</th>\n",
       "      <th>total_price</th>\n",
       "      <th>TOTAL_FRETE</th>\n",
       "      <th>TOTAL_PEDIDO</th>\n",
       "    </tr>\n",
       "  </thead>\n",
       "  <tbody>\n",
       "    <tr>\n",
       "      <th>0</th>\n",
       "      <td>00054e8431b9d7675808bcb819fb4a32</td>\n",
       "      <td>delivered</td>\n",
       "      <td>19.90</td>\n",
       "      <td>11.85</td>\n",
       "      <td>31.75</td>\n",
       "    </tr>\n",
       "    <tr>\n",
       "      <th>1</th>\n",
       "      <td>000229ec398224ef6ca0657da4fc703e</td>\n",
       "      <td>delivered</td>\n",
       "      <td>199.00</td>\n",
       "      <td>17.87</td>\n",
       "      <td>216.87</td>\n",
       "    </tr>\n",
       "    <tr>\n",
       "      <th>2</th>\n",
       "      <td>00010242fe8c5a6d1ba2dd792cb16214</td>\n",
       "      <td>delivered</td>\n",
       "      <td>58.90</td>\n",
       "      <td>13.29</td>\n",
       "      <td>72.19</td>\n",
       "    </tr>\n",
       "    <tr>\n",
       "      <th>3</th>\n",
       "      <td>00048cc3ae777c65dbb7d2a0634bc1ea</td>\n",
       "      <td>delivered</td>\n",
       "      <td>21.90</td>\n",
       "      <td>12.69</td>\n",
       "      <td>34.59</td>\n",
       "    </tr>\n",
       "    <tr>\n",
       "      <th>4</th>\n",
       "      <td>001427c0ec99cf8af737bd88e92fd444</td>\n",
       "      <td>delivered</td>\n",
       "      <td>59.90</td>\n",
       "      <td>23.35</td>\n",
       "      <td>83.25</td>\n",
       "    </tr>\n",
       "    <tr>\n",
       "      <th>...</th>\n",
       "      <td>...</td>\n",
       "      <td>...</td>\n",
       "      <td>...</td>\n",
       "      <td>...</td>\n",
       "      <td>...</td>\n",
       "    </tr>\n",
       "    <tr>\n",
       "      <th>98193</th>\n",
       "      <td>ffd7f21b9b4ea30d3536d4cadd19fa42</td>\n",
       "      <td>delivered</td>\n",
       "      <td>95.00</td>\n",
       "      <td>17.38</td>\n",
       "      <td>112.38</td>\n",
       "    </tr>\n",
       "    <tr>\n",
       "      <th>98194</th>\n",
       "      <td>ffef9e1de5dd07b397b373f9bb72cccf</td>\n",
       "      <td>delivered</td>\n",
       "      <td>94.00</td>\n",
       "      <td>21.50</td>\n",
       "      <td>115.50</td>\n",
       "    </tr>\n",
       "    <tr>\n",
       "      <th>98195</th>\n",
       "      <td>fff3983dfa3c5a0d752d8d17baa406a0</td>\n",
       "      <td>delivered</td>\n",
       "      <td>66.39</td>\n",
       "      <td>14.05</td>\n",
       "      <td>80.44</td>\n",
       "    </tr>\n",
       "    <tr>\n",
       "      <th>98196</th>\n",
       "      <td>fffb2ef8874127f75b52b643880fd7e0</td>\n",
       "      <td>delivered</td>\n",
       "      <td>17.90</td>\n",
       "      <td>22.06</td>\n",
       "      <td>39.96</td>\n",
       "    </tr>\n",
       "    <tr>\n",
       "      <th>98197</th>\n",
       "      <td>fffc94f6ce00a00581880bf54a75a037</td>\n",
       "      <td>delivered</td>\n",
       "      <td>299.99</td>\n",
       "      <td>43.41</td>\n",
       "      <td>343.40</td>\n",
       "    </tr>\n",
       "  </tbody>\n",
       "</table>\n",
       "<p>98198 rows × 5 columns</p>\n",
       "</div>"
      ],
      "text/plain": [
       "                               order_id order_status  total_price  \\\n",
       "0      00054e8431b9d7675808bcb819fb4a32    delivered        19.90   \n",
       "1      000229ec398224ef6ca0657da4fc703e    delivered       199.00   \n",
       "2      00010242fe8c5a6d1ba2dd792cb16214    delivered        58.90   \n",
       "3      00048cc3ae777c65dbb7d2a0634bc1ea    delivered        21.90   \n",
       "4      001427c0ec99cf8af737bd88e92fd444    delivered        59.90   \n",
       "...                                 ...          ...          ...   \n",
       "98193  ffd7f21b9b4ea30d3536d4cadd19fa42    delivered        95.00   \n",
       "98194  ffef9e1de5dd07b397b373f9bb72cccf    delivered        94.00   \n",
       "98195  fff3983dfa3c5a0d752d8d17baa406a0    delivered        66.39   \n",
       "98196  fffb2ef8874127f75b52b643880fd7e0    delivered        17.90   \n",
       "98197  fffc94f6ce00a00581880bf54a75a037    delivered       299.99   \n",
       "\n",
       "       TOTAL_FRETE  TOTAL_PEDIDO  \n",
       "0            11.85         31.75  \n",
       "1            17.87        216.87  \n",
       "2            13.29         72.19  \n",
       "3            12.69         34.59  \n",
       "4            23.35         83.25  \n",
       "...            ...           ...  \n",
       "98193        17.38        112.38  \n",
       "98194        21.50        115.50  \n",
       "98195        14.05         80.44  \n",
       "98196        22.06         39.96  \n",
       "98197        43.41        343.40  \n",
       "\n",
       "[98198 rows x 5 columns]"
      ]
     },
     "metadata": {},
     "output_type": "display_data"
    }
   ],
   "source": [
    "import pandas as pd\n",
    "from sqlalchemy import create_engine, text\n",
    "\n",
    "server = \"DESKTOP-HV85ADA\\\\SERVERSQL22\"\n",
    "bancodadosorigem =  \"OLIP\" \n",
    "driver = \"ODBC Driver 17 for SQL Server\"\n",
    "\n",
    "conexao_origem  = f\"mssql+pyodbc://{server}/{bancodadosorigem}?driver={driver}&Trusted_Connection=yes\"\n",
    "engine_origem  = create_engine(conexao_origem) # pool_size=10, max_overflow=30\n",
    "\n",
    "#Função para testar a conexão\n",
    "def testar_conexao_sqlalchemy(engine):\n",
    "    try:        \n",
    "        with engine.connect() as conexao: #Tenta conectar ao banco de dados\n",
    "            result = conexao.execute(text(\"SELECT 1 AS teste\")) #Executa uma consulta para testar a conexão\n",
    "            print(f\"Query teste executada com sucesso, conexão com o banco de dados {engine} bem-sucedida\")\n",
    "            return\n",
    "    except Exception as e:\n",
    "        print(f\"Erro ao conectar ao banco de dados: {e}\")\n",
    "        return False\n",
    "#testa a conexão\n",
    "testar_conexao_sqlalchemy(engine_origem) \n",
    "\n",
    "df_TABELA_CONSOLIDADA = pd.read_sql(\"SELECT * FROM TABELA_ORDER_CONSOLIDADA\", engine_origem)\n",
    "\n",
    "display(df_TABELA_CONSOLIDADA)"
   ]
  },
  {
   "cell_type": "code",
   "execution_count": null,
   "metadata": {},
   "outputs": [],
   "source": [
    "_"
   ]
  }
 ],
 "metadata": {
  "kernelspec": {
   "display_name": "Python 3",
   "language": "python",
   "name": "python3"
  },
  "language_info": {
   "codemirror_mode": {
    "name": "ipython",
    "version": 3
   },
   "file_extension": ".py",
   "mimetype": "text/x-python",
   "name": "python",
   "nbconvert_exporter": "python",
   "pygments_lexer": "ipython3",
   "version": "3.13.2"
  }
 },
 "nbformat": 4,
 "nbformat_minor": 2
}
