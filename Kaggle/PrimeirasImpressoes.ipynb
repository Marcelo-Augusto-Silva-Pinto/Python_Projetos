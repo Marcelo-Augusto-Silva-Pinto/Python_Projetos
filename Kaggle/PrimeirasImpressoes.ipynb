{
 "cells": [
  {
   "cell_type": "code",
   "execution_count": null,
   "metadata": {},
   "outputs": [
    {
     "name": "stdout",
     "output_type": "stream",
     "text": [
      "Total de Valores originais df_olist_order_payments_dataset\n"
     ]
    },
    {
     "data": {
      "text/plain": [
       "99440"
      ]
     },
     "metadata": {},
     "output_type": "display_data"
    },
    {
     "name": "stdout",
     "output_type": "stream",
     "text": [
      "Total de Valores originais df_olist_order_items_dataset\n"
     ]
    },
    {
     "data": {
      "text/plain": [
       "98666"
      ]
     },
     "metadata": {},
     "output_type": "display_data"
    },
    {
     "name": "stdout",
     "output_type": "stream",
     "text": [
      "Valores repetidos de df_olist_order_payments_dataset\n"
     ]
    },
    {
     "data": {
      "text/plain": [
       "2961"
      ]
     },
     "metadata": {},
     "output_type": "display_data"
    },
    {
     "name": "stdout",
     "output_type": "stream",
     "text": [
      "Valores repetidos de df_olist_order_items_dataset\n"
     ]
    },
    {
     "data": {
      "text/plain": [
       "9803"
      ]
     },
     "metadata": {},
     "output_type": "display_data"
    }
   ],
   "source": [
    "import pandas as pd\n",
    "import os\n",
    "import numpy as np\n",
    "\n",
    "def strip_all_types(col):\n",
    "    # Converte a coluna para string, remove espaços extras e aplica strip\n",
    "    col_stripped = col.astype(str).str.replace(r'\\s+', ' ', regex=True).str.strip()\n",
    "    \n",
    "    # Converte de volta para o tipo original da coluna\n",
    "    if np.issubdtype(col.dtype, np.integer):  # Se for inteiro\n",
    "        return pd.to_numeric(col_stripped, errors='coerce').astype(col.dtype)\n",
    "    elif np.issubdtype(col.dtype, np.floating):  # Se for float\n",
    "        return pd.to_numeric(col_stripped, errors='coerce').astype(col.dtype)\n",
    "    elif np.issubdtype(col.dtype, np.datetime64):  # Se for data\n",
    "        return pd.to_datetime(col_stripped, errors='coerce')\n",
    "    else:  # Se for string ou outro tipo\n",
    "        return col_stripped\n",
    "\n",
    "#caminho = r\"C:\\Users\\marce\\OneDrive\\Arquivos Antigos\\Área de Trabalho\\Kaggle\\olist_geolocation_dataset.csv\"\n",
    "#df = pd.read_csv(caminho, delimiter=\",\")\n",
    "\n",
    "pasta = r\"C:\\Users\\marce\\OneDrive\\Arquivos Antigos\\Área de Trabalho\\Kaggle\\OLIST\"\n",
    "\n",
    "def ler_csv_para_df(pasta):\n",
    "    \n",
    "    dataframes = {}\n",
    "\n",
    "    for arquivo in os.listdir(pasta):\n",
    "        if arquivo.endswith('.csv'):\n",
    "            nome_df = f\"df_{os.path.splitext(arquivo)[0]}\"\n",
    "\n",
    "            caminho_completo = os.path.join(pasta, arquivo)\n",
    "            dataframes[nome_df] = pd.read_csv(caminho_completo)\n",
    "\n",
    "    return dataframes\n",
    "\n",
    "\n",
    "dfs = ler_csv_para_df(pasta)\n",
    "globals().update(dfs)\n",
    "#for nome_df, df in dfs.items():\n",
    "#    print(f\"\\n{nome_df}\")\n",
    "\n",
    "contagem = df_olist_order_payments_dataset['order_id'].value_counts()\n",
    "contagem2 = df_olist_order_items_dataset['order_id'].value_counts()\n",
    "valores_repetidos = contagem[contagem > 1].index.tolist()\n",
    "valores_repetidos2 = contagem2[contagem2 > 1].index.tolist()\n",
    "valores_repetidos_completo = list(set(valores_repetidos+valores_repetidos2))\n",
    "\n",
    "df_repetidos = df_olist_order_payments_dataset[df_olist_order_payments_dataset['order_id'].isin(valores_repetidos_completo)]\n",
    "df_olist_order_payments_dataset = df_olist_order_payments_dataset[~df_olist_order_payments_dataset['order_id'].isin(valores_repetidos_completo)]\n",
    "\n",
    "df_repetidos2 = df_olist_order_items_dataset[df_olist_order_items_dataset['order_id'].isin(valores_repetidos_completo)]\n",
    "df_olist_order_items_dataset = df_olist_order_items_dataset[~df_olist_order_items_dataset['order_id'].isin(valores_repetidos_completo)]\n",
    "\n",
    "#contagem3 = df_olist_order_reviews_dataset['order_id'].value_counts()\n",
    "#df_olist_order_reviews_dataset = df_olist_order_reviews_dataset[~df_olist_order_reviews_dataset['order_id'].isin(valores_repetidos)]\n",
    "#\n",
    "#contagem4 = df_olist_orders_dataset['order_id'].value_counts()\n",
    "#df_olist_orders_dataset2 = df_olist_orders_dataset[~df_olist_orders_dataset['order_id'].isin(valores_repetidos)]\n",
    "\n",
    "#df.columns = []\n",
    "#colunas_arredondar = []\n",
    "#df[colunas_arredondar] = df[colunas_arredondar].round(2)\n",
    "#df = df.drop(df[df[\"PRECO_VENDA\"] <= 1].index) #remove linhas em que o valor do preco de custo e menor que 1\n",
    "##Multiplica valores negativos da coluna FREQUENCIA_COMPRA por -1\n",
    "#condicao = df[\"FREQUENCIA_COMPRA\"] <= 0\n",
    "#df.loc[condicao, \"FREQUENCIA_COMPRA\"] = df.loc[condicao, \"FREQUENCIA_COMPRA\"]* -1\n",
    "#\n",
    "#contagem_nulos = df.isna().sum()\n",
    "#df = df.apply(strip_all_types) #remove espacos desnecessarios\n",
    "#media_idade = df[\"IDADE_CLIENTE\"].mean().round(0) #calcula media da coluna\n",
    "#df = df.fillna(media_idade) #preenche as celulas vazias com a media da idade\n",
    "\n"
   ]
  },
  {
   "cell_type": "code",
   "execution_count": null,
   "metadata": {},
   "outputs": [],
   "source": [
    "import pandas as pd\n",
    "import numpy as np\n",
    "\n",
    "def strip_all_types(col):\n",
    "    # Converte a coluna para string, remove espaços extras e aplica strip\n",
    "    col_stripped = col.astype(str).str.replace(r'\\s+', ' ', regex=True).str.strip()\n",
    "    \n",
    "    # Converte de volta para o tipo original da coluna\n",
    "    if np.issubdtype(col.dtype, np.integer):  # Se for inteiro\n",
    "        return pd.to_numeric(col_stripped, errors='coerce').astype(col.dtype)\n",
    "    elif np.issubdtype(col.dtype, np.floating):  # Se for float\n",
    "        return pd.to_numeric(col_stripped, errors='coerce').astype(col.dtype)\n",
    "    elif np.issubdtype(col.dtype, np.datetime64):  # Se for data\n",
    "        return pd.to_datetime(col_stripped, errors='coerce')\n",
    "    else:  # Se for string ou outro tipo\n",
    "        return col_stripped\n",
    "\n",
    "df = pd.read_csv(r\"C:\\Users\\marce\\OneDrive\\Arquivos Antigos\\Área de Trabalho\\Kaggle\\Multiclass Clothing Sales Dataset.csv\", delimiter=\",\")\n",
    "df.columns = [\"CATEGORIA\",\"MARCA\",\"NOME_PRODUTO\",\"GENERO\",\"TAMANHO\",\"COR\",\"ESTACAO\",\"METODO_PAGAMENTO\",\n",
    "              \"TIPO_CONSUMIDOR\",\"PRECO_VENDA\",\"PRECO_CUSTO\",\"DESCONTO(%)\",\"QUANT_VENDAS\",\"VENDAS_TOTAIS\",\n",
    "              \"ESTOQUE\",\"IDADE_CLIENTE\",\"FREQUENCIA_COMPRA\",\"AVALIACAO_LOJA\",\"TAXA_RETORNO\",\"CATEGORIA_VENDAS\",]\n",
    "colunas_arredondar = [\"PRECO_VENDA\", \"PRECO_CUSTO\",\"DESCONTO(%)\",\"VENDAS_TOTAIS\",\"FREQUENCIA_COMPRA\",\"AVALIACAO_LOJA\",\"TAXA_RETORNO\"]\n",
    "df[colunas_arredondar] = df[colunas_arredondar].round(2)\n",
    "df = df.drop(df[df[\"PRECO_VENDA\"] <= 1].index) #remove linhas em que o valor do preco de custo e menor que 1\n",
    "df = df.drop(df[df[\"PRECO_CUSTO\"] <= 1].index) \n",
    "df = df.drop(df[df[\"VENDAS_TOTAIS\"] <= 1].index)\n",
    "\n",
    "\n",
    "#Multiplica valores negativos da coluna FREQUENCIA_COMPRA por -1\n",
    "condicao = df[\"FREQUENCIA_COMPRA\"] <= 0\n",
    "df.loc[condicao, \"FREQUENCIA_COMPRA\"] = df.loc[condicao, \"FREQUENCIA_COMPRA\"]* -1\n",
    "df.loc[(df[\"FREQUENCIA_COMPRA\"] == -0.0), \"FREQUENCIA_COMPRA\"] = df.loc[(df[\"FREQUENCIA_COMPRA\"] == 0.0), \"FREQUENCIA_COMPRA\"]\n",
    "\n",
    "contagem_nulos = df.isna().sum()\n",
    "df = df.apply(strip_all_types) #remove espacos desnecessarios\n",
    "media_idade = df[\"IDADE_CLIENTE\"].mean().round(0) #calcula media da coluna\n",
    "df = df.fillna(media_idade) #preenche as celulas vazias com a media da idade\n",
    "\n",
    "display(df)\n",
    "\n"
   ]
  },
  {
   "cell_type": "code",
   "execution_count": null,
   "metadata": {},
   "outputs": [],
   "source": [
    "import pandas as pd\n",
    "import os\n",
    "import numpy as np\n",
    "\n",
    "pasta = r\"C:\\Users\\marce\\OneDrive\\Arquivos Antigos\\Área de Trabalho\\Kaggle\\OLIST\"\n",
    "\n",
    "def ler_csv_para_df(pasta):\n",
    "    \n",
    "    dataframes = {}\n",
    "\n",
    "    for arquivo in os.listdir(pasta):\n",
    "        if arquivo.endswith('.csv'):\n",
    "            nome_df = f\"df_{os.path.splitext(arquivo)[0]}\"\n",
    "\n",
    "            caminho_completo = os.path.join(pasta, arquivo)\n",
    "            dataframes[nome_df] = pd.read_csv(caminho_completo)\n",
    "\n",
    "    return dataframes\n",
    "\n",
    "\n",
    "dfs = ler_csv_para_df(pasta)\n",
    "globals().update(dfs)\n",
    "#for nome_df, df in dfs.items():\n",
    "#    print(f\"\\n{nome_df}\")\n",
    "\n",
    "#soma_por_id = df_olist_order_payments_dataset.groupby('order_id')['payment_value'].sum().reset_index()\n",
    "#soma_por_id.columns = ['ID', 'Soma_Por_ID']  # Renomeando as colunas\n",
    "#\n",
    "## PASSO 2: Calcular a soma total geral da coluna B após o passo 1\n",
    "#soma_total = soma_por_id['Soma_Por_ID'].sum()\n",
    "\n",
    "soma_por_id = df_olist_order_items_dataset.groupby('order_id')['freight_value'].sum().reset_index()\n",
    "soma_por_id.columns = ['ID', 'Soma_Por_ID']  # Renomeando as colunas\n",
    "\n",
    "# PASSO 2: Calcular a soma total geral da coluna B após o passo 1\n",
    "soma_total = soma_por_id['Soma_Por_ID'].sum()\n",
    "\n",
    "print(\"DataFrame original:\")\n",
    "print(df)\n",
    "print(\"\\nSoma por ID (Passo 1):\")\n",
    "print(soma_por_id)\n",
    "print(\"\\nSoma total geral (Passo 2):\", soma_total)\n",
    "\n",
    "\n",
    "#contagem = df_olist_order_payments_dataset['order_id'].value_counts()\n",
    "#contagem2 = df_olist_order_items_dataset['order_id'].value_counts()\n",
    "#valores_repetidos = contagem[contagem > 1].index.tolist()\n",
    "#valores_repetidos2 = contagem2[contagem2 > 1].index.tolist()\n",
    "#valores_repetidos_completo = list(set(valores_repetidos+valores_repetidos2))\n",
    "#\n",
    "#df_repetidos = df_olist_order_payments_dataset[df_olist_order_payments_dataset['order_id'].isin(valores_repetidos_completo)]\n",
    "#df_olist_order_payments_dataset2 = df_olist_order_payments_dataset[~df_olist_order_payments_dataset['order_id'].isin(valores_repetidos_completo)]\n",
    "#\n",
    "#df_repetidos2 = df_olist_order_items_dataset[df_olist_order_items_dataset['order_id'].isin(valores_repetidos_completo)]\n",
    "#df_olist_order_items_dataset2 = df_olist_order_items_dataset[~df_olist_order_items_dataset['order_id'].isin(valores_repetidos_completo)]\n"
   ]
  }
 ],
 "metadata": {
  "kernelspec": {
   "display_name": "Python 3",
   "language": "python",
   "name": "python3"
  },
  "language_info": {
   "codemirror_mode": {
    "name": "ipython",
    "version": 3
   },
   "file_extension": ".py",
   "mimetype": "text/x-python",
   "name": "python",
   "nbconvert_exporter": "python",
   "pygments_lexer": "ipython3",
   "version": "3.13.2"
  }
 },
 "nbformat": 4,
 "nbformat_minor": 2
}
