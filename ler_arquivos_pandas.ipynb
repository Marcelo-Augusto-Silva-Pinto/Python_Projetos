{
 "cells": [
  {
   "cell_type": "code",
   "execution_count": null,
   "metadata": {},
   "outputs": [],
   "source": [
    "#Ler um arquivo em formato tabular (separado por espaco ou TAB)\n",
    "import pandas as pd\n",
    "\n",
    "df = pd.read_table(r\"C:\\Users\\marce\\OneDrive\\Arquivos Antigos\\Documentos\\GitHub\\Python\\Datasets\\Sanduiches.txt\")\n",
    "\n",
    "df.head(5)"
   ]
  },
  {
   "cell_type": "code",
   "execution_count": null,
   "metadata": {},
   "outputs": [],
   "source": [
    "#Ler um arquivo em formato txt separado por |\n",
    "\n",
    "import pandas as pd\n",
    "\n",
    "caminho_arquivo = r\"C:\\Users\\marce\\OneDrive\\Arquivos Antigos\\Documentos\\GitHub\\Python\\Datasets\\Users.txt\"\n",
    "\n",
    "colunas_cabecalho = ['id','idade','genero','profissao','cep']\n",
    "\n",
    "df = pd.read_table(caminho_arquivo,sep='|',header=None,names=colunas_cabecalho) #header eh o cabecalho\n",
    "\n",
    "df.head(5)"
   ]
  },
  {
   "cell_type": "code",
   "execution_count": null,
   "metadata": {},
   "outputs": [],
   "source": [
    "#Ler um arquivo CSV separado por ,\n",
    "\n",
    "import pandas as pd\n",
    "\n",
    "caminho_arquivo = r\"C:\\Users\\marce\\OneDrive\\Arquivos Antigos\\Documentos\\GitHub\\Python\\Datasets\\ufo.csv\"\n",
    "\n",
    "df = pd.read_csv(caminho_arquivo) \n",
    "\n",
    "df.head(5)"
   ]
  },
  {
   "cell_type": "code",
   "execution_count": null,
   "metadata": {},
   "outputs": [],
   "source": [
    "#Ler um arquivo de posicao fixa, separado por espacos iguais\n",
    "\n",
    "import pandas as pd\n",
    "\n",
    "caminho_arquivo = r\"C:\\Users\\marce\\OneDrive\\Arquivos Antigos\\Documentos\\GitHub\\Python\\Datasets\\LarguraFixa.txt\"\n",
    "\n",
    "df = pd.read_fwf(caminho_arquivo) \n",
    "\n",
    "df.head(5)"
   ]
  },
  {
   "cell_type": "code",
   "execution_count": null,
   "metadata": {},
   "outputs": [],
   "source": [
    "#Ler um arquivo de posicao com espacos irregulares\n",
    "\n",
    "import pandas as pd\n",
    "\n",
    "caminho_arquivo = r\"C:\\Users\\marce\\OneDrive\\Arquivos Antigos\\Documentos\\GitHub\\Python\\Datasets\\SepEspaco.txt\"\n",
    "\n",
    "#regex = '\\s+' #expressao regular, \\s significa espaco e o + em seguida significa selecionar tudo apos o espaco\n",
    "\n",
    "#engine = 'python' eh necessario para se usar uma expressao regular como separador\n",
    "#So usei duas contrabarras para remover o warming\n",
    "\n",
    "df = pd.read_csv(caminho_arquivo, sep='\\\\s+',engine='python') \n",
    "\n",
    "df.head(10)"
   ]
  }
 ],
 "metadata": {
  "kernelspec": {
   "display_name": "Python 3",
   "language": "python",
   "name": "python3"
  },
  "language_info": {
   "codemirror_mode": {
    "name": "ipython",
    "version": 3
   },
   "file_extension": ".py",
   "mimetype": "text/x-python",
   "name": "python",
   "nbconvert_exporter": "python",
   "pygments_lexer": "ipython3",
   "version": "3.13.2"
  }
 },
 "nbformat": 4,
 "nbformat_minor": 2
}
