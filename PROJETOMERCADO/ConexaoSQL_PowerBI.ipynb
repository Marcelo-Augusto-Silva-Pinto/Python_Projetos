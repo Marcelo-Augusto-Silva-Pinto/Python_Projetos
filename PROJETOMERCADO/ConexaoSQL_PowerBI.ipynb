{
 "cells": [
  {
   "cell_type": "code",
   "execution_count": 1,
   "metadata": {},
   "outputs": [
    {
     "name": "stdout",
     "output_type": "stream",
     "text": [
      "Query teste executada com sucesso, conexão com o banco de dados Engine(mssql+pyodbc://DESKTOP-HV85ADA\\PROJETO_MERCADO/MERCADO_DATAWAREHOUSE?Trusted_Connection=yes&driver=ODBC+Driver+17+for+SQL+Server) bem-sucedida\n"
     ]
    },
    {
     "data": {
      "application/vnd.microsoft.datawrangler.viewer.v0+json": {
       "columns": [
        {
         "name": "index",
         "rawType": "int64",
         "type": "integer"
        },
        {
         "name": "IDSK",
         "rawType": "int64",
         "type": "integer"
        },
        {
         "name": "IDPRODUTO",
         "rawType": "int64",
         "type": "integer"
        },
        {
         "name": "PRODUTO",
         "rawType": "object",
         "type": "string"
        },
        {
         "name": "CATEGORIA",
         "rawType": "object",
         "type": "string"
        },
        {
         "name": "PRECO_CUSTO",
         "rawType": "float64",
         "type": "float"
        },
        {
         "name": "PRECO_UNIT",
         "rawType": "float64",
         "type": "float"
        }
       ],
       "conversionMethod": "pd.DataFrame",
       "ref": "e52b7b35-70ba-422a-a747-f2acf58fdfaa",
       "rows": [
        [
         "0",
         "1",
         "1",
         "Maca Emulzint",
         "Hortifruti",
         "6.7",
         "8.54"
        ],
        [
         "1",
         "2",
         "2",
         "Saco de lixo reciclavel Itambe",
         "Limpeza",
         "4.19",
         "6.3"
        ],
        [
         "2",
         "3",
         "3",
         "Farinha de aveia Nestle",
         "Mercearia",
         "5.12",
         "7.49"
        ],
        [
         "3",
         "4",
         "4",
         "Agua mineral Ponde",
         "Bebidas",
         "2.96",
         "3.62"
        ],
        [
         "4",
         "5",
         "5",
         "Feijoada congelada Marge",
         "Congelados",
         "20.79",
         "30.55"
        ],
        [
         "5",
         "6",
         "6",
         "Salgadinho Astra",
         "Mercearia",
         "2.09",
         "3.13"
        ],
        [
         "6",
         "7",
         "7",
         "Mortadela Sadia",
         "Carnes",
         "12.2",
         "18.38"
        ],
        [
         "7",
         "8",
         "8",
         "Leite de soja Tang",
         "Mercearia",
         "10.27",
         "15.16"
        ],
        [
         "8",
         "9",
         "9",
         "Iogurte natural Fit Food",
         "Laticinios",
         "2.61",
         "3.27"
        ],
        [
         "9",
         "10",
         "10",
         "Azeite Close-Up",
         "Mercearia",
         "16.8",
         "19.86"
        ],
        [
         "10",
         "11",
         "11",
         "Alcool liquido Elma Chips",
         "Limpeza",
         "7.9",
         "11.84"
        ],
        [
         "11",
         "12",
         "12",
         "Maionese Piracanjuba",
         "Mercearia",
         "5.05",
         "7.68"
        ],
        [
         "12",
         "13",
         "13",
         "Cera para moveis JBS",
         "Limpeza",
         "14.72",
         "19.92"
        ],
        [
         "13",
         "14",
         "14",
         "Fermento biologico Nescafe",
         "Mercearia",
         "4.61",
         "6.38"
        ],
        [
         "14",
         "15",
         "15",
         "Linguica Dove",
         "Carnes",
         "12.32",
         "16.71"
        ],
        [
         "15",
         "16",
         "16",
         "Gelatina Bis",
         "Mercearia",
         "1.69",
         "2.16"
        ],
        [
         "16",
         "17",
         "17",
         "Carne bovina Vivo",
         "Carnes",
         "39.41",
         "46.38"
        ],
        [
         "17",
         "18",
         "18",
         "Difusor de aromas Oster",
         "Limpeza",
         "12.02",
         "15.91"
        ],
        [
         "18",
         "19",
         "19",
         "Prato Ponde",
         "Utensilios",
         "20.65",
         "28.56"
        ],
        [
         "19",
         "20",
         "20",
         "Nuggets de frango Renata",
         "Congelados",
         "13.85",
         "20.95"
        ],
        [
         "20",
         "21",
         "21",
         "Manteiga Danone",
         "Laticinios",
         "8.68",
         "10.9"
        ],
        [
         "21",
         "22",
         "22",
         "Pao de alho Huggies",
         "Padaria",
         "12.26",
         "14.66"
        ],
        [
         "22",
         "23",
         "23",
         "Gengibre Omo",
         "Hortifruti",
         "9.77",
         "14.46"
        ],
        [
         "23",
         "24",
         "24",
         "Hamburguer congelado Nestle",
         "Congelados",
         "17.66",
         "24.27"
        ],
        [
         "24",
         "25",
         "25",
         "Desodorante aerosol Pervical",
         "Higiene Pessoal",
         "11.98",
         "16.92"
        ],
        [
         "25",
         "26",
         "26",
         "Gin Rochedo",
         "Bebidas Alcoolicas",
         "50.12",
         "75.18"
        ],
        [
         "26",
         "27",
         "27",
         "Seleta de legumes Kibon",
         "Mercearia",
         "4.32",
         "6.49"
        ],
        [
         "27",
         "28",
         "28",
         "Farinha de amendoas Ducoco",
         "Mercearia",
         "15.98",
         "20.53"
        ],
        [
         "28",
         "29",
         "29",
         "Melancia Lucarini",
         "Hortifruti",
         "4.89",
         "6.9"
        ],
        [
         "29",
         "30",
         "30",
         "Farinha de trigo sarraceno Ponde",
         "Mercearia",
         "9.06",
         "12.91"
        ],
        [
         "30",
         "31",
         "31",
         "Pipoca zero acucar Santo Antonio",
         "Mercearia",
         "4.06",
         "5.38"
        ],
        [
         "31",
         "32",
         "32",
         "Chantilly Cargill",
         "Mercearia",
         "8.76",
         "13.17"
        ],
        [
         "32",
         "33",
         "33",
         "Iogurte com frutas Pia",
         "Laticinios",
         "7.12",
         "10.26"
        ],
        [
         "33",
         "34",
         "34",
         "Queijo parmesao Gallo",
         "Laticinios",
         "58.01",
         "74.48"
        ],
        [
         "34",
         "35",
         "35",
         "Limpa-forno Green Valley",
         "Limpeza",
         "6.69",
         "8.52"
        ],
        [
         "35",
         "36",
         "36",
         "Amaciante perfumado Ferrero",
         "Limpeza",
         "6.17",
         "8.48"
        ],
        [
         "36",
         "37",
         "37",
         "Biscoito de aveia Aviacao",
         "Mercearia",
         "4.86",
         "7.06"
        ],
        [
         "37",
         "38",
         "38",
         "Bacon Clear",
         "Carnes",
         "29.41",
         "36.0"
        ],
        [
         "38",
         "39",
         "39",
         "Pao de milho Bombril",
         "Padaria",
         "7.79",
         "9.72"
        ],
        [
         "39",
         "40",
         "40",
         "Balas Del Valle",
         "Mercearia",
         "0.85",
         "1.18"
        ],
        [
         "40",
         "41",
         "41",
         "Achocolatado Marta Rocha",
         "Mercearia",
         "4.81",
         "6.48"
        ],
        [
         "41",
         "42",
         "42",
         "Creme para pentear Emulzint",
         "Higiene Pessoal",
         "15.09",
         "19.39"
        ],
        [
         "42",
         "43",
         "43",
         "Prato Ambev",
         "Utensilios",
         "11.61",
         "17.59"
        ],
        [
         "43",
         "44",
         "44",
         "Catuaba Yoki",
         "Bebidas Alcoolicas",
         "14.81",
         "20.44"
        ],
        [
         "44",
         "45",
         "45",
         "Beterraba Vovo Alzira",
         "Hortifruti",
         "2.47",
         "3.4"
        ],
        [
         "45",
         "46",
         "46",
         "Refrigerante Passoca",
         "Bebidas",
         "6.18",
         "8.25"
        ],
        [
         "46",
         "47",
         "47",
         "Lasanha Coqueiro",
         "Padaria",
         "21.22",
         "29.52"
        ],
        [
         "47",
         "48",
         "48",
         "Pipoca zero gordura Rei do Mate",
         "Mercearia",
         "3.33",
         "5.09"
        ],
        [
         "48",
         "49",
         "49",
         "Locao pos-barba Nugget",
         "Higiene Pessoal",
         "35.5",
         "49.79"
        ],
        [
         "49",
         "50",
         "50",
         "Iogurte com frutas Fit Food",
         "Laticinios",
         "7.14",
         "8.95"
        ]
       ],
       "shape": {
        "columns": 6,
        "rows": 98059
       }
      },
      "text/html": [
       "<div>\n",
       "<style scoped>\n",
       "    .dataframe tbody tr th:only-of-type {\n",
       "        vertical-align: middle;\n",
       "    }\n",
       "\n",
       "    .dataframe tbody tr th {\n",
       "        vertical-align: top;\n",
       "    }\n",
       "\n",
       "    .dataframe thead th {\n",
       "        text-align: right;\n",
       "    }\n",
       "</style>\n",
       "<table border=\"1\" class=\"dataframe\">\n",
       "  <thead>\n",
       "    <tr style=\"text-align: right;\">\n",
       "      <th></th>\n",
       "      <th>IDSK</th>\n",
       "      <th>IDPRODUTO</th>\n",
       "      <th>PRODUTO</th>\n",
       "      <th>CATEGORIA</th>\n",
       "      <th>PRECO_CUSTO</th>\n",
       "      <th>PRECO_UNIT</th>\n",
       "    </tr>\n",
       "  </thead>\n",
       "  <tbody>\n",
       "    <tr>\n",
       "      <th>0</th>\n",
       "      <td>1</td>\n",
       "      <td>1</td>\n",
       "      <td>Maca Emulzint</td>\n",
       "      <td>Hortifruti</td>\n",
       "      <td>6.70</td>\n",
       "      <td>8.54</td>\n",
       "    </tr>\n",
       "    <tr>\n",
       "      <th>1</th>\n",
       "      <td>2</td>\n",
       "      <td>2</td>\n",
       "      <td>Saco de lixo reciclavel Itambe</td>\n",
       "      <td>Limpeza</td>\n",
       "      <td>4.19</td>\n",
       "      <td>6.30</td>\n",
       "    </tr>\n",
       "    <tr>\n",
       "      <th>2</th>\n",
       "      <td>3</td>\n",
       "      <td>3</td>\n",
       "      <td>Farinha de aveia Nestle</td>\n",
       "      <td>Mercearia</td>\n",
       "      <td>5.12</td>\n",
       "      <td>7.49</td>\n",
       "    </tr>\n",
       "    <tr>\n",
       "      <th>3</th>\n",
       "      <td>4</td>\n",
       "      <td>4</td>\n",
       "      <td>Agua mineral Ponde</td>\n",
       "      <td>Bebidas</td>\n",
       "      <td>2.96</td>\n",
       "      <td>3.62</td>\n",
       "    </tr>\n",
       "    <tr>\n",
       "      <th>4</th>\n",
       "      <td>5</td>\n",
       "      <td>5</td>\n",
       "      <td>Feijoada congelada Marge</td>\n",
       "      <td>Congelados</td>\n",
       "      <td>20.79</td>\n",
       "      <td>30.55</td>\n",
       "    </tr>\n",
       "    <tr>\n",
       "      <th>...</th>\n",
       "      <td>...</td>\n",
       "      <td>...</td>\n",
       "      <td>...</td>\n",
       "      <td>...</td>\n",
       "      <td>...</td>\n",
       "      <td>...</td>\n",
       "    </tr>\n",
       "    <tr>\n",
       "      <th>98054</th>\n",
       "      <td>98055</td>\n",
       "      <td>98055</td>\n",
       "      <td>Gin Bolos Finos</td>\n",
       "      <td>Bebidas Alcoolicas</td>\n",
       "      <td>58.05</td>\n",
       "      <td>88.19</td>\n",
       "    </tr>\n",
       "    <tr>\n",
       "      <th>98055</th>\n",
       "      <td>98056</td>\n",
       "      <td>98056</td>\n",
       "      <td>Iogurte Halls</td>\n",
       "      <td>Laticinios</td>\n",
       "      <td>8.47</td>\n",
       "      <td>11.75</td>\n",
       "    </tr>\n",
       "    <tr>\n",
       "      <th>98056</th>\n",
       "      <td>98057</td>\n",
       "      <td>98057</td>\n",
       "      <td>Sushi Fini</td>\n",
       "      <td>Carnes</td>\n",
       "      <td>9.96</td>\n",
       "      <td>14.58</td>\n",
       "    </tr>\n",
       "    <tr>\n",
       "      <th>98057</th>\n",
       "      <td>98058</td>\n",
       "      <td>98058</td>\n",
       "      <td>Biscoito cream cracker Marge</td>\n",
       "      <td>Mercearia</td>\n",
       "      <td>2.59</td>\n",
       "      <td>3.65</td>\n",
       "    </tr>\n",
       "    <tr>\n",
       "      <th>98058</th>\n",
       "      <td>98059</td>\n",
       "      <td>98059</td>\n",
       "      <td>Limpador multiuso Mochilao</td>\n",
       "      <td>Limpeza</td>\n",
       "      <td>3.77</td>\n",
       "      <td>5.36</td>\n",
       "    </tr>\n",
       "  </tbody>\n",
       "</table>\n",
       "<p>98059 rows × 6 columns</p>\n",
       "</div>"
      ],
      "text/plain": [
       "        IDSK  IDPRODUTO                         PRODUTO           CATEGORIA  \\\n",
       "0          1          1                   Maca Emulzint          Hortifruti   \n",
       "1          2          2  Saco de lixo reciclavel Itambe             Limpeza   \n",
       "2          3          3         Farinha de aveia Nestle           Mercearia   \n",
       "3          4          4              Agua mineral Ponde             Bebidas   \n",
       "4          5          5        Feijoada congelada Marge          Congelados   \n",
       "...      ...        ...                             ...                 ...   \n",
       "98054  98055      98055                 Gin Bolos Finos  Bebidas Alcoolicas   \n",
       "98055  98056      98056                   Iogurte Halls          Laticinios   \n",
       "98056  98057      98057                      Sushi Fini              Carnes   \n",
       "98057  98058      98058    Biscoito cream cracker Marge           Mercearia   \n",
       "98058  98059      98059      Limpador multiuso Mochilao             Limpeza   \n",
       "\n",
       "       PRECO_CUSTO  PRECO_UNIT  \n",
       "0             6.70        8.54  \n",
       "1             4.19        6.30  \n",
       "2             5.12        7.49  \n",
       "3             2.96        3.62  \n",
       "4            20.79       30.55  \n",
       "...            ...         ...  \n",
       "98054        58.05       88.19  \n",
       "98055         8.47       11.75  \n",
       "98056         9.96       14.58  \n",
       "98057         2.59        3.65  \n",
       "98058         3.77        5.36  \n",
       "\n",
       "[98059 rows x 6 columns]"
      ]
     },
     "metadata": {},
     "output_type": "display_data"
    }
   ],
   "source": [
    "import pandas as pd\n",
    "from sqlalchemy import create_engine, text\n",
    "\n",
    "server = \"DESKTOP-HV85ADA\\\\PROJETO_MERCADO\"\n",
    "bancodadosorigem =  \"MERCADO_DATAWAREHOUSE\" \n",
    "driver = \"ODBC Driver 17 for SQL Server\"\n",
    "\n",
    "conexao_origem  = f\"mssql+pyodbc://{server}/{bancodadosorigem}?driver={driver}&Trusted_Connection=yes\"\n",
    "engine_origem  = create_engine(conexao_origem) # pool_size=10, max_overflow=30\n",
    "\n",
    "#Função para testar a conexão\n",
    "def testar_conexao_sqlalchemy(engine):\n",
    "    try:        \n",
    "        with engine.connect() as conexao: #Tenta conectar ao banco de dados\n",
    "            result = conexao.execute(text(\"SELECT 1 AS teste\")) #Executa uma consulta para testar a conexão\n",
    "            print(f\"Query teste executada com sucesso, conexão com o banco de dados {engine} bem-sucedida\")\n",
    "            return\n",
    "    except Exception as e:\n",
    "        print(f\"Erro ao conectar ao banco de dados: {e}\")\n",
    "        return False\n",
    "#testa a conexão\n",
    "testar_conexao_sqlalchemy(engine_origem) \n",
    "\n",
    "df_dim_produto = pd.read_sql(\"SELECT * FROM DIM_PRODUTO\", engine_origem)\n",
    "\n",
    "display(df_dim_produto)\n",
    "\n",
    "#lista_categoria = ['CIDADE','CLIENTE','DEPARTAMENTO','ESTADO','FUNCIONARIO','GERENTE','ITEMNOTA','LOJA',\n",
    "#                   'NOTAFISCAL','PRODUTO','TEMPO']\n",
    "#\n",
    "#def ler_tabelas(conn_fonte, lista_tabelas):\n",
    "#\n",
    "#    dataframes = {}\n",
    "#    try:\n",
    "#        with engine_origem.connect() as conn:\n",
    "#            for tabela in lista_tabelas:\n",
    "#                df = pd.read_sql(f\"SELECT * FROM DIM_{tabela}\", conn_fonte)\n",
    "#                globals()[f'DIM_{tabela.upper()}'] = df \n",
    "#                print(f\"Tabela {tabela} lida com sucesso. Shape: {df.shape}\")\n",
    "#    except Exception as e:\n",
    "#        print(f'Erro ao ler os dados. Erro: {e}')\n",
    "#        raise\n",
    "#\n",
    "#dfs = ler_tabelas(engine_origem,lista_categoria)\n",
    "#\n",
    "#DIM_CIDADE = DIM_CIDADE\n",
    "\n",
    "\n"
   ]
  }
 ],
 "metadata": {
  "kernelspec": {
   "display_name": "Python 3",
   "language": "python",
   "name": "python3"
  },
  "language_info": {
   "codemirror_mode": {
    "name": "ipython",
    "version": 3
   },
   "file_extension": ".py",
   "mimetype": "text/x-python",
   "name": "python",
   "nbconvert_exporter": "python",
   "pygments_lexer": "ipython3",
   "version": "3.13.2"
  }
 },
 "nbformat": 4,
 "nbformat_minor": 2
}
