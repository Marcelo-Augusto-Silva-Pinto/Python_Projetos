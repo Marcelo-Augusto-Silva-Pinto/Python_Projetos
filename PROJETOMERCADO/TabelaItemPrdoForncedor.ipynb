{
 "cells": [
  {
   "cell_type": "code",
   "execution_count": 1,
   "metadata": {},
   "outputs": [
    {
     "name": "stdout",
     "output_type": "stream",
     "text": [
      "Query teste executada com sucesso, conexão com o banco de dados MERCADO_OLTP bem-sucedida\n",
      "Dados adicionadas ao banco de dados com sucesso.\n"
     ]
    },
    {
     "data": {
      "application/vnd.microsoft.datawrangler.viewer.v0+json": {
       "columns": [
        {
         "name": "index",
         "rawType": "int64",
         "type": "integer"
        },
        {
         "name": "ID_PRODUTO",
         "rawType": "int64",
         "type": "integer"
        },
        {
         "name": "ID_FORNECEDOR",
         "rawType": "int64",
         "type": "integer"
        }
       ],
       "conversionMethod": "pd.DataFrame",
       "ref": "877f7992-2075-4244-afca-64638aa9d101",
       "rows": [
        [
         "0",
         "1",
         "866"
        ],
        [
         "1",
         "1",
         "111"
        ],
        [
         "2",
         "1",
         "273"
        ],
        [
         "3",
         "2",
         "708"
        ],
        [
         "4",
         "2",
         "523"
        ],
        [
         "5",
         "2",
         "712"
        ],
        [
         "6",
         "2",
         "564"
        ],
        [
         "7",
         "3",
         "753"
        ],
        [
         "8",
         "3",
         "154"
        ],
        [
         "9",
         "3",
         "127"
        ],
        [
         "10",
         "4",
         "460"
        ],
        [
         "11",
         "4",
         "265"
        ],
        [
         "12",
         "5",
         "644"
        ],
        [
         "13",
         "6",
         "678"
        ],
        [
         "14",
         "6",
         "441"
        ],
        [
         "15",
         "6",
         "56"
        ],
        [
         "16",
         "7",
         "802"
        ],
        [
         "17",
         "7",
         "262"
        ],
        [
         "18",
         "8",
         "45"
        ],
        [
         "19",
         "8",
         "802"
        ],
        [
         "20",
         "9",
         "388"
        ],
        [
         "21",
         "9",
         "935"
        ],
        [
         "22",
         "9",
         "156"
        ],
        [
         "23",
         "10",
         "632"
        ],
        [
         "24",
         "10",
         "98"
        ],
        [
         "25",
         "11",
         "200"
        ],
        [
         "26",
         "11",
         "534"
        ],
        [
         "27",
         "11",
         "545"
        ],
        [
         "28",
         "11",
         "6"
        ],
        [
         "29",
         "12",
         "592"
        ],
        [
         "30",
         "13",
         "162"
        ],
        [
         "31",
         "13",
         "956"
        ],
        [
         "32",
         "14",
         "900"
        ],
        [
         "33",
         "14",
         "63"
        ],
        [
         "34",
         "14",
         "719"
        ],
        [
         "35",
         "15",
         "525"
        ],
        [
         "36",
         "15",
         "668"
        ],
        [
         "37",
         "16",
         "430"
        ],
        [
         "38",
         "16",
         "124"
        ],
        [
         "39",
         "16",
         "206"
        ],
        [
         "40",
         "16",
         "57"
        ],
        [
         "41",
         "17",
         "832"
        ],
        [
         "42",
         "17",
         "309"
        ],
        [
         "43",
         "17",
         "763"
        ],
        [
         "44",
         "18",
         "437"
        ],
        [
         "45",
         "18",
         "887"
        ],
        [
         "46",
         "19",
         "491"
        ],
        [
         "47",
         "19",
         "251"
        ],
        [
         "48",
         "20",
         "598"
        ],
        [
         "49",
         "20",
         "743"
        ]
       ],
       "shape": {
        "columns": 2,
        "rows": 244612
       }
      },
      "text/html": [
       "<div>\n",
       "<style scoped>\n",
       "    .dataframe tbody tr th:only-of-type {\n",
       "        vertical-align: middle;\n",
       "    }\n",
       "\n",
       "    .dataframe tbody tr th {\n",
       "        vertical-align: top;\n",
       "    }\n",
       "\n",
       "    .dataframe thead th {\n",
       "        text-align: right;\n",
       "    }\n",
       "</style>\n",
       "<table border=\"1\" class=\"dataframe\">\n",
       "  <thead>\n",
       "    <tr style=\"text-align: right;\">\n",
       "      <th></th>\n",
       "      <th>ID_PRODUTO</th>\n",
       "      <th>ID_FORNECEDOR</th>\n",
       "    </tr>\n",
       "  </thead>\n",
       "  <tbody>\n",
       "    <tr>\n",
       "      <th>0</th>\n",
       "      <td>1</td>\n",
       "      <td>866</td>\n",
       "    </tr>\n",
       "    <tr>\n",
       "      <th>1</th>\n",
       "      <td>1</td>\n",
       "      <td>111</td>\n",
       "    </tr>\n",
       "    <tr>\n",
       "      <th>2</th>\n",
       "      <td>1</td>\n",
       "      <td>273</td>\n",
       "    </tr>\n",
       "    <tr>\n",
       "      <th>3</th>\n",
       "      <td>2</td>\n",
       "      <td>708</td>\n",
       "    </tr>\n",
       "    <tr>\n",
       "      <th>4</th>\n",
       "      <td>2</td>\n",
       "      <td>523</td>\n",
       "    </tr>\n",
       "    <tr>\n",
       "      <th>...</th>\n",
       "      <td>...</td>\n",
       "      <td>...</td>\n",
       "    </tr>\n",
       "    <tr>\n",
       "      <th>244607</th>\n",
       "      <td>98058</td>\n",
       "      <td>11</td>\n",
       "    </tr>\n",
       "    <tr>\n",
       "      <th>244608</th>\n",
       "      <td>98058</td>\n",
       "      <td>36</td>\n",
       "    </tr>\n",
       "    <tr>\n",
       "      <th>244609</th>\n",
       "      <td>98058</td>\n",
       "      <td>522</td>\n",
       "    </tr>\n",
       "    <tr>\n",
       "      <th>244610</th>\n",
       "      <td>98058</td>\n",
       "      <td>224</td>\n",
       "    </tr>\n",
       "    <tr>\n",
       "      <th>244611</th>\n",
       "      <td>98059</td>\n",
       "      <td>479</td>\n",
       "    </tr>\n",
       "  </tbody>\n",
       "</table>\n",
       "<p>244612 rows × 2 columns</p>\n",
       "</div>"
      ],
      "text/plain": [
       "        ID_PRODUTO  ID_FORNECEDOR\n",
       "0                1            866\n",
       "1                1            111\n",
       "2                1            273\n",
       "3                2            708\n",
       "4                2            523\n",
       "...            ...            ...\n",
       "244607       98058             11\n",
       "244608       98058             36\n",
       "244609       98058            522\n",
       "244610       98058            224\n",
       "244611       98059            479\n",
       "\n",
       "[244612 rows x 2 columns]"
      ]
     },
     "metadata": {},
     "output_type": "display_data"
    }
   ],
   "source": [
    "import pandas as pd\n",
    "import  random\n",
    "import schedule\n",
    "import time\n",
    "from math import floor\n",
    "from sqlalchemy import create_engine, VARCHAR,NUMERIC,INTEGER,DATE,DATETIME,String,text,CHAR\n",
    "from datetime import datetime, date, timedelta\n",
    "from faker import Faker\n",
    "\n",
    "fake = Faker()\n",
    "\n",
    "server = \"DESKTOP-HV85ADA\\\\PROJETO_MERCADO\"\n",
    "bancodados = \"MERCADO_OLTP\" #\"HIST_ATUALIZACOES\"\n",
    "driver = \"ODBC Driver 17 for SQL Server\"\n",
    "\n",
    "conexaostring = f\"mssql+pyodbc://{server}/{bancodados}?driver={driver}&Trusted_Connection=yes\"\n",
    "engine = create_engine(conexaostring, pool_size=10, max_overflow=30)\n",
    "\n",
    "#Função para testar a conexão\n",
    "def testar_conexao_sqlalchemy(engine):\n",
    "    try:        \n",
    "        with engine.connect() as conexao: #Tenta conectar ao banco de dados\n",
    "            result = conexao.execute(text(\"SELECT 1 AS teste\")) #Executa uma consulta para testar a conexão\n",
    "            print(f\"Query teste executada com sucesso, conexão com o banco de dados {bancodados} bem-sucedida\")\n",
    "            return True\n",
    "    except Exception as e:\n",
    "        print(f\"Erro ao conectar ao banco de dados: {e}\")\n",
    "        return False\n",
    "#testa a conexão\n",
    "testar_conexao_sqlalchemy(engine) \n",
    "\n",
    "lista_idproduto_bancodados = (pd.read_sql('SELECT IDPRODUTO FROM PRODUTO', engine)['IDPRODUTO']).to_list()\n",
    "lista_idfornecedor_bancodados = (pd.read_sql('SELECT IDFORNECEDOR FROM FORNECEDOR', engine)['IDFORNECEDOR']).to_list()\n",
    "\n",
    "lista_idproduto = []\n",
    "lista_idfornecedor = []\n",
    "\n",
    "i = 0\n",
    "\n",
    "# Loop while para processar cada valor de lista1\n",
    "while i < len(lista_idproduto_bancodados):\n",
    "    valor_idfornevedor = lista_idproduto_bancodados[i]\n",
    "    \n",
    "    # Seleciona n valores aleatórios de lista2\n",
    "    valores_aleatorios = random.sample(lista_idfornecedor_bancodados, random.randint(1, 4))\n",
    "    \n",
    "    # Adiciona os valores ao resultado\n",
    "    for valor in valores_aleatorios:\n",
    "        lista_idproduto.append(valor_idfornevedor)\n",
    "        lista_idfornecedor.append(valor)\n",
    "    \n",
    "    # Incrementa o contador\n",
    "    i += 1   \n",
    "\n",
    "df_item_prod_fornecedor = pd.DataFrame({\n",
    "                        'ID_PRODUTO':    lista_idproduto,\n",
    "                        'ID_FORNECEDOR': lista_idfornecedor,\n",
    "\n",
    "})\n",
    "\n",
    "\n",
    "tipo_dados_item_prod_fornecedor = {\n",
    "                        'ID_PRODUTO':    INTEGER,\n",
    "                        'ID_FORNECEDOR': INTEGER,\n",
    "\n",
    "}\n",
    "\n",
    "with engine.connect() as conn:\n",
    "        conn.execute(text(f\"TRUNCATE TABLE ITEM_PROD_FORNECEDOR\"))  #limpa os dados existentes, pode ser removido do codigo\n",
    "        conn.commit()\n",
    "\n",
    "try:\n",
    "    df_item_prod_fornecedor.to_sql(name='ITEM_PROD_FORNECEDOR', con=engine,if_exists='append',index=False,dtype=tipo_dados_item_prod_fornecedor)\n",
    "    print(f\"Dados adicionadas ao banco de dados com sucesso.\")\n",
    "except Exception as e:\n",
    "    print(f\"Erro ao conectar ao banco de dados: {e}\")\n",
    "\n",
    "\n",
    "display(df_item_prod_fornecedor)\n",
    "\n"
   ]
  }
 ],
 "metadata": {
  "kernelspec": {
   "display_name": "Python 3",
   "language": "python",
   "name": "python3"
  },
  "language_info": {
   "codemirror_mode": {
    "name": "ipython",
    "version": 3
   },
   "file_extension": ".py",
   "mimetype": "text/x-python",
   "name": "python",
   "nbconvert_exporter": "python",
   "pygments_lexer": "ipython3",
   "version": "3.13.2"
  }
 },
 "nbformat": 4,
 "nbformat_minor": 2
}
