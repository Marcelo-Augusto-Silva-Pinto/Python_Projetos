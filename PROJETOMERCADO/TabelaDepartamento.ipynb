{
 "cells": [
  {
   "cell_type": "code",
   "execution_count": null,
   "metadata": {},
   "outputs": [],
   "source": [
    "#Script para gerar Tabela Departamento\n",
    "\n",
    "import pandas as pd\n",
    "from sqlalchemy import create_engine, text\n",
    " \n",
    "server = \"DESKTOP-HV85ADA\\\\PROJETO_MERCADO\"\n",
    "bancodados = \"MERCADO_OLTP\"\n",
    "driver = \"ODBC Driver 17 for SQL Server\"\n",
    "conexaostring = f\"mssql+pyodbc://{server}/{bancodados}?driver={driver}&Trusted_Connection=yes\"\n",
    "engine = create_engine(conexaostring)\n",
    "\n",
    "tabela = \"DEPARTAMENTO\"\n",
    "coluna = \"NOME\"\n",
    "lista_departamento = [\"Administrativo\",\"Comercial\",\"Financeiro\",\"Operacional\",\"Recursos humanos\",\"Tecnologia\"]\n",
    "\n",
    "with engine.connect() as connection:\n",
    "    connection.execute(text(f\"TRUNCATE TABLE {tabela}\"))\n",
    "    connection.commit()\n",
    "    for nome in lista_departamento:\n",
    "        connection.execute(text(f\"INSERT INTO {tabela} ({coluna}) VALUES (:nome)\"),{\"nome\": nome})\n",
    "        connection.commit()\n",
    "\n",
    "connection.close()"
   ]
  }
 ],
 "metadata": {
  "kernelspec": {
   "display_name": "Python 3",
   "language": "python",
   "name": "python3"
  },
  "language_info": {
   "codemirror_mode": {
    "name": "ipython",
    "version": 3
   },
   "file_extension": ".py",
   "mimetype": "text/x-python",
   "name": "python",
   "nbconvert_exporter": "python",
   "pygments_lexer": "ipython3",
   "version": "3.13.2"
  }
 },
 "nbformat": 4,
 "nbformat_minor": 2
}
