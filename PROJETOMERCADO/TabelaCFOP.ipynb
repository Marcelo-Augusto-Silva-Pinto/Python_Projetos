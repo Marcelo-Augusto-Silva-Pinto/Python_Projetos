{
 "cells": [
  {
   "cell_type": "code",
   "execution_count": 38,
   "metadata": {},
   "outputs": [
    {
     "name": "stdout",
     "output_type": "stream",
     "text": [
      "Dados inseridos com sucesso\n"
     ]
    }
   ],
   "source": [
    "#Script para gerar a tabela CFOP\n",
    "import pandas as pd \n",
    "from sqlalchemy import create_engine, MetaData, Table, Column, Integer, String, VARCHAR, text\n",
    "from sqlalchemy.orm import sessionmaker\n",
    "import pyodbc\n",
    "\n",
    "server = \"DESKTOP-HV85ADA\\\\PROJETO_MERCADO\"\n",
    "bancodados = \"MERCADO_OLTP\"\n",
    "driver = \"ODBC Driver 17 for SQL Server\"\n",
    "#user = \"\"\n",
    "#senha = \"\"\n",
    "\n",
    "conexaostring = f\"mssql+pyodbc://{server}/{bancodados}?driver={driver}&Trusted_Connection=yes\"\n",
    "#conn_str = f\"mssql+pyodbc://{username}:{password}@{server}/{database}?driver={driver}\"\n",
    "engine = create_engine(conexaostring)\n",
    "\n",
    "nome_tabela = \"CFOP\"\n",
    "\n",
    "lista_dados_cfop = {\n",
    "       \"COD_CFOP\":          [\"1102\",\"2102\",\"5101\",\"5102\",\"6101\",\"6102\"],\n",
    "       \"DESCRICAO\":         [\"COMPRAS DE MERCADORIA\",\"COMPRAS DE MERCADORIA\",\"VENDAS DE MERCADORIA\",\n",
    "                             \"VENDAS DE MERCADORIA ADQ TERCEIROS\",\"VENDAS DE MERCADORIA\",\n",
    "                             \"VENDAS DE MERCADORIA ADQ TERCEIROS\"]       \n",
    "\n",
    "}\n",
    "\n",
    "df_CFOP = pd.DataFrame(lista_dados_cfop)\n",
    "\n",
    "#Usar paar nomear as colunas do dataframe com os mesmos nomes das colunas do banco de dados\n",
    "#df_CFOP.rename(columns={'Coluna1': 'COD_CFOP', 'Coluna2': 'DESCRICAO'}, inplace=True)\n",
    "\n",
    "tipo_dados = {\n",
    "\n",
    "    \"COD_CFOP\":  VARCHAR(20),\n",
    "    \"DESCRICAO\": VARCHAR(100)\n",
    "\n",
    "}\n",
    "\n",
    "try:\n",
    "    with engine.connect() as conn:\n",
    "        conn.execute(text(f\"TRUNCATE TABLE {nome_tabela}\"))  #limpa os dados existentes, pode ser removido do codigo\n",
    "        conn.commit()\n",
    "\n",
    "    df_CFOP.to_sql(\n",
    "                name=nome_tabela,\n",
    "                con=engine,\n",
    "                if_exists=\"append\", #se usar o replace ele faz um drop table da tabela no banco de dados e cria uma com a estrutura do dataframe\n",
    "                index=False,\n",
    "                dtype=tipo_dados,\n",
    ")\n",
    "    print(\"Dados inseridos com sucesso\")\n",
    "except Exception as e:\n",
    "    print(f\"Erro ao inserir dados: {e}\")\n",
    "\n"
   ]
  }
 ],
 "metadata": {
  "kernelspec": {
   "display_name": "Python 3",
   "language": "python",
   "name": "python3"
  },
  "language_info": {
   "codemirror_mode": {
    "name": "ipython",
    "version": 3
   },
   "file_extension": ".py",
   "mimetype": "text/x-python",
   "name": "python",
   "nbconvert_exporter": "python",
   "pygments_lexer": "ipython3",
   "version": "3.13.2"
  }
 },
 "nbformat": 4,
 "nbformat_minor": 2
}
