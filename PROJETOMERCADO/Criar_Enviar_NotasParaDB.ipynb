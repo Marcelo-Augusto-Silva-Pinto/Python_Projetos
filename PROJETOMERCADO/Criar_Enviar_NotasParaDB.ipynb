{
 "cells": [
  {
   "cell_type": "code",
   "execution_count": null,
   "metadata": {},
   "outputs": [
    {
     "name": "stdout",
     "output_type": "stream",
     "text": [
      "Conexão com o banco de dados estabelecida com sucesso\n",
      "Query executada com sucesso\n",
      "A conexão foi bem-sucedida\n",
      "Arquivo vendas de 1000 ate 1064 salvos com sucesso.\n",
      "Arquivo vendas de 1065 ate 1127 salvos com sucesso.\n"
     ]
    }
   ],
   "source": [
    "#Script que gera NF, ITEMNF e VENDAS em formaato .xlsx direto na pasta para a importacao\n",
    "\n",
    "import random\n",
    "import pandas as pd\n",
    "import os\n",
    "from datetime import datetime, date\n",
    "from sqlalchemy import create_engine, VARCHAR,NUMERIC,INTEGER,DATE,DATETIME,String,text,CHAR\n",
    "import numpy as np\n",
    "from faker import Faker\n",
    "\n",
    "# Quantidade de notas fiscais\n",
    "\n",
    "numero_inicial_nota = 1000\n",
    "numero_maximo_nota = 3001\n",
    "quant_maxima_itens = 10\n",
    "variavel_controle_maximo_LOOP = 1100 #Valor maximo que da nota inicial dentro do loop de geracao de NF's\n",
    "\n",
    "fake = Faker()\n",
    "\n",
    "server = \"DESKTOP-HV85ADA\\\\PROJETO_MERCADO\"\n",
    "bancodados = \"MERCADO_OLTP\"\n",
    "driver = \"ODBC Driver 17 for SQL Server\"\n",
    "\n",
    "conexaostring = f\"mssql+pyodbc://{server}/{bancodados}?driver={driver}&Trusted_Connection=yes\"\n",
    "engine = create_engine(conexaostring, pool_size=10, max_overflow=30)\n",
    "\n",
    "#Função para testar a conexão\n",
    "def testar_conexao_sqlalchemy(engine):\n",
    "    try:        \n",
    "        with engine.connect() as conexao: #Tenta conectar ao banco de dados\n",
    "            print(\"Conexão com o banco de dados estabelecida com sucesso\")\n",
    "            result = conexao.execute(text(\"SELECT 1 AS teste\")) #Executa uma consulta para testar a conexão\n",
    "            print(\"Query executada com sucesso\")\n",
    "            return True\n",
    "    except Exception as e:\n",
    "        print(f\"Erro ao conectar ao banco de dados: {e}\")\n",
    "        return False\n",
    "#testa a conexão\n",
    "if testar_conexao_sqlalchemy(engine): \n",
    "    print(\"A conexão foi bem-sucedida\")\n",
    "else:\n",
    "    print(\"Falha na conexão.\")\n",
    "\n",
    "# Função para gerar a nota fiscal\n",
    "def gerar_nota_fiscal(numero_nota, lista_produtos, quant_maxima_itens, data_nota):\n",
    "    # Garantir que a quantidade de itens únicos seja pelo menos 1\n",
    "    quant_item_unicos = random.randint(1, quant_maxima_itens)  # Gerar quantidade aleatória de itens únicos na nota fiscal\n",
    "    #print(f\"Quantidade de itens únicos na nota {numero_nota}: {quant_item_unicos}\")\n",
    "\n",
    "    lista_saida = []  # Lista para armazenar os itens da nota fiscal\n",
    "    lista_NOTAFISCAL = []   \n",
    "\n",
    "    id_forma_pgmt = random.randint(1, 8)\n",
    "    total_clientes_db = (engine.connect().execute(text(\"SELECT COUNT(IDCLIENTE) FROM [MERCADO_OLTP].[dbo].CLIENTE\"))).scalar()\n",
    "    id_cliente = random.randint(1, total_clientes_db)\n",
    "    total_lojas_db = (engine.connect().execute(text(\"SELECT COUNT(IDLOJA) FROM [MERCADO_OLTP].[dbo].LOJA\"))).scalar()\n",
    "    id_loja = random.randint(1, total_lojas_db)\n",
    "    id_cfop = random.randint(1, 6)\n",
    "    chaveacesso = ''.join([str(random.randint(0, 9)) for _ in range(44)])\n",
    "    data_criacao = data_nota.date()\n",
    "    data_atlz = \"\"\n",
    "    versao = 1\n",
    "    \n",
    "    # Gerar os itens da nota fiscal\n",
    "    for _ in range(quant_item_unicos):\n",
    "        produto = random.choice(lista_produtos)\n",
    "        if produto in df_prod[\"NOME\"].values:\n",
    "            preco_unit = df_prod.loc[df_prod[\"NOME\"] == produto, \"PRECO_UNIT\"].values[0]\n",
    "            id_produto = df_prod.loc[df_prod[\"NOME\"] == produto, \"IDPRODUTO\"].values[0]\n",
    "            preco_unit = round(float(preco_unit), 2)  # Preço unitário com 2 casas decimais\n",
    "            quantidade = random.randint(1, 10)  # Quantidade aleatória do produto\n",
    "            preco_total_item = round(quantidade * preco_unit, 2)  # Total do item\n",
    "            lista_saida.append((data_nota, numero_nota, produto, quantidade, preco_unit, preco_total_item, \n",
    "                                id_forma_pgmt, id_cliente, id_loja, id_cfop, chaveacesso, data_criacao, \n",
    "                                data_atlz, versao,id_produto))            \n",
    "\n",
    "    # Calcular o total da nota fiscal\n",
    "    preco_total_nota = round(sum(item[5] for item in lista_saida), 2)\n",
    "    \n",
    "    # Adicionar o total da nota a cada item da lista\n",
    "    lista_saida = [item + (preco_total_nota,) for item in lista_saida]\n",
    "   \n",
    "    lista_NOTAFISCAL.append((data_nota, id_forma_pgmt, id_cliente, id_loja, id_cfop, chaveacesso, data_criacao, \n",
    "                             data_atlz, versao,preco_total_nota))\n",
    "    \n",
    "\n",
    "    # Criar um DataFrame com os dados da nota fiscal\n",
    "    df_nota_fiscal = pd.DataFrame(\n",
    "        lista_saida, columns=[\"DATA_NOTAFISCAL\", \"Numero_Nota\", \"Produto\", \"QUANTIDADE\", \"PRECO_UNIT\", \"TOTAL_ITEM\", \n",
    "                              \"ID_FORMA_PGMT\", \"ID_CLIENTE\", \"ID_LOJA\", \"ID_CFOP\",\"CHAVE_ACESSO\",\"DATA_CRIACAO\",\n",
    "                              \"DATA_ATLZ\",\"VERSAO\", \"IDPRODUTO\",\"TOTAL_NOTA\"]\n",
    "    )\n",
    "\n",
    "    df_2 = pd.DataFrame(\n",
    "        lista_NOTAFISCAL, columns=[\"DATA_NOTAFISCAL\", \"ID_FORMA_PGMT\", \"ID_CLIENTE\", \"ID_LOJA\", \"ID_CFOP\", \n",
    "                                   \"CHAVE_ACESSO\", \"DATA_CRIACAO\", \"DATA_ATLZ\", \"VERSAO\",\"TOTAL_NOTA\"]\n",
    "    )\n",
    "\n",
    "    \n",
    "    return df_nota_fiscal, df_2\n",
    "\n",
    "\n",
    "while numero_inicial_nota < variavel_controle_maximo_LOOP:\n",
    "    try:\n",
    "        \n",
    "        incremento = random.randint(33, 87)\n",
    "        numero_maximo_nota = numero_inicial_nota + incremento\n",
    "        df_prod = pd.read_sql(text(f\"SELECT IDPRODUTO, NOME, PRECO_UNIT FROM PRODUTO \"),engine)\n",
    "        lista_prod_DB = df_prod['NOME'].to_list()\n",
    "        df_notas_fiscais = []\n",
    "        df_notas_fiscais_2 = []\n",
    "        for numero_nota in range(numero_inicial_nota, numero_maximo_nota + 1):\n",
    "            data_nota_ini = fake.date_time_between(start_date=datetime(2024,1,1),end_date=datetime(2024,1,20))\n",
    "            hora_aleatoria = random.randint(7, 21)  #Gera uma hora entre 8 e 22\n",
    "            minuto_aleatorio = random.randint(0, 59)  #Gera minutos aleatórios\n",
    "            segundo_aleatorio = random.randint(0, 59)  #Gera segundos aleatórios\n",
    "            data_nota = data_nota_ini.replace(hour=hora_aleatoria, minute=minuto_aleatorio, second=segundo_aleatorio) #Substituir o horário da data_nota pelo horário gerado\n",
    "            df_nota_fiscal, df_2 = gerar_nota_fiscal(numero_nota, lista_prod_DB, quant_maxima_itens, data_nota)\n",
    "            df_notas_fiscais.append(df_nota_fiscal)\n",
    "            df_notas_fiscais_2.append(df_2)\n",
    "        df_todas_notas = pd.concat(df_notas_fiscais, ignore_index=True)\n",
    "        df_todas_notas2 = pd.concat(df_notas_fiscais_2, ignore_index=True)\n",
    "        df_ITEMNOTA = pd.DataFrame({\n",
    "                        'ID_NOTAFISCAL':  df_todas_notas['Numero_Nota'],\n",
    "                        'ID_PRODUTO':     df_todas_notas['IDPRODUTO'],\n",
    "                        'QUANTIDADE':     df_todas_notas['QUANTIDADE'],\n",
    "                        'PRECO_UNIT':     df_todas_notas['PRECO_UNIT'],\n",
    "                        'TOTAL_ITEM':     df_todas_notas['TOTAL_ITEM'],\n",
    "                        'DATA_CRIACAO':   df_todas_notas['DATA_CRIACAO'],\n",
    "                        'DATA_ATLZ':      df_todas_notas['DATA_ATLZ'],\n",
    "                        'VERSAO':         df_todas_notas['VERSAO'],\n",
    "        })\n",
    "        df_NOTAFISCAL = pd.DataFrame({\n",
    "                        'DATA':           df_todas_notas2['DATA_NOTAFISCAL'],\n",
    "                        'TOTAL_NOTA':     df_todas_notas2['TOTAL_NOTA'],\n",
    "                        'ID_FORMA_PGMT':  df_todas_notas2['ID_FORMA_PGMT'],\n",
    "                        'ID_CLIENTE':     df_todas_notas2['ID_CLIENTE'],\n",
    "                        'ID_LOJA':        df_todas_notas2['ID_LOJA'],\n",
    "                        'ID_CFOP':        df_todas_notas2['ID_CFOP'],\n",
    "                        'CHAVE_ACESSO':   df_todas_notas2['CHAVE_ACESSO'],\n",
    "                        'DATA_CRIACAO':   df_todas_notas2['DATA_CRIACAO'],\n",
    "                        'DATA_ATLZ':      df_todas_notas2['DATA_ATLZ'],\n",
    "                        'VERSAO':         df_todas_notas2['VERSAO'],\n",
    "        })\n",
    "        df_VENDA = pd.DataFrame({\n",
    "                        'DATA':           df_todas_notas['DATA_NOTAFISCAL'],\n",
    "                        'ID_NOTAFISCAL':  df_todas_notas['Numero_Nota'],\n",
    "                        'ID_CLIENTE':     df_todas_notas['ID_CLIENTE'],\n",
    "                        'ID_LOJA':        df_todas_notas['ID_LOJA'],\n",
    "                        'ID_FORMA_PGMT':  df_todas_notas['ID_FORMA_PGMT'],\n",
    "                        'TOTAL_VENDA':     df_todas_notas['TOTAL_NOTA'],\n",
    "                        'DATA_CRIACAO':   df_todas_notas['DATA_CRIACAO'],\n",
    "                        'DATA_ATLZ':      df_todas_notas['DATA_ATLZ'],\n",
    "                        'VERSAO':         df_todas_notas['VERSAO'],\n",
    "        })\n",
    "        caminho = r\"C:\\\\Users\\\\marce\\\\OneDrive\\Arquivos Antigos\\\\Área de Trabalho\\\\Projeto Supermecado - Arquivos\\\\VENDAS\"\n",
    "        path_ITEMNOTA = r\"\\\\ITEMNOTA\\\\Novo(a) Documento de Texto.csv\"\n",
    "\n",
    "        # Caminhos das pastas\n",
    "        pastas = {\n",
    "            'ITEMNOTA': r\"C:\\\\Users\\\\marce\\\\OneDrive\\Arquivos Antigos\\\\Área de Trabalho\\\\Projeto Supermecado - Arquivos\\\\VENDAS\\\\ITEMNOTA\",\n",
    "            'NOTAFISCAL': r\"C:\\\\Users\\\\marce\\\\OneDrive\\Arquivos Antigos\\\\Área de Trabalho\\\\Projeto Supermecado - Arquivos\\\\VENDAS\\\\NOTAFISCAL\",\n",
    "            'VENDA': r\"C:\\\\Users\\\\marce\\\\OneDrive\\Arquivos Antigos\\\\Área de Trabalho\\\\Projeto Supermecado - Arquivos\\\\VENDAS\\\\VENDA\"\n",
    "        }\n",
    "        # Dicionário com os DataFrames e suas pastas correspondentes\n",
    "        dataframes = {\n",
    "            'ITEMNOTA': df_ITEMNOTA,\n",
    "            'NOTAFISCAL': df_NOTAFISCAL,\n",
    "            'VENDA': df_VENDA\n",
    "        }\n",
    "        # Salvar cada DataFrame em um arquivo CSV na pasta correspondente\n",
    "        for nome_df, df in dataframes.items():\n",
    "            try:\n",
    "                id_valor = f\"vendas_{numero_inicial_nota}ate_{numero_maximo_nota}\"\n",
    "                # Nome do arquivo\n",
    "                nome_arquivo = f\"arquivo_{nome_df}_{id_valor}.xlsx\"\n",
    "\n",
    "                # Caminho completo do arquivo\n",
    "                caminho_completo = os.path.join(pastas[nome_df], nome_arquivo)\n",
    "\n",
    "                # Salvar o DataFrame em um arquivo CSV\n",
    "                df.to_excel(caminho_completo, index=False)\n",
    "                #print(f\"DataFrame {nome_df} salvo com sucesso em: {caminho_completo}\")\n",
    "            except Exception as e:\n",
    "                print(f\"Erro ao salvar o DataFrame {nome_df}: {e}\")\n",
    "        print(f\"Arquivo vendas de {numero_inicial_nota} ate {numero_maximo_nota} salvos com sucesso.\")\n",
    "        numero_inicial_nota = numero_maximo_nota + 1\n",
    "    except Exception as e:\n",
    "       print(f\"Erro ao gerar os arquivos: {e}\") "
   ]
  },
  {
   "cell_type": "code",
   "execution_count": null,
   "metadata": {},
   "outputs": [
    {
     "name": "stdout",
     "output_type": "stream",
     "text": [
      "Conexão com o banco de dados estabelecida com sucesso.\n"
     ]
    },
    {
     "data": {
      "text/plain": [
       "datetime.datetime(2024, 1, 11, 21, 5, 48)"
      ]
     },
     "metadata": {},
     "output_type": "display_data"
    },
    {
     "name": "stdout",
     "output_type": "stream",
     "text": [
      "2024-01-11 12:37:00\n"
     ]
    },
    {
     "data": {
      "text/plain": [
       "datetime.datetime(2024, 1, 11, 4, 4, 31)"
      ]
     },
     "metadata": {},
     "output_type": "display_data"
    },
    {
     "name": "stdout",
     "output_type": "stream",
     "text": [
      "2024-01-11 20:57:08\n"
     ]
    },
    {
     "data": {
      "text/plain": [
       "datetime.datetime(2024, 1, 11, 20, 36, 41)"
      ]
     },
     "metadata": {},
     "output_type": "display_data"
    },
    {
     "name": "stdout",
     "output_type": "stream",
     "text": [
      "2024-01-11 20:59:44\n"
     ]
    },
    {
     "data": {
      "text/plain": [
       "datetime.datetime(2024, 1, 3, 12, 48, 25)"
      ]
     },
     "metadata": {},
     "output_type": "display_data"
    },
    {
     "name": "stdout",
     "output_type": "stream",
     "text": [
      "2024-01-03 16:24:30\n"
     ]
    },
    {
     "data": {
      "text/plain": [
       "datetime.datetime(2024, 1, 1, 14, 15, 43)"
      ]
     },
     "metadata": {},
     "output_type": "display_data"
    },
    {
     "name": "stdout",
     "output_type": "stream",
     "text": [
      "2024-01-01 14:02:48\n"
     ]
    },
    {
     "data": {
      "text/plain": [
       "datetime.datetime(2024, 1, 3, 9, 27, 48)"
      ]
     },
     "metadata": {},
     "output_type": "display_data"
    },
    {
     "name": "stdout",
     "output_type": "stream",
     "text": [
      "2024-01-03 10:29:33\n"
     ]
    },
    {
     "data": {
      "text/plain": [
       "datetime.datetime(2024, 1, 9, 22, 20, 12)"
      ]
     },
     "metadata": {},
     "output_type": "display_data"
    },
    {
     "name": "stdout",
     "output_type": "stream",
     "text": [
      "2024-01-09 13:36:30\n"
     ]
    },
    {
     "data": {
      "text/plain": [
       "datetime.datetime(2024, 1, 19, 21, 29, 22)"
      ]
     },
     "metadata": {},
     "output_type": "display_data"
    },
    {
     "name": "stdout",
     "output_type": "stream",
     "text": [
      "2024-01-19 12:31:09\n"
     ]
    },
    {
     "data": {
      "text/plain": [
       "datetime.datetime(2024, 1, 12, 10, 38, 31)"
      ]
     },
     "metadata": {},
     "output_type": "display_data"
    },
    {
     "name": "stdout",
     "output_type": "stream",
     "text": [
      "2024-01-12 12:56:40\n"
     ]
    },
    {
     "data": {
      "text/plain": [
       "datetime.datetime(2024, 1, 15, 19, 56, 57)"
      ]
     },
     "metadata": {},
     "output_type": "display_data"
    },
    {
     "name": "stdout",
     "output_type": "stream",
     "text": [
      "2024-01-15 09:07:48\n"
     ]
    },
    {
     "data": {
      "text/plain": [
       "datetime.datetime(2024, 1, 13, 8, 17, 19)"
      ]
     },
     "metadata": {},
     "output_type": "display_data"
    },
    {
     "name": "stdout",
     "output_type": "stream",
     "text": [
      "2024-01-13 15:01:38\n"
     ]
    },
    {
     "data": {
      "text/plain": [
       "datetime.datetime(2024, 1, 6, 23, 35, 22)"
      ]
     },
     "metadata": {},
     "output_type": "display_data"
    },
    {
     "name": "stdout",
     "output_type": "stream",
     "text": [
      "2024-01-06 12:28:22\n"
     ]
    },
    {
     "data": {
      "text/plain": [
       "datetime.datetime(2024, 1, 14, 12, 25, 13)"
      ]
     },
     "metadata": {},
     "output_type": "display_data"
    },
    {
     "name": "stdout",
     "output_type": "stream",
     "text": [
      "2024-01-14 18:37:29\n"
     ]
    },
    {
     "data": {
      "text/plain": [
       "datetime.datetime(2024, 1, 14, 5, 39, 58)"
      ]
     },
     "metadata": {},
     "output_type": "display_data"
    },
    {
     "name": "stdout",
     "output_type": "stream",
     "text": [
      "2024-01-14 16:31:07\n"
     ]
    },
    {
     "data": {
      "text/plain": [
       "datetime.datetime(2024, 1, 3, 20, 58, 31)"
      ]
     },
     "metadata": {},
     "output_type": "display_data"
    },
    {
     "name": "stdout",
     "output_type": "stream",
     "text": [
      "2024-01-03 17:58:57\n"
     ]
    },
    {
     "data": {
      "text/plain": [
       "datetime.datetime(2024, 1, 15, 23, 30, 38)"
      ]
     },
     "metadata": {},
     "output_type": "display_data"
    },
    {
     "name": "stdout",
     "output_type": "stream",
     "text": [
      "2024-01-15 12:02:00\n"
     ]
    },
    {
     "data": {
      "text/plain": [
       "datetime.datetime(2024, 1, 7, 8, 11, 39)"
      ]
     },
     "metadata": {},
     "output_type": "display_data"
    },
    {
     "name": "stdout",
     "output_type": "stream",
     "text": [
      "2024-01-07 15:29:11\n"
     ]
    },
    {
     "data": {
      "text/plain": [
       "datetime.datetime(2024, 1, 6, 14, 40, 35)"
      ]
     },
     "metadata": {},
     "output_type": "display_data"
    },
    {
     "name": "stdout",
     "output_type": "stream",
     "text": [
      "2024-01-06 16:05:04\n"
     ]
    },
    {
     "data": {
      "text/plain": [
       "datetime.datetime(2024, 1, 1, 3, 30, 2)"
      ]
     },
     "metadata": {},
     "output_type": "display_data"
    },
    {
     "name": "stdout",
     "output_type": "stream",
     "text": [
      "2024-01-01 20:27:30\n"
     ]
    },
    {
     "data": {
      "text/plain": [
       "datetime.datetime(2024, 1, 16, 18, 32, 51)"
      ]
     },
     "metadata": {},
     "output_type": "display_data"
    },
    {
     "name": "stdout",
     "output_type": "stream",
     "text": [
      "2024-01-16 20:43:15\n"
     ]
    },
    {
     "data": {
      "text/plain": [
       "datetime.datetime(2024, 1, 14, 21, 28, 23)"
      ]
     },
     "metadata": {},
     "output_type": "display_data"
    },
    {
     "name": "stdout",
     "output_type": "stream",
     "text": [
      "2024-01-14 15:26:35\n"
     ]
    },
    {
     "data": {
      "text/plain": [
       "datetime.datetime(2024, 1, 18, 0, 14, 38)"
      ]
     },
     "metadata": {},
     "output_type": "display_data"
    },
    {
     "name": "stdout",
     "output_type": "stream",
     "text": [
      "2024-01-18 10:55:35\n"
     ]
    },
    {
     "data": {
      "text/plain": [
       "datetime.datetime(2024, 1, 4, 5, 1, 37)"
      ]
     },
     "metadata": {},
     "output_type": "display_data"
    },
    {
     "name": "stdout",
     "output_type": "stream",
     "text": [
      "2024-01-04 09:35:17\n"
     ]
    },
    {
     "data": {
      "text/plain": [
       "datetime.datetime(2024, 1, 16, 4, 2, 52)"
      ]
     },
     "metadata": {},
     "output_type": "display_data"
    },
    {
     "name": "stdout",
     "output_type": "stream",
     "text": [
      "2024-01-16 08:32:48\n"
     ]
    },
    {
     "data": {
      "text/plain": [
       "datetime.datetime(2024, 1, 17, 2, 17, 27)"
      ]
     },
     "metadata": {},
     "output_type": "display_data"
    },
    {
     "name": "stdout",
     "output_type": "stream",
     "text": [
      "2024-01-17 18:45:18\n"
     ]
    },
    {
     "data": {
      "text/plain": [
       "datetime.datetime(2024, 1, 4, 3, 21, 43)"
      ]
     },
     "metadata": {},
     "output_type": "display_data"
    },
    {
     "name": "stdout",
     "output_type": "stream",
     "text": [
      "2024-01-04 18:00:54\n"
     ]
    },
    {
     "data": {
      "text/plain": [
       "datetime.datetime(2024, 1, 4, 17, 22, 26)"
      ]
     },
     "metadata": {},
     "output_type": "display_data"
    },
    {
     "name": "stdout",
     "output_type": "stream",
     "text": [
      "2024-01-04 08:13:07\n"
     ]
    },
    {
     "data": {
      "text/plain": [
       "datetime.datetime(2024, 1, 17, 7, 30, 16)"
      ]
     },
     "metadata": {},
     "output_type": "display_data"
    },
    {
     "name": "stdout",
     "output_type": "stream",
     "text": [
      "2024-01-17 11:31:33\n"
     ]
    },
    {
     "data": {
      "text/plain": [
       "datetime.datetime(2024, 1, 9, 8, 2, 48)"
      ]
     },
     "metadata": {},
     "output_type": "display_data"
    },
    {
     "name": "stdout",
     "output_type": "stream",
     "text": [
      "2024-01-09 12:59:51\n"
     ]
    },
    {
     "data": {
      "text/plain": [
       "datetime.datetime(2024, 1, 12, 6, 5, 29)"
      ]
     },
     "metadata": {},
     "output_type": "display_data"
    },
    {
     "name": "stdout",
     "output_type": "stream",
     "text": [
      "2024-01-12 18:56:01\n"
     ]
    },
    {
     "data": {
      "text/plain": [
       "datetime.datetime(2024, 1, 7, 4, 53, 35)"
      ]
     },
     "metadata": {},
     "output_type": "display_data"
    },
    {
     "name": "stdout",
     "output_type": "stream",
     "text": [
      "2024-01-07 15:55:22\n"
     ]
    },
    {
     "data": {
      "text/plain": [
       "datetime.datetime(2024, 1, 6, 16, 36, 52)"
      ]
     },
     "metadata": {},
     "output_type": "display_data"
    },
    {
     "name": "stdout",
     "output_type": "stream",
     "text": [
      "2024-01-06 18:18:25\n"
     ]
    },
    {
     "data": {
      "text/plain": [
       "datetime.datetime(2024, 1, 3, 15, 48, 47)"
      ]
     },
     "metadata": {},
     "output_type": "display_data"
    },
    {
     "name": "stdout",
     "output_type": "stream",
     "text": [
      "2024-01-03 10:33:21\n"
     ]
    },
    {
     "data": {
      "text/plain": [
       "datetime.datetime(2024, 1, 15, 19, 0, 20)"
      ]
     },
     "metadata": {},
     "output_type": "display_data"
    },
    {
     "name": "stdout",
     "output_type": "stream",
     "text": [
      "2024-01-15 15:04:47\n"
     ]
    },
    {
     "data": {
      "text/plain": [
       "datetime.datetime(2024, 1, 7, 13, 50, 43)"
      ]
     },
     "metadata": {},
     "output_type": "display_data"
    },
    {
     "name": "stdout",
     "output_type": "stream",
     "text": [
      "2024-01-07 08:53:04\n"
     ]
    },
    {
     "data": {
      "text/plain": [
       "datetime.datetime(2024, 1, 2, 19, 29, 54)"
      ]
     },
     "metadata": {},
     "output_type": "display_data"
    },
    {
     "name": "stdout",
     "output_type": "stream",
     "text": [
      "2024-01-02 12:01:24\n"
     ]
    },
    {
     "data": {
      "text/plain": [
       "datetime.datetime(2024, 1, 17, 7, 56, 28)"
      ]
     },
     "metadata": {},
     "output_type": "display_data"
    },
    {
     "name": "stdout",
     "output_type": "stream",
     "text": [
      "2024-01-17 19:21:08\n"
     ]
    },
    {
     "data": {
      "text/plain": [
       "datetime.datetime(2024, 1, 14, 13, 11, 24)"
      ]
     },
     "metadata": {},
     "output_type": "display_data"
    },
    {
     "name": "stdout",
     "output_type": "stream",
     "text": [
      "2024-01-14 09:10:11\n"
     ]
    },
    {
     "data": {
      "text/plain": [
       "datetime.datetime(2024, 1, 4, 23, 15, 18)"
      ]
     },
     "metadata": {},
     "output_type": "display_data"
    },
    {
     "name": "stdout",
     "output_type": "stream",
     "text": [
      "2024-01-04 13:38:28\n"
     ]
    },
    {
     "data": {
      "text/plain": [
       "datetime.datetime(2024, 1, 13, 9, 36, 7)"
      ]
     },
     "metadata": {},
     "output_type": "display_data"
    },
    {
     "name": "stdout",
     "output_type": "stream",
     "text": [
      "2024-01-13 13:30:07\n",
      "Arquivos de vendas de 1000 até 1039 salvos com sucesso.\n"
     ]
    },
    {
     "data": {
      "text/plain": [
       "datetime.datetime(2024, 1, 15, 0, 42, 34)"
      ]
     },
     "metadata": {},
     "output_type": "display_data"
    },
    {
     "name": "stdout",
     "output_type": "stream",
     "text": [
      "2024-01-15 19:39:35\n"
     ]
    },
    {
     "data": {
      "text/plain": [
       "datetime.datetime(2024, 1, 18, 3, 37, 24)"
      ]
     },
     "metadata": {},
     "output_type": "display_data"
    },
    {
     "name": "stdout",
     "output_type": "stream",
     "text": [
      "2024-01-18 13:59:25\n"
     ]
    },
    {
     "data": {
      "text/plain": [
       "datetime.datetime(2024, 1, 1, 12, 43, 54)"
      ]
     },
     "metadata": {},
     "output_type": "display_data"
    },
    {
     "name": "stdout",
     "output_type": "stream",
     "text": [
      "2024-01-01 15:01:42\n"
     ]
    },
    {
     "data": {
      "text/plain": [
       "datetime.datetime(2024, 1, 19, 23, 28, 59)"
      ]
     },
     "metadata": {},
     "output_type": "display_data"
    },
    {
     "name": "stdout",
     "output_type": "stream",
     "text": [
      "2024-01-19 15:38:25\n"
     ]
    },
    {
     "data": {
      "text/plain": [
       "datetime.datetime(2024, 1, 17, 10, 46, 22)"
      ]
     },
     "metadata": {},
     "output_type": "display_data"
    },
    {
     "name": "stdout",
     "output_type": "stream",
     "text": [
      "2024-01-17 14:50:34\n"
     ]
    },
    {
     "data": {
      "text/plain": [
       "datetime.datetime(2024, 1, 2, 0, 7, 47)"
      ]
     },
     "metadata": {},
     "output_type": "display_data"
    },
    {
     "name": "stdout",
     "output_type": "stream",
     "text": [
      "2024-01-02 08:34:44\n"
     ]
    },
    {
     "data": {
      "text/plain": [
       "datetime.datetime(2024, 1, 5, 9, 4, 40)"
      ]
     },
     "metadata": {},
     "output_type": "display_data"
    },
    {
     "name": "stdout",
     "output_type": "stream",
     "text": [
      "2024-01-05 14:10:46\n"
     ]
    },
    {
     "data": {
      "text/plain": [
       "datetime.datetime(2024, 1, 3, 11, 42, 38)"
      ]
     },
     "metadata": {},
     "output_type": "display_data"
    },
    {
     "name": "stdout",
     "output_type": "stream",
     "text": [
      "2024-01-03 18:35:56\n"
     ]
    },
    {
     "data": {
      "text/plain": [
       "datetime.datetime(2024, 1, 9, 21, 56, 19)"
      ]
     },
     "metadata": {},
     "output_type": "display_data"
    },
    {
     "name": "stdout",
     "output_type": "stream",
     "text": [
      "2024-01-09 20:12:40\n"
     ]
    },
    {
     "data": {
      "text/plain": [
       "datetime.datetime(2024, 1, 9, 3, 55, 11)"
      ]
     },
     "metadata": {},
     "output_type": "display_data"
    },
    {
     "name": "stdout",
     "output_type": "stream",
     "text": [
      "2024-01-09 14:07:55\n"
     ]
    },
    {
     "data": {
      "text/plain": [
       "datetime.datetime(2024, 1, 15, 17, 4, 53)"
      ]
     },
     "metadata": {},
     "output_type": "display_data"
    },
    {
     "name": "stdout",
     "output_type": "stream",
     "text": [
      "2024-01-15 08:45:39\n"
     ]
    },
    {
     "data": {
      "text/plain": [
       "datetime.datetime(2024, 1, 11, 9, 39, 27)"
      ]
     },
     "metadata": {},
     "output_type": "display_data"
    },
    {
     "name": "stdout",
     "output_type": "stream",
     "text": [
      "2024-01-11 17:34:58\n"
     ]
    },
    {
     "data": {
      "text/plain": [
       "datetime.datetime(2024, 1, 19, 23, 56, 14)"
      ]
     },
     "metadata": {},
     "output_type": "display_data"
    },
    {
     "name": "stdout",
     "output_type": "stream",
     "text": [
      "2024-01-19 18:54:56\n"
     ]
    },
    {
     "data": {
      "text/plain": [
       "datetime.datetime(2024, 1, 13, 1, 32, 9)"
      ]
     },
     "metadata": {},
     "output_type": "display_data"
    },
    {
     "name": "stdout",
     "output_type": "stream",
     "text": [
      "2024-01-13 08:08:32\n"
     ]
    },
    {
     "data": {
      "text/plain": [
       "datetime.datetime(2024, 1, 1, 12, 47, 43)"
      ]
     },
     "metadata": {},
     "output_type": "display_data"
    },
    {
     "name": "stdout",
     "output_type": "stream",
     "text": [
      "2024-01-01 14:26:52\n"
     ]
    },
    {
     "data": {
      "text/plain": [
       "datetime.datetime(2024, 1, 13, 4, 36, 13)"
      ]
     },
     "metadata": {},
     "output_type": "display_data"
    },
    {
     "name": "stdout",
     "output_type": "stream",
     "text": [
      "2024-01-13 18:12:02\n"
     ]
    },
    {
     "data": {
      "text/plain": [
       "datetime.datetime(2024, 1, 10, 4, 20, 8)"
      ]
     },
     "metadata": {},
     "output_type": "display_data"
    },
    {
     "name": "stdout",
     "output_type": "stream",
     "text": [
      "2024-01-10 18:53:18\n"
     ]
    },
    {
     "data": {
      "text/plain": [
       "datetime.datetime(2024, 1, 4, 21, 3, 12)"
      ]
     },
     "metadata": {},
     "output_type": "display_data"
    },
    {
     "name": "stdout",
     "output_type": "stream",
     "text": [
      "2024-01-04 10:17:34\n"
     ]
    },
    {
     "data": {
      "text/plain": [
       "datetime.datetime(2024, 1, 16, 6, 8, 45)"
      ]
     },
     "metadata": {},
     "output_type": "display_data"
    },
    {
     "name": "stdout",
     "output_type": "stream",
     "text": [
      "2024-01-16 18:12:28\n"
     ]
    },
    {
     "data": {
      "text/plain": [
       "datetime.datetime(2024, 1, 12, 23, 29, 43)"
      ]
     },
     "metadata": {},
     "output_type": "display_data"
    },
    {
     "name": "stdout",
     "output_type": "stream",
     "text": [
      "2024-01-12 21:21:38\n"
     ]
    },
    {
     "data": {
      "text/plain": [
       "datetime.datetime(2024, 1, 12, 0, 31, 52)"
      ]
     },
     "metadata": {},
     "output_type": "display_data"
    },
    {
     "name": "stdout",
     "output_type": "stream",
     "text": [
      "2024-01-12 12:16:37\n"
     ]
    },
    {
     "data": {
      "text/plain": [
       "datetime.datetime(2024, 1, 6, 9, 15, 49)"
      ]
     },
     "metadata": {},
     "output_type": "display_data"
    },
    {
     "name": "stdout",
     "output_type": "stream",
     "text": [
      "2024-01-06 10:12:22\n"
     ]
    },
    {
     "data": {
      "text/plain": [
       "datetime.datetime(2024, 1, 18, 7, 0, 37)"
      ]
     },
     "metadata": {},
     "output_type": "display_data"
    },
    {
     "name": "stdout",
     "output_type": "stream",
     "text": [
      "2024-01-18 09:24:45\n"
     ]
    },
    {
     "data": {
      "text/plain": [
       "datetime.datetime(2024, 1, 17, 3, 19, 54)"
      ]
     },
     "metadata": {},
     "output_type": "display_data"
    },
    {
     "name": "stdout",
     "output_type": "stream",
     "text": [
      "2024-01-17 13:18:38\n"
     ]
    },
    {
     "data": {
      "text/plain": [
       "datetime.datetime(2024, 1, 10, 3, 27, 10)"
      ]
     },
     "metadata": {},
     "output_type": "display_data"
    },
    {
     "name": "stdout",
     "output_type": "stream",
     "text": [
      "2024-01-10 19:00:47\n"
     ]
    },
    {
     "data": {
      "text/plain": [
       "datetime.datetime(2024, 1, 18, 10, 13, 3)"
      ]
     },
     "metadata": {},
     "output_type": "display_data"
    },
    {
     "name": "stdout",
     "output_type": "stream",
     "text": [
      "2024-01-18 20:54:18\n"
     ]
    },
    {
     "data": {
      "text/plain": [
       "datetime.datetime(2024, 1, 17, 14, 26)"
      ]
     },
     "metadata": {},
     "output_type": "display_data"
    },
    {
     "name": "stdout",
     "output_type": "stream",
     "text": [
      "2024-01-17 13:01:45\n"
     ]
    },
    {
     "data": {
      "text/plain": [
       "datetime.datetime(2024, 1, 18, 4, 38, 40)"
      ]
     },
     "metadata": {},
     "output_type": "display_data"
    },
    {
     "name": "stdout",
     "output_type": "stream",
     "text": [
      "2024-01-18 18:20:24\n"
     ]
    },
    {
     "data": {
      "text/plain": [
       "datetime.datetime(2024, 1, 19, 18, 51)"
      ]
     },
     "metadata": {},
     "output_type": "display_data"
    },
    {
     "name": "stdout",
     "output_type": "stream",
     "text": [
      "2024-01-19 11:41:11\n"
     ]
    },
    {
     "data": {
      "text/plain": [
       "datetime.datetime(2024, 1, 15, 1, 47, 17)"
      ]
     },
     "metadata": {},
     "output_type": "display_data"
    },
    {
     "name": "stdout",
     "output_type": "stream",
     "text": [
      "2024-01-15 20:28:51\n"
     ]
    },
    {
     "data": {
      "text/plain": [
       "datetime.datetime(2024, 1, 9, 5, 19, 13)"
      ]
     },
     "metadata": {},
     "output_type": "display_data"
    },
    {
     "name": "stdout",
     "output_type": "stream",
     "text": [
      "2024-01-09 15:41:23\n"
     ]
    },
    {
     "data": {
      "text/plain": [
       "datetime.datetime(2024, 1, 17, 20, 7, 49)"
      ]
     },
     "metadata": {},
     "output_type": "display_data"
    },
    {
     "name": "stdout",
     "output_type": "stream",
     "text": [
      "2024-01-17 10:26:10\n"
     ]
    },
    {
     "data": {
      "text/plain": [
       "datetime.datetime(2024, 1, 10, 13, 19, 58)"
      ]
     },
     "metadata": {},
     "output_type": "display_data"
    },
    {
     "name": "stdout",
     "output_type": "stream",
     "text": [
      "2024-01-10 08:31:50\n"
     ]
    },
    {
     "data": {
      "text/plain": [
       "datetime.datetime(2024, 1, 8, 13, 32, 45)"
      ]
     },
     "metadata": {},
     "output_type": "display_data"
    },
    {
     "name": "stdout",
     "output_type": "stream",
     "text": [
      "2024-01-08 19:11:49\n"
     ]
    },
    {
     "data": {
      "text/plain": [
       "datetime.datetime(2024, 1, 14, 11, 28, 47)"
      ]
     },
     "metadata": {},
     "output_type": "display_data"
    },
    {
     "name": "stdout",
     "output_type": "stream",
     "text": [
      "2024-01-14 15:20:39\n"
     ]
    },
    {
     "data": {
      "text/plain": [
       "datetime.datetime(2024, 1, 19, 15, 27, 13)"
      ]
     },
     "metadata": {},
     "output_type": "display_data"
    },
    {
     "name": "stdout",
     "output_type": "stream",
     "text": [
      "2024-01-19 09:22:15\n"
     ]
    },
    {
     "data": {
      "text/plain": [
       "datetime.datetime(2024, 1, 3, 13, 50, 55)"
      ]
     },
     "metadata": {},
     "output_type": "display_data"
    },
    {
     "name": "stdout",
     "output_type": "stream",
     "text": [
      "2024-01-03 16:27:40\n"
     ]
    },
    {
     "data": {
      "text/plain": [
       "datetime.datetime(2024, 1, 1, 13, 46, 56)"
      ]
     },
     "metadata": {},
     "output_type": "display_data"
    },
    {
     "name": "stdout",
     "output_type": "stream",
     "text": [
      "2024-01-01 13:50:12\n"
     ]
    },
    {
     "data": {
      "text/plain": [
       "datetime.datetime(2024, 1, 11, 17, 28, 36)"
      ]
     },
     "metadata": {},
     "output_type": "display_data"
    },
    {
     "name": "stdout",
     "output_type": "stream",
     "text": [
      "2024-01-11 21:01:59\n"
     ]
    },
    {
     "data": {
      "text/plain": [
       "datetime.datetime(2024, 1, 17, 6, 53, 42)"
      ]
     },
     "metadata": {},
     "output_type": "display_data"
    },
    {
     "name": "stdout",
     "output_type": "stream",
     "text": [
      "2024-01-17 13:37:52\n"
     ]
    },
    {
     "data": {
      "text/plain": [
       "datetime.datetime(2024, 1, 19, 5, 3, 49)"
      ]
     },
     "metadata": {},
     "output_type": "display_data"
    },
    {
     "name": "stdout",
     "output_type": "stream",
     "text": [
      "2024-01-19 15:57:24\n"
     ]
    },
    {
     "data": {
      "text/plain": [
       "datetime.datetime(2024, 1, 3, 13, 25, 53)"
      ]
     },
     "metadata": {},
     "output_type": "display_data"
    },
    {
     "name": "stdout",
     "output_type": "stream",
     "text": [
      "2024-01-03 10:19:26\n"
     ]
    },
    {
     "data": {
      "text/plain": [
       "datetime.datetime(2024, 1, 14, 0, 40, 21)"
      ]
     },
     "metadata": {},
     "output_type": "display_data"
    },
    {
     "name": "stdout",
     "output_type": "stream",
     "text": [
      "2024-01-14 17:18:51\n"
     ]
    },
    {
     "data": {
      "text/plain": [
       "datetime.datetime(2024, 1, 14, 11, 28, 9)"
      ]
     },
     "metadata": {},
     "output_type": "display_data"
    },
    {
     "name": "stdout",
     "output_type": "stream",
     "text": [
      "2024-01-14 21:17:26\n"
     ]
    },
    {
     "data": {
      "text/plain": [
       "datetime.datetime(2024, 1, 6, 17, 33, 47)"
      ]
     },
     "metadata": {},
     "output_type": "display_data"
    },
    {
     "name": "stdout",
     "output_type": "stream",
     "text": [
      "2024-01-06 14:00:39\n"
     ]
    },
    {
     "data": {
      "text/plain": [
       "datetime.datetime(2024, 1, 7, 23, 24, 24)"
      ]
     },
     "metadata": {},
     "output_type": "display_data"
    },
    {
     "name": "stdout",
     "output_type": "stream",
     "text": [
      "2024-01-07 12:28:13\n"
     ]
    },
    {
     "data": {
      "text/plain": [
       "datetime.datetime(2024, 1, 13, 0, 9, 25)"
      ]
     },
     "metadata": {},
     "output_type": "display_data"
    },
    {
     "name": "stdout",
     "output_type": "stream",
     "text": [
      "2024-01-13 12:40:57\n"
     ]
    },
    {
     "data": {
      "text/plain": [
       "datetime.datetime(2024, 1, 9, 2, 12, 3)"
      ]
     },
     "metadata": {},
     "output_type": "display_data"
    },
    {
     "name": "stdout",
     "output_type": "stream",
     "text": [
      "2024-01-09 21:16:45\n"
     ]
    },
    {
     "data": {
      "text/plain": [
       "datetime.datetime(2024, 1, 5, 3, 2, 32)"
      ]
     },
     "metadata": {},
     "output_type": "display_data"
    },
    {
     "name": "stdout",
     "output_type": "stream",
     "text": [
      "2024-01-05 09:39:18\n"
     ]
    },
    {
     "data": {
      "text/plain": [
       "datetime.datetime(2024, 1, 3, 4, 21, 4)"
      ]
     },
     "metadata": {},
     "output_type": "display_data"
    },
    {
     "name": "stdout",
     "output_type": "stream",
     "text": [
      "2024-01-03 16:43:53\n"
     ]
    },
    {
     "data": {
      "text/plain": [
       "datetime.datetime(2024, 1, 11, 11, 6, 2)"
      ]
     },
     "metadata": {},
     "output_type": "display_data"
    },
    {
     "name": "stdout",
     "output_type": "stream",
     "text": [
      "2024-01-11 12:41:17\n"
     ]
    },
    {
     "data": {
      "text/plain": [
       "datetime.datetime(2024, 1, 6, 19, 18, 26)"
      ]
     },
     "metadata": {},
     "output_type": "display_data"
    },
    {
     "name": "stdout",
     "output_type": "stream",
     "text": [
      "2024-01-06 19:00:51\n",
      "Arquivos de vendas de 1040 até 1091 salvos com sucesso.\n"
     ]
    },
    {
     "data": {
      "text/plain": [
       "datetime.datetime(2024, 1, 16, 11, 0, 58)"
      ]
     },
     "metadata": {},
     "output_type": "display_data"
    },
    {
     "name": "stdout",
     "output_type": "stream",
     "text": [
      "2024-01-16 11:26:08\n"
     ]
    },
    {
     "data": {
      "text/plain": [
       "datetime.datetime(2024, 1, 18, 2, 38, 45)"
      ]
     },
     "metadata": {},
     "output_type": "display_data"
    },
    {
     "name": "stdout",
     "output_type": "stream",
     "text": [
      "2024-01-18 15:23:56\n"
     ]
    },
    {
     "data": {
      "text/plain": [
       "datetime.datetime(2024, 1, 12, 19, 1, 28)"
      ]
     },
     "metadata": {},
     "output_type": "display_data"
    },
    {
     "name": "stdout",
     "output_type": "stream",
     "text": [
      "2024-01-12 13:43:28\n"
     ]
    },
    {
     "data": {
      "text/plain": [
       "datetime.datetime(2024, 1, 9, 7, 49, 27)"
      ]
     },
     "metadata": {},
     "output_type": "display_data"
    },
    {
     "name": "stdout",
     "output_type": "stream",
     "text": [
      "2024-01-09 13:55:52\n"
     ]
    },
    {
     "data": {
      "text/plain": [
       "datetime.datetime(2024, 1, 9, 0, 8, 40)"
      ]
     },
     "metadata": {},
     "output_type": "display_data"
    },
    {
     "name": "stdout",
     "output_type": "stream",
     "text": [
      "2024-01-09 21:13:25\n"
     ]
    },
    {
     "data": {
      "text/plain": [
       "datetime.datetime(2024, 1, 9, 1, 43, 44)"
      ]
     },
     "metadata": {},
     "output_type": "display_data"
    },
    {
     "name": "stdout",
     "output_type": "stream",
     "text": [
      "2024-01-09 14:44:26\n"
     ]
    },
    {
     "data": {
      "text/plain": [
       "datetime.datetime(2024, 1, 17, 3, 23, 9)"
      ]
     },
     "metadata": {},
     "output_type": "display_data"
    },
    {
     "name": "stdout",
     "output_type": "stream",
     "text": [
      "2024-01-17 09:00:13\n"
     ]
    },
    {
     "data": {
      "text/plain": [
       "datetime.datetime(2024, 1, 18, 9, 41, 13)"
      ]
     },
     "metadata": {},
     "output_type": "display_data"
    },
    {
     "name": "stdout",
     "output_type": "stream",
     "text": [
      "2024-01-18 15:18:34\n"
     ]
    },
    {
     "data": {
      "text/plain": [
       "datetime.datetime(2024, 1, 1, 23, 18)"
      ]
     },
     "metadata": {},
     "output_type": "display_data"
    },
    {
     "name": "stdout",
     "output_type": "stream",
     "text": [
      "2024-01-01 16:12:43\n"
     ]
    },
    {
     "data": {
      "text/plain": [
       "datetime.datetime(2024, 1, 6, 11, 55, 50)"
      ]
     },
     "metadata": {},
     "output_type": "display_data"
    },
    {
     "name": "stdout",
     "output_type": "stream",
     "text": [
      "2024-01-06 20:33:05\n"
     ]
    },
    {
     "data": {
      "text/plain": [
       "datetime.datetime(2024, 1, 9, 16, 15, 48)"
      ]
     },
     "metadata": {},
     "output_type": "display_data"
    },
    {
     "name": "stdout",
     "output_type": "stream",
     "text": [
      "2024-01-09 14:31:28\n"
     ]
    },
    {
     "data": {
      "text/plain": [
       "datetime.datetime(2024, 1, 13, 20, 40, 37)"
      ]
     },
     "metadata": {},
     "output_type": "display_data"
    },
    {
     "name": "stdout",
     "output_type": "stream",
     "text": [
      "2024-01-13 13:31:18\n"
     ]
    },
    {
     "data": {
      "text/plain": [
       "datetime.datetime(2024, 1, 8, 12, 31, 52)"
      ]
     },
     "metadata": {},
     "output_type": "display_data"
    },
    {
     "name": "stdout",
     "output_type": "stream",
     "text": [
      "2024-01-08 13:56:28\n"
     ]
    },
    {
     "data": {
      "text/plain": [
       "datetime.datetime(2024, 1, 1, 23, 23, 26)"
      ]
     },
     "metadata": {},
     "output_type": "display_data"
    },
    {
     "name": "stdout",
     "output_type": "stream",
     "text": [
      "2024-01-01 10:08:49\n"
     ]
    },
    {
     "data": {
      "text/plain": [
       "datetime.datetime(2024, 1, 3, 2, 6, 44)"
      ]
     },
     "metadata": {},
     "output_type": "display_data"
    },
    {
     "name": "stdout",
     "output_type": "stream",
     "text": [
      "2024-01-03 12:21:25\n"
     ]
    },
    {
     "data": {
      "text/plain": [
       "datetime.datetime(2024, 1, 3, 6, 47, 23)"
      ]
     },
     "metadata": {},
     "output_type": "display_data"
    },
    {
     "name": "stdout",
     "output_type": "stream",
     "text": [
      "2024-01-03 10:30:55\n"
     ]
    },
    {
     "data": {
      "text/plain": [
       "datetime.datetime(2024, 1, 14, 7, 26, 49)"
      ]
     },
     "metadata": {},
     "output_type": "display_data"
    },
    {
     "name": "stdout",
     "output_type": "stream",
     "text": [
      "2024-01-14 21:55:59\n"
     ]
    },
    {
     "data": {
      "text/plain": [
       "datetime.datetime(2024, 1, 6, 19, 18, 10)"
      ]
     },
     "metadata": {},
     "output_type": "display_data"
    },
    {
     "name": "stdout",
     "output_type": "stream",
     "text": [
      "2024-01-06 16:42:00\n"
     ]
    },
    {
     "data": {
      "text/plain": [
       "datetime.datetime(2024, 1, 10, 0, 4, 54)"
      ]
     },
     "metadata": {},
     "output_type": "display_data"
    },
    {
     "name": "stdout",
     "output_type": "stream",
     "text": [
      "2024-01-10 20:52:28\n"
     ]
    },
    {
     "data": {
      "text/plain": [
       "datetime.datetime(2024, 1, 13, 2, 21)"
      ]
     },
     "metadata": {},
     "output_type": "display_data"
    },
    {
     "name": "stdout",
     "output_type": "stream",
     "text": [
      "2024-01-13 11:50:24\n"
     ]
    },
    {
     "data": {
      "text/plain": [
       "datetime.datetime(2024, 1, 8, 21, 29, 33)"
      ]
     },
     "metadata": {},
     "output_type": "display_data"
    },
    {
     "name": "stdout",
     "output_type": "stream",
     "text": [
      "2024-01-08 16:49:59\n"
     ]
    },
    {
     "data": {
      "text/plain": [
       "datetime.datetime(2024, 1, 1, 9, 11, 11)"
      ]
     },
     "metadata": {},
     "output_type": "display_data"
    },
    {
     "name": "stdout",
     "output_type": "stream",
     "text": [
      "2024-01-01 10:44:45\n"
     ]
    },
    {
     "data": {
      "text/plain": [
       "datetime.datetime(2024, 1, 4, 1, 13, 43)"
      ]
     },
     "metadata": {},
     "output_type": "display_data"
    },
    {
     "name": "stdout",
     "output_type": "stream",
     "text": [
      "2024-01-04 10:46:46\n"
     ]
    },
    {
     "data": {
      "text/plain": [
       "datetime.datetime(2024, 1, 6, 10, 23, 30)"
      ]
     },
     "metadata": {},
     "output_type": "display_data"
    },
    {
     "name": "stdout",
     "output_type": "stream",
     "text": [
      "2024-01-06 12:58:40\n"
     ]
    },
    {
     "data": {
      "text/plain": [
       "datetime.datetime(2024, 1, 11, 17, 23, 15)"
      ]
     },
     "metadata": {},
     "output_type": "display_data"
    },
    {
     "name": "stdout",
     "output_type": "stream",
     "text": [
      "2024-01-11 15:26:20\n"
     ]
    },
    {
     "data": {
      "text/plain": [
       "datetime.datetime(2024, 1, 18, 2, 29, 44)"
      ]
     },
     "metadata": {},
     "output_type": "display_data"
    },
    {
     "name": "stdout",
     "output_type": "stream",
     "text": [
      "2024-01-18 14:39:59\n"
     ]
    },
    {
     "data": {
      "text/plain": [
       "datetime.datetime(2024, 1, 5, 1, 42, 39)"
      ]
     },
     "metadata": {},
     "output_type": "display_data"
    },
    {
     "name": "stdout",
     "output_type": "stream",
     "text": [
      "2024-01-05 20:03:33\n"
     ]
    },
    {
     "data": {
      "text/plain": [
       "datetime.datetime(2024, 1, 11, 1, 26, 16)"
      ]
     },
     "metadata": {},
     "output_type": "display_data"
    },
    {
     "name": "stdout",
     "output_type": "stream",
     "text": [
      "2024-01-11 16:34:08\n"
     ]
    },
    {
     "data": {
      "text/plain": [
       "datetime.datetime(2024, 1, 14, 11, 37, 23)"
      ]
     },
     "metadata": {},
     "output_type": "display_data"
    },
    {
     "name": "stdout",
     "output_type": "stream",
     "text": [
      "2024-01-14 08:27:03\n"
     ]
    },
    {
     "data": {
      "text/plain": [
       "datetime.datetime(2024, 1, 5, 13, 25, 34)"
      ]
     },
     "metadata": {},
     "output_type": "display_data"
    },
    {
     "name": "stdout",
     "output_type": "stream",
     "text": [
      "2024-01-05 13:47:30\n"
     ]
    },
    {
     "data": {
      "text/plain": [
       "datetime.datetime(2024, 1, 5, 21, 36, 6)"
      ]
     },
     "metadata": {},
     "output_type": "display_data"
    },
    {
     "name": "stdout",
     "output_type": "stream",
     "text": [
      "2024-01-05 14:25:29\n"
     ]
    },
    {
     "data": {
      "text/plain": [
       "datetime.datetime(2024, 1, 7, 23, 22, 30)"
      ]
     },
     "metadata": {},
     "output_type": "display_data"
    },
    {
     "name": "stdout",
     "output_type": "stream",
     "text": [
      "2024-01-07 12:32:23\n"
     ]
    },
    {
     "data": {
      "text/plain": [
       "datetime.datetime(2024, 1, 18, 4, 29, 15)"
      ]
     },
     "metadata": {},
     "output_type": "display_data"
    },
    {
     "name": "stdout",
     "output_type": "stream",
     "text": [
      "2024-01-18 14:45:53\n"
     ]
    },
    {
     "data": {
      "text/plain": [
       "datetime.datetime(2024, 1, 5, 6, 9, 6)"
      ]
     },
     "metadata": {},
     "output_type": "display_data"
    },
    {
     "name": "stdout",
     "output_type": "stream",
     "text": [
      "2024-01-05 17:03:01\n"
     ]
    },
    {
     "data": {
      "text/plain": [
       "datetime.datetime(2024, 1, 12, 14, 8, 33)"
      ]
     },
     "metadata": {},
     "output_type": "display_data"
    },
    {
     "name": "stdout",
     "output_type": "stream",
     "text": [
      "2024-01-12 10:10:49\n"
     ]
    },
    {
     "data": {
      "text/plain": [
       "datetime.datetime(2024, 1, 1, 2, 34, 20)"
      ]
     },
     "metadata": {},
     "output_type": "display_data"
    },
    {
     "name": "stdout",
     "output_type": "stream",
     "text": [
      "2024-01-01 21:41:45\n"
     ]
    },
    {
     "data": {
      "text/plain": [
       "datetime.datetime(2024, 1, 13, 19, 22, 7)"
      ]
     },
     "metadata": {},
     "output_type": "display_data"
    },
    {
     "name": "stdout",
     "output_type": "stream",
     "text": [
      "2024-01-13 17:19:12\n"
     ]
    },
    {
     "data": {
      "text/plain": [
       "datetime.datetime(2024, 1, 18, 15, 11, 52)"
      ]
     },
     "metadata": {},
     "output_type": "display_data"
    },
    {
     "name": "stdout",
     "output_type": "stream",
     "text": [
      "2024-01-18 08:14:48\n"
     ]
    },
    {
     "data": {
      "text/plain": [
       "datetime.datetime(2024, 1, 16, 9, 5, 20)"
      ]
     },
     "metadata": {},
     "output_type": "display_data"
    },
    {
     "name": "stdout",
     "output_type": "stream",
     "text": [
      "2024-01-16 20:39:51\n"
     ]
    },
    {
     "data": {
      "text/plain": [
       "datetime.datetime(2024, 1, 4, 7, 42, 10)"
      ]
     },
     "metadata": {},
     "output_type": "display_data"
    },
    {
     "name": "stdout",
     "output_type": "stream",
     "text": [
      "2024-01-04 18:07:52\n"
     ]
    },
    {
     "data": {
      "text/plain": [
       "datetime.datetime(2024, 1, 1, 8, 35)"
      ]
     },
     "metadata": {},
     "output_type": "display_data"
    },
    {
     "name": "stdout",
     "output_type": "stream",
     "text": [
      "2024-01-01 10:03:59\n"
     ]
    },
    {
     "data": {
      "text/plain": [
       "datetime.datetime(2024, 1, 16, 20, 32, 33)"
      ]
     },
     "metadata": {},
     "output_type": "display_data"
    },
    {
     "name": "stdout",
     "output_type": "stream",
     "text": [
      "2024-01-16 19:22:41\n"
     ]
    },
    {
     "data": {
      "text/plain": [
       "datetime.datetime(2024, 1, 12, 2, 12, 24)"
      ]
     },
     "metadata": {},
     "output_type": "display_data"
    },
    {
     "name": "stdout",
     "output_type": "stream",
     "text": [
      "2024-01-12 11:37:28\n"
     ]
    },
    {
     "data": {
      "text/plain": [
       "datetime.datetime(2024, 1, 18, 8, 6, 52)"
      ]
     },
     "metadata": {},
     "output_type": "display_data"
    },
    {
     "name": "stdout",
     "output_type": "stream",
     "text": [
      "2024-01-18 10:35:37\n"
     ]
    },
    {
     "data": {
      "text/plain": [
       "datetime.datetime(2024, 1, 8, 9, 20, 46)"
      ]
     },
     "metadata": {},
     "output_type": "display_data"
    },
    {
     "name": "stdout",
     "output_type": "stream",
     "text": [
      "2024-01-08 13:01:17\n",
      "Arquivos de vendas de 1092 até 1136 salvos com sucesso.\n"
     ]
    }
   ],
   "source": [
    "#(Otimizado) Script que gera NF, ITEMNF e VENDAS em formaato .xlsx direto na pasta para a importacao\n",
    "\n",
    "import random\n",
    "import pandas as pd\n",
    "import os\n",
    "from datetime import datetime\n",
    "from sqlalchemy import create_engine, text\n",
    "from faker import Faker\n",
    "\n",
    "# Configurações iniciais\n",
    "NUMERO_INICIAL_NOTA = 1000\n",
    "VARIAVEL_CONTROLE_MAXIMO_LOOP = 1100\n",
    "QUANT_MAXIMA_ITENS = 10\n",
    "\n",
    "fake = Faker()\n",
    "\n",
    "# Configurações do banco de dados\n",
    "SERVER = \"DESKTOP-HV85ADA\\\\PROJETO_MERCADO\"\n",
    "BANCO_DADOS = \"MERCADO_OLTP\"\n",
    "DRIVER = \"ODBC Driver 17 for SQL Server\"\n",
    "CONN_STRING = f\"mssql+pyodbc://{SERVER}/{BANCO_DADOS}?driver={DRIVER}&Trusted_Connection=yes\"\n",
    "engine = create_engine(CONN_STRING, pool_size=10, max_overflow=30)\n",
    "\n",
    "# Função para testar a conexão\n",
    "def testar_conexao():\n",
    "    try:\n",
    "        with engine.connect() as conexao:\n",
    "            conexao.execute(text(\"SELECT 1\"))\n",
    "            print(\"Conexão com o banco de dados estabelecida com sucesso.\")\n",
    "            return True\n",
    "    except Exception as e:\n",
    "        print(f\"Erro ao conectar ao banco de dados: {e}\")\n",
    "        return False\n",
    "\n",
    "# Função para gerar uma nota fiscal\n",
    "def gerar_nota_fiscal(numero_nota, lista_produtos, data_nota):\n",
    "    quant_itens = random.randint(1, QUANT_MAXIMA_ITENS)\n",
    "    id_forma_pgmt = random.randint(1, 8)\n",
    "    id_cliente = random.randint(1, obter_total(\"CLIENTE\", \"IDCLIENTE\"))\n",
    "    id_loja = random.randint(1, obter_total(\"LOJA\", \"IDLOJA\"))\n",
    "    id_cfop = random.randint(1, 6)\n",
    "    chave_acesso = ''.join([str(random.randint(0, 9)) for _ in range(44)])\n",
    "    data_criacao = data_nota.date()\n",
    "    versao = 1\n",
    "\n",
    "    itens = []\n",
    "    for _ in range(quant_itens):\n",
    "        produto = random.choice(lista_produtos)\n",
    "        preco_unit = df_prod.loc[df_prod[\"NOME\"] == produto, \"PRECO_UNIT\"].values[0]\n",
    "        id_produto = df_prod.loc[df_prod[\"NOME\"] == produto, \"IDPRODUTO\"].values[0]\n",
    "        quantidade = random.randint(1, 10)\n",
    "        total_item = round(quantidade * preco_unit, 2)\n",
    "        itens.append((data_nota, numero_nota, produto, quantidade, preco_unit, total_item, \n",
    "                      id_forma_pgmt, id_cliente, id_loja, id_cfop, chave_acesso, data_criacao, \n",
    "                      \"\", versao, id_produto))\n",
    "\n",
    "    total_nota = round(sum(item[5] for item in itens), 2)\n",
    "    itens = [item + (total_nota,) for item in itens]\n",
    "\n",
    "    df_nota_fiscal = pd.DataFrame(\n",
    "        itens, columns=[\"DATA_NOTAFISCAL\", \"Numero_Nota\", \"Produto\", \"QUANTIDADE\", \"PRECO_UNIT\", \n",
    "                        \"TOTAL_ITEM\", \"ID_FORMA_PGMT\", \"ID_CLIENTE\", \"ID_LOJA\", \"ID_CFOP\", \n",
    "                        \"CHAVE_ACESSO\", \"DATA_CRIACAO\", \"DATA_ATLZ\", \"VERSAO\", \"IDPRODUTO\", \"TOTAL_NOTA\"]\n",
    "    )\n",
    "\n",
    "    df_nota_fiscal_2 = pd.DataFrame(\n",
    "        [(data_nota, id_forma_pgmt, id_cliente, id_loja, id_cfop, chave_acesso, data_criacao, \n",
    "          \"\", versao, total_nota)],\n",
    "        columns=[\"DATA_NOTAFISCAL\", \"ID_FORMA_PGMT\", \"ID_CLIENTE\", \"ID_LOJA\", \"ID_CFOP\", \n",
    "                 \"CHAVE_ACESSO\", \"DATA_CRIACAO\", \"DATA_ATLZ\", \"VERSAO\", \"TOTAL_NOTA\"]\n",
    "    )\n",
    "\n",
    "    return df_nota_fiscal, df_nota_fiscal_2\n",
    "\n",
    "# Função para obter o total de registros em uma tabela\n",
    "def obter_total(tabela, coluna):\n",
    "    with engine.connect() as conexao:\n",
    "        return conexao.execute(text(f\"SELECT COUNT({coluna}) FROM {tabela}\")).scalar()\n",
    "\n",
    "# Função para salvar DataFrames em arquivos Excel\n",
    "def salvar_dataframes(dataframes, pastas, numero_inicial_nota, numero_maximo_nota):\n",
    "    id_valor = f\"vendas_{numero_inicial_nota}ate_{numero_maximo_nota}\"\n",
    "    for nome_df, df in dataframes.items():\n",
    "        try:\n",
    "            nome_arquivo = f\"arquivo_{nome_df}_{id_valor}.xlsx\"\n",
    "            caminho_completo = os.path.join(pastas[nome_df], nome_arquivo)\n",
    "            df.to_excel(caminho_completo, index=False)\n",
    "        except Exception as e:\n",
    "            print(f\"Erro ao salvar o DataFrame {nome_df}: {e}\")\n",
    "\n",
    "# Caminhos das pastas\n",
    "PASTAS = {\n",
    "    'ITEMNOTA': r\"C:\\\\Users\\\\marce\\\\OneDrive\\Arquivos Antigos\\\\Área de Trabalho\\\\Projeto Supermecado - Arquivos\\\\VENDAS\\\\ITEMNOTA\",\n",
    "    'NOTAFISCAL': r\"C:\\\\Users\\\\marce\\\\OneDrive\\Arquivos Antigos\\\\Área de Trabalho\\\\Projeto Supermecado - Arquivos\\\\VENDAS\\\\NOTAFISCAL\",\n",
    "    'VENDA': r\"C:\\\\Users\\\\marce\\\\OneDrive\\Arquivos Antigos\\\\Área de Trabalho\\\\Projeto Supermecado - Arquivos\\\\VENDAS\\\\VENDA\"\n",
    "}\n",
    "\n",
    "# Execução principal\n",
    "if testar_conexao():\n",
    "    numero_inicial_nota = NUMERO_INICIAL_NOTA\n",
    "    while numero_inicial_nota < VARIAVEL_CONTROLE_MAXIMO_LOOP:\n",
    "        try:\n",
    "            incremento = random.randint(33, 87)\n",
    "            numero_maximo_nota = numero_inicial_nota + incremento\n",
    "            df_prod = pd.read_sql(text(\"SELECT IDPRODUTO, NOME, PRECO_UNIT FROM PRODUTO\"), engine)\n",
    "            lista_produtos = df_prod['NOME'].to_list()\n",
    "\n",
    "            df_notas_fiscais = []\n",
    "            df_notas_fiscais_2 = []\n",
    "            for numero_nota in range(numero_inicial_nota, numero_maximo_nota + 1):\n",
    "                data_nota_ini = fake.date_time_between(start_date=datetime(2024, 1, 1), end_date=datetime(2024, 1, 20))\n",
    "                hora_aleatoria = random.randint(7, 21)  #Gera uma hora entre 8 e 22\n",
    "                minuto_aleatorio = random.randint(0, 59)  #Gera minutos aleatórios\n",
    "                segundo_aleatorio = random.randint(0, 59)  #Gera segundos aleatórios\n",
    "                data_nota = data_nota_ini.replace(hour=hora_aleatoria, minute=minuto_aleatorio, second=segundo_aleatorio) #Substituir o horário da data_nota pelo horário gerado\n",
    "                df_nota_fiscal, df_2 = gerar_nota_fiscal(numero_nota, lista_produtos, data_nota)\n",
    "                df_notas_fiscais.append(df_nota_fiscal)\n",
    "                df_notas_fiscais_2.append(df_2)\n",
    "\n",
    "            df_todas_notas = pd.concat(df_notas_fiscais, ignore_index=True)\n",
    "            df_todas_notas2 = pd.concat(df_notas_fiscais_2, ignore_index=True)\n",
    "\n",
    "            df_ITEMNOTA = df_todas_notas[['Numero_Nota', 'IDPRODUTO', 'QUANTIDADE', 'PRECO_UNIT', 'TOTAL_ITEM', 'DATA_CRIACAO', 'DATA_ATLZ', 'VERSAO']]\n",
    "            df_ITEMNOTA.columns = ['ID_NOTAFISCAL', 'ID_PRODUTO', 'QUANTIDADE', 'PRECO_UNIT', 'TOTAL_ITEM', 'DATA_CRIACAO', 'DATA_ATLZ', 'VERSAO']\n",
    "\n",
    "            df_NOTAFISCAL = df_todas_notas2[['DATA_NOTAFISCAL', 'TOTAL_NOTA', 'ID_FORMA_PGMT', 'ID_CLIENTE', 'ID_LOJA', 'ID_CFOP', 'CHAVE_ACESSO', 'DATA_CRIACAO', 'DATA_ATLZ', 'VERSAO']]\n",
    "            df_NOTAFISCAL.columns = ['DATA', 'TOTAL_NOTA', 'ID_FORMA_PGMT', 'ID_CLIENTE', 'ID_LOJA', 'ID_CFOP', 'CHAVE_ACESSO', 'DATA_CRIACAO', 'DATA_ATLZ', 'VERSAO']\n",
    "\n",
    "            df_VENDA = df_todas_notas[['DATA_NOTAFISCAL', 'Numero_Nota', 'ID_CLIENTE', 'ID_LOJA', 'ID_FORMA_PGMT', 'TOTAL_NOTA', 'DATA_CRIACAO', 'DATA_ATLZ', 'VERSAO']]\n",
    "            df_VENDA.columns = ['DATA', 'ID_NOTAFISCAL', 'ID_CLIENTE', 'ID_LOJA', 'ID_FORMA_PGMT', 'TOTAL_VENDA', 'DATA_CRIACAO', 'DATA_ATLZ', 'VERSAO']\n",
    "\n",
    "            dataframes = {\n",
    "                'ITEMNOTA': df_ITEMNOTA,\n",
    "                'NOTAFISCAL': df_NOTAFISCAL,\n",
    "                'VENDA': df_VENDA\n",
    "            }\n",
    "\n",
    "            salvar_dataframes(dataframes, PASTAS, numero_inicial_nota, numero_maximo_nota)\n",
    "            print(f\"Arquivos de vendas de {numero_inicial_nota} até {numero_maximo_nota} salvos com sucesso.\")\n",
    "            numero_inicial_nota = numero_maximo_nota + 1\n",
    "        except Exception as e:\n",
    "            print(f\"Erro ao gerar os arquivos: {e}\")"
   ]
  },
  {
   "cell_type": "code",
   "execution_count": null,
   "metadata": {},
   "outputs": [],
   "source": [
    "#Script para gerar Tabela de Notas Fiscais, Itens de nota e Vendas(OLTP), buscando o IDPRDOUTO na tabela Produto do banco de dados\n",
    "\n",
    "import random\n",
    "import pandas as pd\n",
    "import os\n",
    "from datetime import datetime, date\n",
    "from sqlalchemy import create_engine, VARCHAR,NUMERIC,INTEGER,DATE,DATETIME,String,text,CHAR\n",
    "import numpy as np\n",
    "from faker import Faker\n",
    "from sqlalchemy.exc import SQLAlchemyError\n",
    "\n",
    "# Quantidade de notas fiscais\n",
    "numero_inicial_nota = 1104\n",
    "numero_maximo_nota = 1145\n",
    "quant_maxima_itens = 10\n",
    "\n",
    "fake = Faker()\n",
    "\n",
    "server = \"DESKTOP-HV85ADA\\\\PROJETO_MERCADO\"\n",
    "bancodados = \"MERCADO_OLTP\"\n",
    "driver = \"ODBC Driver 17 for SQL Server\"\n",
    "\n",
    "conexaostring = f\"mssql+pyodbc://{server}/{bancodados}?driver={driver}&Trusted_Connection=yes\"\n",
    "engine = create_engine(conexaostring)\n",
    "\n",
    "#Função para testar a conexão\n",
    "def testar_conexao_sqlalchemy(engine):\n",
    "    try:        \n",
    "        with engine.connect() as conexao: #Tenta conectar ao banco de dados\n",
    "            print(\"Conexão com o banco de dados estabelecida com sucesso\")\n",
    "            result = conexao.execute(text(\"SELECT 1 AS teste\")) #Executa uma consulta para testar a conexão\n",
    "            print(\"Query executada com sucesso\")\n",
    "            return True\n",
    "    except Exception as e:\n",
    "        print(f\"Erro ao conectar ao banco de dados: {e}\")\n",
    "        return False\n",
    "#testa a conexão\n",
    "if testar_conexao_sqlalchemy(engine): \n",
    "    print(\"A conexão foi bem-sucedida\")\n",
    "else:\n",
    "    print(\"Falha na conexão.\")\n",
    "\n",
    "\n",
    "# Função para gerar a nota fiscal\n",
    "def gerar_nota_fiscal(numero_nota, lista_produtos, quant_maxima_itens, data_nota):\n",
    "    # Garantir que a quantidade de itens únicos seja pelo menos 1\n",
    "    quant_item_unicos = random.randint(1, quant_maxima_itens)  # Gerar quantidade aleatória de itens únicos na nota fiscal\n",
    "    #print(f\"Quantidade de itens únicos na nota {numero_nota}: {quant_item_unicos}\")\n",
    "\n",
    "    lista_saida = []  # Lista para armazenar os itens da nota fiscal\n",
    "    lista_NOTAFISCAL = []   \n",
    "\n",
    "    id_forma_pgmt = random.randint(1, 8)\n",
    "    total_clientes_db = (engine.connect().execute(text(\"SELECT COUNT(IDCLIENTE) FROM [MERCADO_OLTP].[dbo].CLIENTE\"))).scalar()\n",
    "    id_cliente = random.randint(1, total_clientes_db)\n",
    "    total_lojas_db = (engine.connect().execute(text(\"SELECT COUNT(IDLOJA) FROM [MERCADO_OLTP].[dbo].LOJA\"))).scalar()\n",
    "    id_loja = random.randint(1, total_lojas_db)\n",
    "    id_cfop = random.randint(1, 6)\n",
    "    chaveacesso = ''.join([str(random.randint(0, 9)) for _ in range(44)])\n",
    "    data_criacao = data_nota.date()\n",
    "    data_atlz = \"\"\n",
    "    versao = 1\n",
    "    \n",
    "    # Gerar os itens da nota fiscal\n",
    "    for _ in range(quant_item_unicos):\n",
    "        produto = random.choice(lista_produtos)\n",
    "        if produto in df_prod[\"NOME\"].values:\n",
    "            preco_unit = df_prod.loc[df_prod[\"NOME\"] == produto, \"PRECO_UNIT\"].values[0]\n",
    "            id_produto = df_prod.loc[df_prod[\"NOME\"] == produto, \"IDPRODUTO\"].values[0]\n",
    "            preco_unit = round(float(preco_unit), 2)  # Preço unitário com 2 casas decimais\n",
    "            quantidade = random.randint(1, 10)  # Quantidade aleatória do produto\n",
    "            preco_total_item = round(quantidade * preco_unit, 2)  # Total do item\n",
    "            lista_saida.append((data_nota, numero_nota, produto, quantidade, preco_unit, preco_total_item, \n",
    "                                id_forma_pgmt, id_cliente, id_loja, id_cfop, chaveacesso, data_criacao, \n",
    "                                data_atlz, versao,id_produto))            \n",
    "\n",
    "    # Calcular o total da nota fiscal\n",
    "    preco_total_nota = round(sum(item[5] for item in lista_saida), 2)\n",
    "    \n",
    "    # Adicionar o total da nota a cada item da lista\n",
    "    lista_saida = [item + (preco_total_nota,) for item in lista_saida]\n",
    "   \n",
    "    lista_NOTAFISCAL.append((data_nota, id_forma_pgmt, id_cliente, id_loja, id_cfop, chaveacesso, data_criacao, \n",
    "                             data_atlz, versao,preco_total_nota))\n",
    "    \n",
    "\n",
    "    # Criar um DataFrame com os dados da nota fiscal\n",
    "    df_nota_fiscal = pd.DataFrame(\n",
    "        lista_saida, columns=[\"DATA_NOTAFISCAL\", \"Numero_Nota\", \"Produto\", \"QUANTIDADE\", \"PRECO_UNIT\", \"TOTAL_ITEM\", \n",
    "                              \"ID_FORMA_PGMT\", \"ID_CLIENTE\", \"ID_LOJA\", \"ID_CFOP\",\"CHAVE_ACESSO\",\"DATA_CRIACAO\",\n",
    "                              \"DATA_ATLZ\",\"VERSAO\", \"IDPRODUTO\",\"TOTAL_NOTA\"]\n",
    "    )\n",
    "\n",
    "    df_2 = pd.DataFrame(\n",
    "        lista_NOTAFISCAL, columns=[\"DATA_NOTAFISCAL\", \"ID_FORMA_PGMT\", \"ID_CLIENTE\", \"ID_LOJA\", \"ID_CFOP\", \n",
    "                                   \"CHAVE_ACESSO\", \"DATA_CRIACAO\", \"DATA_ATLZ\", \"VERSAO\",\"TOTAL_NOTA\"]\n",
    "    )\n",
    "\n",
    "    \n",
    "    return df_nota_fiscal, df_2\n",
    "\n",
    "# Lista de produtos e lista de ID PRODUTO a partir do banco de dados\n",
    "\n",
    "df_prod = pd.read_sql(text(f\"SELECT IDPRODUTO, NOME, PRECO_UNIT FROM PRODUTO \"),engine)\n",
    "\n",
    "#lista_IDPRODUTO = df_prod['IDPRODUTO'].to_list()\n",
    "lista_prod_DB = df_prod['NOME'].to_list()\n",
    "\n",
    "# Lista para armazenar todas as notas fiscais\n",
    "df_notas_fiscais = []\n",
    "df_notas_fiscais_2 = []\n",
    "\n",
    "# Gerar notas fiscais para o intervalo definido\n",
    "for numero_nota in range(numero_inicial_nota, numero_maximo_nota + 1):\n",
    "    data_nota_ini = fake.date_time_between(start_date=datetime(2024, 1, 1), end_date=datetime(2024, 1, 20))\n",
    "    hora_aleatoria = random.randint(7, 21)  #Gera uma hora entre 8 e 22\n",
    "    minuto_aleatorio = random.randint(0, 59)  #Gera minutos aleatórios\n",
    "    segundo_aleatorio = random.randint(0, 59)  #Gera segundos aleatórios\n",
    "    data_nota = data_nota_ini.replace(hour=hora_aleatoria, minute=minuto_aleatorio, second=segundo_aleatorio) #Substituir o horário da data_nota pelo horário gerado\n",
    "    df_nota_fiscal, df_2 = gerar_nota_fiscal(numero_nota, lista_prod_DB, quant_maxima_itens, data_nota)\n",
    "    df_notas_fiscais.append(df_nota_fiscal)\n",
    "    df_notas_fiscais_2.append(df_2)\n",
    "\n",
    "# Concatenar todas as notas fiscais em um único DataFrame\n",
    "df_todas_notas = pd.concat(df_notas_fiscais, ignore_index=True)\n",
    "df_todas_notas2 = pd.concat(df_notas_fiscais_2, ignore_index=True)\n",
    "\n",
    "df_ITEMNOTA = pd.DataFrame({\n",
    "                'ID_NOTAFISCAL':  df_todas_notas['Numero_Nota'],\n",
    "                'ID_PRODUTO':     df_todas_notas['IDPRODUTO'],\n",
    "                'QUANTIDADE':     df_todas_notas['QUANTIDADE'],\n",
    "                'PRECO_UNIT':     df_todas_notas['PRECO_UNIT'],\n",
    "                'TOTAL_ITEM':     df_todas_notas['TOTAL_ITEM'],\n",
    "                'DATA_CRIACAO':   df_todas_notas['DATA_CRIACAO'],\n",
    "                'DATA_ATLZ':      df_todas_notas['DATA_ATLZ'],\n",
    "                'VERSAO':         df_todas_notas['VERSAO'],\n",
    "})\n",
    "\n",
    "df_NOTAFISCAL = pd.DataFrame({\n",
    "                'DATA':           df_todas_notas2['DATA_NOTAFISCAL'],\n",
    "                'TOTAL_NOTA':     df_todas_notas2['TOTAL_NOTA'],\n",
    "                'ID_FORMA_PGMT':  df_todas_notas2['ID_FORMA_PGMT'],\n",
    "                'ID_CLIENTE':     df_todas_notas2['ID_CLIENTE'],\n",
    "                'ID_LOJA':        df_todas_notas2['ID_LOJA'],\n",
    "                'ID_CFOP':        df_todas_notas2['ID_CFOP'],\n",
    "                'CHAVE_ACESSO':   df_todas_notas2['CHAVE_ACESSO'],\n",
    "                'DATA_CRIACAO':   df_todas_notas2['DATA_CRIACAO'],\n",
    "                'DATA_ATLZ':      df_todas_notas2['DATA_ATLZ'],\n",
    "                'VERSAO':         df_todas_notas2['VERSAO'],\n",
    "})\n",
    "\n",
    "df_VENDA = pd.DataFrame({\n",
    "                'DATA':           df_todas_notas['DATA_NOTAFISCAL'],\n",
    "                'ID_NOTAFISCAL':  df_todas_notas['Numero_Nota'],\n",
    "                'ID_CLIENTE':     df_todas_notas['ID_CLIENTE'],\n",
    "                'ID_LOJA':        df_todas_notas['ID_LOJA'],\n",
    "                'ID_FORMA_PGMT':  df_todas_notas['ID_FORMA_PGMT'],\n",
    "                'TOTAL_VENDA':     df_todas_notas['TOTAL_NOTA'],\n",
    "                'DATA_CRIACAO':   df_todas_notas['DATA_CRIACAO'],\n",
    "                'DATA_ATLZ':      df_todas_notas['DATA_ATLZ'],\n",
    "                'VERSAO':         df_todas_notas['VERSAO'],\n",
    "})\n",
    "\n",
    "caminho = r\"C:\\\\Users\\\\marce\\\\OneDrive\\Arquivos Antigos\\\\Área de Trabalho\\\\Projeto Supermecado - Arquivos\\\\VENDAS\"\n",
    "path_ITEMNOTA = r\"\\\\ITEMNOTA\\\\Novo(a) Documento de Texto.csv\"\n",
    "\n",
    "# Caminhos das pastas\n",
    "pastas = {\n",
    "    'ITEMNOTA': r\"C:\\\\Users\\\\marce\\\\OneDrive\\Arquivos Antigos\\\\Área de Trabalho\\\\Projeto Supermecado - Arquivos\\\\VENDAS\\\\ITEMNOTA\",\n",
    "    'NOTAFISCAL': r\"C:\\\\Users\\\\marce\\\\OneDrive\\Arquivos Antigos\\\\Área de Trabalho\\\\Projeto Supermecado - Arquivos\\\\VENDAS\\\\NOTAFISCAL\",\n",
    "    'VENDA': r\"C:\\\\Users\\\\marce\\\\OneDrive\\Arquivos Antigos\\\\Área de Trabalho\\\\Projeto Supermecado - Arquivos\\\\VENDAS\\\\VENDA\"\n",
    "}\n",
    "# Dicionário com os DataFrames e suas pastas correspondentes\n",
    "dataframes = {\n",
    "    'ITEMNOTA': df_ITEMNOTA,\n",
    "    'NOTAFISCAL': df_NOTAFISCAL,\n",
    "    'VENDA': df_VENDA\n",
    "}\n",
    "\n",
    "# Salvar cada DataFrame em um arquivo CSV na pasta correspondente\n",
    "for nome_df, df in dataframes.items():\n",
    "    try:\n",
    "        id_valor = f\"vendas_{numero_inicial_nota}ate_{numero_maximo_nota}\"\n",
    "        # Nome do arquivo\n",
    "        nome_arquivo = f\"arquivo_{nome_df}_{id_valor}.xlsx\"\n",
    "        \n",
    "        # Caminho completo do arquivo\n",
    "        caminho_completo = os.path.join(pastas[nome_df], nome_arquivo)\n",
    "        \n",
    "        # Salvar o DataFrame em um arquivo CSV\n",
    "        df.to_excel(caminho_completo, index=False)\n",
    "        print(f\"DataFrame {nome_df} salvo com sucesso em: {caminho_completo}\")\n",
    "    except Exception as e:\n",
    "        print(f\"Erro ao salvar o DataFrame {nome_df}: {e}\")"
   ]
  },
  {
   "cell_type": "code",
   "execution_count": null,
   "metadata": {},
   "outputs": [
    {
     "name": "stdout",
     "output_type": "stream",
     "text": [
      "Conexão com o banco de dados estabelecida com sucesso\n",
      "Query executada com sucesso\n",
      "A conexão foi bem-sucedida\n",
      "Arquivo vendas de 1000 ate 1039 salvos com sucesso.\n",
      "Arquivo vendas de 1040 ate 1087 salvos com sucesso.\n",
      "Arquivo vendas de 1088 ate 1144 salvos com sucesso.\n",
      "Arquivo vendas de 1145 ate 1195 salvos com sucesso.\n",
      "Arquivo vendas de 1196 ate 1274 salvos com sucesso.\n",
      "Arquivo vendas de 1275 ate 1357 salvos com sucesso.\n"
     ]
    }
   ],
   "source": [
    "#Script que gera NF, ITEMNF e VENDAS em formaato .xlsx direto na pasta para a importacao\n",
    "\n",
    "import random\n",
    "import pandas as pd\n",
    "import os\n",
    "from datetime import datetime, date\n",
    "from sqlalchemy import create_engine, VARCHAR,NUMERIC,INTEGER,DATE,DATETIME,String,text,CHAR\n",
    "import numpy as np\n",
    "from faker import Faker\n",
    "\n",
    "# Quantidade de notas fiscais\n",
    "\n",
    "numero_inicial_nota = 1000\n",
    "numero_maximo_nota = 3001\n",
    "quant_maxima_itens = 100\n",
    "variavel_controle_maximo_LOOP = 1300 #Valor maximo que da nota inicial dentro do loop de geracao de NF's\n",
    "\n",
    "fake = Faker()\n",
    "\n",
    "server = \"DESKTOP-HV85ADA\\\\PROJETO_MERCADO\"\n",
    "bancodados = \"MERCADO_OLTP\"\n",
    "driver = \"ODBC Driver 17 for SQL Server\"\n",
    "\n",
    "conexaostring = f\"mssql+pyodbc://{server}/{bancodados}?driver={driver}&Trusted_Connection=yes\"\n",
    "engine = create_engine(conexaostring)\n",
    "\n",
    "#Função para testar a conexão\n",
    "def testar_conexao_sqlalchemy(engine):\n",
    "    try:        \n",
    "        with engine.connect() as conexao: #Tenta conectar ao banco de dados\n",
    "            print(\"Conexão com o banco de dados estabelecida com sucesso\")\n",
    "            result = conexao.execute(text(\"SELECT 1 AS teste\")) #Executa uma consulta para testar a conexão\n",
    "            print(\"Query executada com sucesso\")\n",
    "            return True\n",
    "    except Exception as e:\n",
    "        print(f\"Erro ao conectar ao banco de dados: {e}\")\n",
    "        return False\n",
    "#testa a conexão\n",
    "if testar_conexao_sqlalchemy(engine): \n",
    "    print(\"A conexão foi bem-sucedida\")\n",
    "else:\n",
    "    print(\"Falha na conexão.\")\n",
    "\n",
    "# Função para gerar a nota fiscal\n",
    "def gerar_nota_fiscal(numero_nota, lista_produtos, quant_maxima_itens, data_nota):\n",
    "    # Garantir que a quantidade de itens únicos seja pelo menos 1\n",
    "    quant_item_unicos = random.randint(1, quant_maxima_itens)  # Gerar quantidade aleatória de itens únicos na nota fiscal\n",
    "    #print(f\"Quantidade de itens únicos na nota {numero_nota}: {quant_item_unicos}\")\n",
    "\n",
    "    lista_saida = []  # Lista para armazenar os itens da nota fiscal\n",
    "    lista_NOTAFISCAL = []   \n",
    "\n",
    "    id_forma_pgmt = random.randint(1, 8)\n",
    "    total_clientes_db = (engine.connect().execute(text(\"SELECT COUNT(IDCLIENTE) FROM [MERCADO_OLTP].[dbo].CLIENTE\"))).scalar()\n",
    "    id_cliente = random.randint(1, total_clientes_db)\n",
    "    total_lojas_db = (engine.connect().execute(text(\"SELECT COUNT(IDLOJA) FROM [MERCADO_OLTP].[dbo].LOJA\"))).scalar()\n",
    "    id_loja = random.randint(1, total_lojas_db)\n",
    "    id_cfop = random.randint(1, 6)\n",
    "    chaveacesso = ''.join([str(random.randint(0, 9)) for _ in range(44)])\n",
    "    data_criacao = data_nota.date()\n",
    "    data_atlz = \"\"\n",
    "    versao = 1\n",
    "    \n",
    "    # Gerar os itens da nota fiscal\n",
    "    for _ in range(quant_item_unicos):\n",
    "        produto = random.choice(lista_produtos)\n",
    "        if produto in df_prod[\"NOME\"].values:\n",
    "            preco_unit = df_prod.loc[df_prod[\"NOME\"] == produto, \"PRECO_UNIT\"].values[0]\n",
    "            id_produto = df_prod.loc[df_prod[\"NOME\"] == produto, \"IDPRODUTO\"].values[0]\n",
    "            preco_unit = round(float(preco_unit), 2)  # Preço unitário com 2 casas decimais\n",
    "            quantidade = random.randint(1, 10)  # Quantidade aleatória do produto\n",
    "            preco_total_item = round(quantidade * preco_unit, 2)  # Total do item\n",
    "            lista_saida.append((data_nota, numero_nota, produto, quantidade, preco_unit, preco_total_item, \n",
    "                                id_forma_pgmt, id_cliente, id_loja, id_cfop, chaveacesso, data_criacao, \n",
    "                                data_atlz, versao,id_produto))            \n",
    "\n",
    "    # Calcular o total da nota fiscal\n",
    "    preco_total_nota = round(sum(item[5] for item in lista_saida), 2)\n",
    "    \n",
    "    # Adicionar o total da nota a cada item da lista\n",
    "    lista_saida = [item + (preco_total_nota,) for item in lista_saida]\n",
    "   \n",
    "    lista_NOTAFISCAL.append((data_nota, id_forma_pgmt, id_cliente, id_loja, id_cfop, chaveacesso, data_criacao, \n",
    "                             data_atlz, versao,preco_total_nota))\n",
    "    \n",
    "\n",
    "    # Criar um DataFrame com os dados da nota fiscal\n",
    "    df_nota_fiscal = pd.DataFrame(\n",
    "        lista_saida, columns=[\"DATA_NOTAFISCAL\", \"Numero_Nota\", \"Produto\", \"QUANTIDADE\", \"PRECO_UNIT\", \"TOTAL_ITEM\", \n",
    "                              \"ID_FORMA_PGMT\", \"ID_CLIENTE\", \"ID_LOJA\", \"ID_CFOP\",\"CHAVE_ACESSO\",\"DATA_CRIACAO\",\n",
    "                              \"DATA_ATLZ\",\"VERSAO\", \"IDPRODUTO\",\"TOTAL_NOTA\"]\n",
    "    )\n",
    "\n",
    "    df_2 = pd.DataFrame(\n",
    "        lista_NOTAFISCAL, columns=[\"DATA_NOTAFISCAL\", \"ID_FORMA_PGMT\", \"ID_CLIENTE\", \"ID_LOJA\", \"ID_CFOP\", \n",
    "                                   \"CHAVE_ACESSO\", \"DATA_CRIACAO\", \"DATA_ATLZ\", \"VERSAO\",\"TOTAL_NOTA\"]\n",
    "    )\n",
    "\n",
    "    \n",
    "    return df_nota_fiscal, df_2\n",
    "\n",
    "\n",
    "while numero_inicial_nota < variavel_controle_maximo_LOOP:\n",
    "    try:\n",
    "        \n",
    "        incremento = random.randint(33, 87)\n",
    "        numero_maximo_nota = numero_inicial_nota + incremento\n",
    "        df_prod = pd.read_sql(text(f\"SELECT IDPRODUTO, NOME, PRECO_UNIT FROM PRODUTO \"),engine)\n",
    "        lista_prod_DB = df_prod['NOME'].to_list()\n",
    "        df_notas_fiscais = []\n",
    "        df_notas_fiscais_2 = []\n",
    "        for numero_nota in range(numero_inicial_nota, numero_maximo_nota + 1):\n",
    "            data_nota_ini = fake.date_time_between(start_date=datetime(2024, 1, 1), end_date=datetime(2024, 1, 20))\n",
    "            hora_aleatoria = random.randint(7, 21)  #Gera uma hora entre 8 e 22\n",
    "            minuto_aleatorio = random.randint(0, 59)  #Gera minutos aleatórios\n",
    "            segundo_aleatorio = random.randint(0, 59)  #Gera segundos aleatórios\n",
    "            data_nota = data_nota_ini.replace(hour=hora_aleatoria, minute=minuto_aleatorio, second=segundo_aleatorio) #Substituir o horário da data_nota pelo horário gerado\n",
    "            df_nota_fiscal, df_2 = gerar_nota_fiscal(numero_nota, lista_prod_DB, quant_maxima_itens, data_nota)\n",
    "            df_notas_fiscais.append(df_nota_fiscal)\n",
    "            df_notas_fiscais_2.append(df_2)\n",
    "        df_todas_notas = pd.concat(df_notas_fiscais, ignore_index=True)\n",
    "        df_todas_notas2 = pd.concat(df_notas_fiscais_2, ignore_index=True)\n",
    "        df_ITEMNOTA = pd.DataFrame({\n",
    "                    'ID_NOTAFISCAL':  df_todas_notas['Numero_Nota'],\n",
    "                    'ID_PRODUTO':     df_todas_notas['IDPRODUTO'],\n",
    "                    'QUANTIDADE':     df_todas_notas['QUANTIDADE'],\n",
    "                    'PRECO_UNIT':     df_todas_notas['PRECO_UNIT'],\n",
    "                    'TOTAL_ITEM':     df_todas_notas['TOTAL_ITEM'],\n",
    "                    'DATA_CRIACAO':   df_todas_notas['DATA_CRIACAO'],\n",
    "                    'DATA_ATLZ':      df_todas_notas['DATA_ATLZ'],\n",
    "                    'VERSAO':         df_todas_notas['VERSAO'],\n",
    "        })\n",
    "        df_NOTAFISCAL = pd.DataFrame({\n",
    "                        'DATA':           df_todas_notas2['DATA_NOTAFISCAL'],\n",
    "                        'TOTAL_NOTA':     df_todas_notas2['TOTAL_NOTA'],\n",
    "                        'ID_FORMA_PGMT':  df_todas_notas2['ID_FORMA_PGMT'],\n",
    "                        'ID_CLIENTE':     df_todas_notas2['ID_CLIENTE'],\n",
    "                        'ID_LOJA':        df_todas_notas2['ID_LOJA'],\n",
    "                        'ID_CFOP':        df_todas_notas2['ID_CFOP'],\n",
    "                        'CHAVE_ACESSO':   df_todas_notas2['CHAVE_ACESSO'],\n",
    "                        'DATA_CRIACAO':   df_todas_notas2['DATA_CRIACAO'],\n",
    "                        'DATA_ATLZ':      df_todas_notas2['DATA_ATLZ'],\n",
    "                        'VERSAO':         df_todas_notas2['VERSAO'],\n",
    "        })\n",
    "        df_VENDA = pd.DataFrame({\n",
    "                        'DATA':           df_todas_notas['DATA_NOTAFISCAL'],\n",
    "                        'ID_NOTAFISCAL':  df_todas_notas['Numero_Nota'],\n",
    "                        'ID_CLIENTE':     df_todas_notas['ID_CLIENTE'],\n",
    "                        'ID_LOJA':        df_todas_notas['ID_LOJA'],\n",
    "                        'ID_FORMA_PGMT':  df_todas_notas['ID_FORMA_PGMT'],\n",
    "                        'TOTAL_VENDA':     df_todas_notas['TOTAL_NOTA'],\n",
    "                        'DATA_CRIACAO':   df_todas_notas['DATA_CRIACAO'],\n",
    "                        'DATA_ATLZ':      df_todas_notas['DATA_ATLZ'],\n",
    "                        'VERSAO':         df_todas_notas['VERSAO'],\n",
    "        })\n",
    "        caminho = r\"C:\\\\Users\\\\marce\\\\OneDrive\\Arquivos Antigos\\\\Área de Trabalho\\\\Projeto Supermecado - Arquivos\\\\VENDAS\"\n",
    "        path_ITEMNOTA = r\"\\\\ITEMNOTA\\\\Novo(a) Documento de Texto.csv\"\n",
    "\n",
    "        # Caminhos das pastas\n",
    "        pastas = {\n",
    "            'ITEMNOTA': r\"C:\\\\Users\\\\marce\\\\OneDrive\\Arquivos Antigos\\\\Área de Trabalho\\\\Projeto Supermecado - Arquivos\\\\VENDAS\\\\ITEMNOTA\",\n",
    "            'NOTAFISCAL': r\"C:\\\\Users\\\\marce\\\\OneDrive\\Arquivos Antigos\\\\Área de Trabalho\\\\Projeto Supermecado - Arquivos\\\\VENDAS\\\\NOTAFISCAL\",\n",
    "            'VENDA': r\"C:\\\\Users\\\\marce\\\\OneDrive\\Arquivos Antigos\\\\Área de Trabalho\\\\Projeto Supermecado - Arquivos\\\\VENDAS\\\\VENDA\"\n",
    "        }\n",
    "        # Dicionário com os DataFrames e suas pastas correspondentes\n",
    "        dataframes = {\n",
    "            'ITEMNOTA': df_ITEMNOTA,\n",
    "            'NOTAFISCAL': df_NOTAFISCAL,\n",
    "            'VENDA': df_VENDA\n",
    "        }\n",
    "        # Salvar cada DataFrame em um arquivo CSV na pasta correspondente\n",
    "        for nome_df, df in dataframes.items():\n",
    "            try:\n",
    "                id_valor = f\"vendas_{numero_inicial_nota}ate_{numero_maximo_nota}\"\n",
    "                # Nome do arquivo\n",
    "                nome_arquivo = f\"arquivo_{nome_df}_{id_valor}.xlsx\"\n",
    "\n",
    "                # Caminho completo do arquivo\n",
    "                caminho_completo = os.path.join(pastas[nome_df], nome_arquivo)\n",
    "\n",
    "                # Salvar o DataFrame em um arquivo CSV\n",
    "                df.to_excel(caminho_completo, index=False)\n",
    "                #print(f\"DataFrame {nome_df} salvo com sucesso em: {caminho_completo}\")\n",
    "            except Exception as e:\n",
    "                print(f\"Erro ao salvar o DataFrame {nome_df}: {e}\")\n",
    "        print(f\"Arquivo vendas de {numero_inicial_nota} ate {numero_maximo_nota} salvos com sucesso.\")\n",
    "        numero_inicial_nota = numero_maximo_nota + 1\n",
    "    except Exception as e:\n",
    "       print(f\"Erro ao gerar os arquivos: {e}\") "
   ]
  },
  {
   "cell_type": "code",
   "execution_count": null,
   "metadata": {},
   "outputs": [],
   "source": [
    "#Script para enviar arquivos da pasta Vendas par o Sql server\n",
    "\n",
    "import random\n",
    "import pandas as pd\n",
    "from datetime import datetime, date\n",
    "from sqlalchemy import create_engine, VARCHAR,NUMERIC,INTEGER,DATE,DATETIME,String,text,CHAR\n",
    "import numpy as np\n",
    "from faker import Faker\n",
    "from sqlalchemy.exc import SQLAlchemyError\n",
    "import os\n",
    "\n",
    "fake = Faker()\n",
    "\n",
    "server = \"DESKTOP-HV85ADA\\\\PROJETO_MERCADO\"\n",
    "bancodados = \"MERCADO_OLTP\"\n",
    "driver = \"ODBC Driver 17 for SQL Server\"\n",
    "\n",
    "conexaostring = f\"mssql+pyodbc://{server}/{bancodados}?driver={driver}&Trusted_Connection=yes\"\n",
    "engine = create_engine(conexaostring)\n",
    "\n",
    "#Função para testar a conexão\n",
    "def testar_conexao_sqlalchemy(engine):\n",
    "    try:        \n",
    "        with engine.connect() as conexao: #Tenta conectar ao banco de dados\n",
    "            print(\"Conexão com o banco de dados estabelecida com sucesso\")\n",
    "            result = conexao.execute(text(\"SELECT 1 AS teste\")) #Executa uma consulta para testar a conexão\n",
    "            print(\"Query executada com sucesso\")\n",
    "            return True\n",
    "    except Exception as e:\n",
    "        print(f\"Erro ao conectar ao banco de dados: {e}\")\n",
    "        return False\n",
    "#testa a conexão\n",
    "if testar_conexao_sqlalchemy(engine): \n",
    "    print(\"A conexão foi bem-sucedida\")\n",
    "else:\n",
    "    print(\"Falha na conexão.\")\n",
    "\n",
    "def ler_arquivos_xlsx(caminho_pasta):\n",
    "    dataframes = []\n",
    "    for arquivo in os.listdir(caminho_pasta):\n",
    "        if arquivo.endswith(\".xlsx\"):\n",
    "            try:\n",
    "                caminho_completo = os.path.join(caminho_pasta, arquivo)\n",
    "                df = pd.read_excel(caminho_completo)\n",
    "                dataframes.append(df)\n",
    "                print(f\"Arquivo {arquivo} lido com sucesso.\")\n",
    "            except Exception as e:\n",
    "                print(f\"Erro ao ler o arquivo {arquivo}: {e}\")\n",
    "    return pd.concat(dataframes, ignore_index=True) if dataframes else pd.DataFrame()\n",
    "\n",
    "#Caminhos das pastas\n",
    "caminho_itemnota = r\"C:\\Users\\marce\\OneDrive\\Arquivos Antigos\\Área de Trabalho\\Projeto Supermecado - Arquivos\\VENDAS\\ITEMNOTA\"\n",
    "caminho_notafiscal = r\"C:\\Users\\marce\\OneDrive\\Arquivos Antigos\\Área de Trabalho\\Projeto Supermecado - Arquivos\\VENDAS\\NOTAFISCAL\"\n",
    "caminho_venda = r\"C:\\Users\\marce\\OneDrive\\Arquivos Antigos\\Área de Trabalho\\Projeto Supermecado - Arquivos\\VENDAS\\VENDA\"\n",
    "\n",
    "#Lê os arquivos e cria os DataFrames\n",
    "df_ITEMNOTA = ler_arquivos_xlsx(caminho_itemnota)\n",
    "df_NOTAFISCAL = ler_arquivos_xlsx(caminho_notafiscal)\n",
    "df_VENDA = ler_arquivos_xlsx(caminho_venda)\n",
    "\n",
    "#Exibe os DataFrames\n",
    "print(\"\\nDataFrame ITEMNOTA:\")\n",
    "display(df_ITEMNOTA)\n",
    "\n",
    "print(\"\\nDataFrame NOTAFISCAL:\")\n",
    "display(df_NOTAFISCAL)\n",
    "\n",
    "print(\"\\nDataFrame VENDA:\")\n",
    "display(df_VENDA)\n"
   ]
  }
 ],
 "metadata": {
  "kernelspec": {
   "display_name": "Python 3",
   "language": "python",
   "name": "python3"
  },
  "language_info": {
   "codemirror_mode": {
    "name": "ipython",
    "version": 3
   },
   "file_extension": ".py",
   "mimetype": "text/x-python",
   "name": "python",
   "nbconvert_exporter": "python",
   "pygments_lexer": "ipython3",
   "version": "3.13.2"
  }
 },
 "nbformat": 4,
 "nbformat_minor": 2
}
