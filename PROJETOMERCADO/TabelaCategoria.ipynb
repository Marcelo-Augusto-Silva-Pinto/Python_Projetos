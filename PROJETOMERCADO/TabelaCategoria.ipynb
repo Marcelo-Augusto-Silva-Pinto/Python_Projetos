{
 "cells": [
  {
   "cell_type": "code",
   "execution_count": 20,
   "metadata": {},
   "outputs": [],
   "source": [
    "#Script para gerar a tabela Categoria\n",
    "\n",
    "import pandas as pd\n",
    "from datetime import date\n",
    "\n",
    "categorias= [\"Mercearia\",\"Limpeza\",\"Higiene Pessoal\",\"Bebidas\",\"Bebidas Alcoolicas\",\"Laticinios\",\"Carnes\",\"Congelados\",\n",
    "             \"Enlatados\",\"Hortifruti\",\"Padaria\",\"Utensilios\"]\n",
    "\n",
    "cat_descr = [\"Produtos não perecíveis, que não precisam de refrigeração\",\n",
    "             \"Produtos relacionados à todo tipo de limpeza\",\n",
    "             \"Produtos que servem para limpar e cuidar do corpo\",\n",
    "             \"Bebidas nao alcoolicas: águas, refrigerantes, sucos\",\n",
    "             \"Bebidas alcoolicas: vinhos, cervejas, bebidas destiladas\",\n",
    "             \"Produtos alimentícios derivados do leite\",\n",
    "             \"Acougue\",\n",
    "             \"Produtos ultraprocessados, congelados e prontos para o consumo\",\n",
    "             \"Produtos em conserva e enlatados\",\n",
    "             \"Produtos hortifrutiganjeiro, altamente perecíveis\",\n",
    "             \"Tipos de pães, torradas, bolos, petit-fours, salgados, doces e confeitos.\",\n",
    "             \"Itens de utilidades domésticas, como utensílios para cozinha, papelaria, artigos para festa, brinquedos\"\n",
    "             \n",
    "]\n",
    "\n",
    "df_categoria = pd.DataFrame({\n",
    "                              \"NOME\":         categorias,\n",
    "                              \"DESCRICAO\":    cat_descr,  \n",
    "                              \"DATA_CRIACAO\": date.today().strftime('%d/%m/%Y'),\n",
    "                              \"DATA_ATLZ\":    \"\",\n",
    "                              \"VERSAO\":       1\n",
    "\n",
    "})\n",
    "\n",
    "df_categoria.head(15)\n",
    "\n",
    "caminho = r\"C:\\\\Users\\\\marce\\\\OneDrive\\\\Arquivos Antigos\\\\Área de Trabalho\\\\Projeto Supermecado - Arquivos\\\\BANCO DE DADOS\\\\DADOS\\\\CATEGORIA\\\\\"\n",
    "arquivo = r\"CATEGORIA.xlsx\"\n",
    "caminho_completo = caminho+arquivo\n",
    "\n",
    "df_categoria.to_excel(caminho_completo,index=False)\n"
   ]
  },
  {
   "cell_type": "code",
   "execution_count": 21,
   "metadata": {},
   "outputs": [],
   "source": [
    "#Script para enviar tabela xlsx para SQL da CATEGORIA\n",
    "\n",
    "import pandas as pd\n",
    "from sqlalchemy import create_engine, VARCHAR,NUMERIC,INTEGER,DATE,DATETIME,String,text\n",
    "\n",
    "conexaoDB = ('DRIVER={ODBC Driver 17 for SQL Server};SERVER=DESKTOP-HV85ADA\\\\PROJETO_MERCADO;DATABASE=MERCADO_OLTP;Trusted_Connection=yes;')\n",
    "engine = create_engine(f'mssql+pyodbc:///?odbc_connect={conexaoDB}')\n",
    "\n",
    "caminho = r\"C:\\\\Users\\\\marce\\\\OneDrive\\\\Arquivos Antigos\\\\Área de Trabalho\\\\Projeto Supermecado - Arquivos\\\\BANCO DE DADOS\\\\DADOS\\\\CATEGORIA\\\\\"\n",
    "arquivo = r\"CATEGORIA.xlsx\"\n",
    "caminho_completo = caminho+arquivo\n",
    "\n",
    "dados = pd.read_excel(caminho_completo)\n",
    "\n",
    "tipo_dados = {\n",
    "\n",
    "    #'id':INTEGER,\n",
    "    'NOME':VARCHAR(50),\n",
    "    'DESCRICAO': VARCHAR(150),\n",
    "    'DATA_CRIACAO': DATE,\n",
    "    'DATA_ATLZ': DATE,\n",
    "    'VERSAO': INTEGER\n",
    "\n",
    "}\n",
    "\n",
    "dados.to_sql(name='CATEGORIA',con=engine,if_exists='replace',index=False,dtype=tipo_dados)\n",
    "\n",
    "engine.dispose()"
   ]
  }
 ],
 "metadata": {
  "kernelspec": {
   "display_name": "Python 3",
   "language": "python",
   "name": "python3"
  },
  "language_info": {
   "codemirror_mode": {
    "name": "ipython",
    "version": 3
   },
   "file_extension": ".py",
   "mimetype": "text/x-python",
   "name": "python",
   "nbconvert_exporter": "python",
   "pygments_lexer": "ipython3",
   "version": "3.13.2"
  }
 },
 "nbformat": 4,
 "nbformat_minor": 2
}
