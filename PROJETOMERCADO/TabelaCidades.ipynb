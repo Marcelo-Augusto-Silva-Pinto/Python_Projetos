{
 "cells": [
  {
   "cell_type": "code",
   "execution_count": 39,
   "metadata": {},
   "outputs": [
    {
     "data": {
      "application/vnd.microsoft.datawrangler.viewer.v0+json": {
       "columns": [
        {
         "name": "index",
         "rawType": "int64",
         "type": "integer"
        },
        {
         "name": "NOME",
         "rawType": "object",
         "type": "string"
        },
        {
         "name": "ID_ESTADO",
         "rawType": "int64",
         "type": "integer"
        }
       ],
       "conversionMethod": "pd.DataFrame",
       "ref": "9c4d1d4f-f916-496e-98e1-c2e7a9a86375",
       "rows": [
        [
         "0",
         "Alta Floresta D Oeste",
         "21"
        ],
        [
         "1",
         "Ariquemes",
         "21"
        ],
        [
         "2",
         "Cabixi",
         "21"
        ],
        [
         "3",
         "Cacoal",
         "21"
        ],
        [
         "4",
         "Cerejeiras",
         "21"
        ],
        [
         "5",
         "Colorado do Oeste",
         "21"
        ],
        [
         "6",
         "Corumbiara",
         "21"
        ],
        [
         "7",
         "Costa Marques",
         "21"
        ],
        [
         "8",
         "Espigão D Oeste",
         "21"
        ],
        [
         "9",
         "Guajará-Mirim",
         "21"
        ],
        [
         "10",
         "Jaru",
         "21"
        ],
        [
         "11",
         "Ji-Paraná",
         "21"
        ],
        [
         "12",
         "Machadinho D Oeste",
         "21"
        ],
        [
         "13",
         "Nova Brasilândia D Oeste",
         "21"
        ],
        [
         "14",
         "Ouro Preto do Oeste",
         "21"
        ],
        [
         "15",
         "Pimenta Bueno",
         "21"
        ],
        [
         "16",
         "Porto Velho",
         "21"
        ],
        [
         "17",
         "Presidente Médici",
         "21"
        ],
        [
         "18",
         "Rio Crespo",
         "21"
        ],
        [
         "19",
         "Rolim de Moura",
         "21"
        ],
        [
         "20",
         "Santa Luzia D Oeste",
         "21"
        ],
        [
         "21",
         "Vilhena",
         "21"
        ],
        [
         "22",
         "São Miguel do Guaporé",
         "21"
        ],
        [
         "23",
         "Nova Mamoré",
         "21"
        ],
        [
         "24",
         "Alvorada D Oeste",
         "21"
        ],
        [
         "25",
         "Alto Alegre dos Parecis",
         "21"
        ],
        [
         "26",
         "Alto Paraíso",
         "21"
        ],
        [
         "27",
         "Buritis",
         "21"
        ],
        [
         "28",
         "Novo Horizonte do Oeste",
         "21"
        ],
        [
         "29",
         "Cacaulândia",
         "21"
        ],
        [
         "30",
         "Campo Novo de Rondônia",
         "21"
        ],
        [
         "31",
         "Candeias do Jamari",
         "21"
        ],
        [
         "32",
         "Castanheiras",
         "21"
        ],
        [
         "33",
         "Chupinguaia",
         "21"
        ],
        [
         "34",
         "Cujubim",
         "21"
        ],
        [
         "35",
         "Governador Jorge Teixeira",
         "21"
        ],
        [
         "36",
         "Itapuã do Oeste",
         "21"
        ],
        [
         "37",
         "Ministro Andreazza",
         "21"
        ],
        [
         "38",
         "Mirante da Serra",
         "21"
        ],
        [
         "39",
         "Monte Negro",
         "21"
        ],
        [
         "40",
         "Nova União",
         "21"
        ],
        [
         "41",
         "Parecis",
         "21"
        ],
        [
         "42",
         "Pimenteiras do Oeste",
         "21"
        ],
        [
         "43",
         "Primavera de Rondônia",
         "21"
        ],
        [
         "44",
         "São Felipe D Oeste",
         "21"
        ],
        [
         "45",
         "São Francisco do Guaporé",
         "21"
        ],
        [
         "46",
         "Seringueiras",
         "21"
        ],
        [
         "47",
         "Teixeirópolis",
         "21"
        ],
        [
         "48",
         "Theobroma",
         "21"
        ],
        [
         "49",
         "Urupá",
         "21"
        ]
       ],
       "shape": {
        "columns": 2,
        "rows": 5564
       }
      },
      "text/html": [
       "<div>\n",
       "<style scoped>\n",
       "    .dataframe tbody tr th:only-of-type {\n",
       "        vertical-align: middle;\n",
       "    }\n",
       "\n",
       "    .dataframe tbody tr th {\n",
       "        vertical-align: top;\n",
       "    }\n",
       "\n",
       "    .dataframe thead th {\n",
       "        text-align: right;\n",
       "    }\n",
       "</style>\n",
       "<table border=\"1\" class=\"dataframe\">\n",
       "  <thead>\n",
       "    <tr style=\"text-align: right;\">\n",
       "      <th></th>\n",
       "      <th>NOME</th>\n",
       "      <th>ID_ESTADO</th>\n",
       "    </tr>\n",
       "  </thead>\n",
       "  <tbody>\n",
       "    <tr>\n",
       "      <th>0</th>\n",
       "      <td>Alta Floresta D Oeste</td>\n",
       "      <td>21</td>\n",
       "    </tr>\n",
       "    <tr>\n",
       "      <th>1</th>\n",
       "      <td>Ariquemes</td>\n",
       "      <td>21</td>\n",
       "    </tr>\n",
       "    <tr>\n",
       "      <th>2</th>\n",
       "      <td>Cabixi</td>\n",
       "      <td>21</td>\n",
       "    </tr>\n",
       "    <tr>\n",
       "      <th>3</th>\n",
       "      <td>Cacoal</td>\n",
       "      <td>21</td>\n",
       "    </tr>\n",
       "    <tr>\n",
       "      <th>4</th>\n",
       "      <td>Cerejeiras</td>\n",
       "      <td>21</td>\n",
       "    </tr>\n",
       "    <tr>\n",
       "      <th>...</th>\n",
       "      <td>...</td>\n",
       "      <td>...</td>\n",
       "    </tr>\n",
       "    <tr>\n",
       "      <th>5559</th>\n",
       "      <td>Vianópolis</td>\n",
       "      <td>9</td>\n",
       "    </tr>\n",
       "    <tr>\n",
       "      <th>5560</th>\n",
       "      <td>Vicentinópolis</td>\n",
       "      <td>9</td>\n",
       "    </tr>\n",
       "    <tr>\n",
       "      <th>5561</th>\n",
       "      <td>Vila Boa</td>\n",
       "      <td>9</td>\n",
       "    </tr>\n",
       "    <tr>\n",
       "      <th>5562</th>\n",
       "      <td>Vila Propício</td>\n",
       "      <td>9</td>\n",
       "    </tr>\n",
       "    <tr>\n",
       "      <th>5563</th>\n",
       "      <td>Brasília *</td>\n",
       "      <td>7</td>\n",
       "    </tr>\n",
       "  </tbody>\n",
       "</table>\n",
       "<p>5564 rows × 2 columns</p>\n",
       "</div>"
      ],
      "text/plain": [
       "                       NOME  ID_ESTADO\n",
       "0     Alta Floresta D Oeste         21\n",
       "1                 Ariquemes         21\n",
       "2                    Cabixi         21\n",
       "3                    Cacoal         21\n",
       "4                Cerejeiras         21\n",
       "...                     ...        ...\n",
       "5559             Vianópolis          9\n",
       "5560         Vicentinópolis          9\n",
       "5561               Vila Boa          9\n",
       "5562          Vila Propício          9\n",
       "5563             Brasília *          7\n",
       "\n",
       "[5564 rows x 2 columns]"
      ]
     },
     "metadata": {},
     "output_type": "display_data"
    },
    {
     "data": {
      "application/vnd.microsoft.datawrangler.viewer.v0+json": {
       "columns": [
        {
         "name": "index",
         "rawType": "int64",
         "type": "integer"
        },
        {
         "name": "ESTADO",
         "rawType": "object",
         "type": "string"
        },
        {
         "name": "UF",
         "rawType": "object",
         "type": "string"
        },
        {
         "name": "REGIAO",
         "rawType": "object",
         "type": "string"
        },
        {
         "name": "PAIS",
         "rawType": "object",
         "type": "string"
        }
       ],
       "conversionMethod": "pd.DataFrame",
       "ref": "9c559ac0-f985-49c7-9451-7fac518b317e",
       "rows": [
        [
         "0",
         "Acre",
         "AC",
         "Norte",
         "Brasil"
        ],
        [
         "1",
         "Alagoas",
         "AL",
         "Nordeste",
         "Brasil"
        ],
        [
         "2",
         "Amazonas",
         "AM",
         "Norte",
         "Brasil"
        ],
        [
         "3",
         "Amapa",
         "AP",
         "Norte",
         "Brasil"
        ],
        [
         "4",
         "Bahia",
         "BA",
         "Nordeste",
         "Brasil"
        ],
        [
         "5",
         "Ceara",
         "CE",
         "Nordeste",
         "Brasil"
        ],
        [
         "6",
         "Distrito Federal",
         "DF",
         "Centro-Oeste",
         "Brasil"
        ],
        [
         "7",
         "Espirito Santo",
         "ES",
         "Sudeste",
         "Brasil"
        ],
        [
         "8",
         "Goias",
         "GO",
         "Centro-Oeste",
         "Brasil"
        ],
        [
         "9",
         "Maranhao",
         "MA",
         "Nordeste",
         "Brasil"
        ],
        [
         "10",
         "Minas Gerais",
         "MG",
         "Sudeste",
         "Brasil"
        ],
        [
         "11",
         "Mato Grosso do Sul",
         "MS",
         "Centro-Oeste",
         "Brasil"
        ],
        [
         "12",
         "Mato Grosso",
         "MT",
         "Centro-Oeste",
         "Brasil"
        ],
        [
         "13",
         "Para",
         "PA",
         "Norte",
         "Brasil"
        ],
        [
         "14",
         "Paraiba",
         "PB",
         "Nordeste",
         "Brasil"
        ],
        [
         "15",
         "Pernambuco",
         "PE",
         "Nordeste",
         "Brasil"
        ],
        [
         "16",
         "Piaui",
         "PI",
         "Nordeste",
         "Brasil"
        ],
        [
         "17",
         "Parana",
         "PR",
         "Sul",
         "Brasil"
        ],
        [
         "18",
         "Rio de Janeiro",
         "RJ",
         "Sudeste",
         "Brasil"
        ],
        [
         "19",
         "Rio Grande do Norte",
         "RN",
         "Nordeste",
         "Brasil"
        ],
        [
         "20",
         "Rondonia",
         "RO",
         "Norte",
         "Brasil"
        ],
        [
         "21",
         "Roraima",
         "RR",
         "Norte",
         "Brasil"
        ],
        [
         "22",
         "Rio Grande do Sul",
         "RS",
         "Sul",
         "Brasil"
        ],
        [
         "23",
         "Santa Catarina",
         "SC",
         "Sul",
         "Brasil"
        ],
        [
         "24",
         "Sergipe",
         "SE",
         "Nordeste",
         "Brasil"
        ],
        [
         "25",
         "Sao Paulo",
         "SP",
         "Sudeste",
         "Brasil"
        ],
        [
         "26",
         "Tocantins",
         "TO",
         "Norte",
         "Brasil"
        ]
       ],
       "shape": {
        "columns": 4,
        "rows": 27
       }
      },
      "text/html": [
       "<div>\n",
       "<style scoped>\n",
       "    .dataframe tbody tr th:only-of-type {\n",
       "        vertical-align: middle;\n",
       "    }\n",
       "\n",
       "    .dataframe tbody tr th {\n",
       "        vertical-align: top;\n",
       "    }\n",
       "\n",
       "    .dataframe thead th {\n",
       "        text-align: right;\n",
       "    }\n",
       "</style>\n",
       "<table border=\"1\" class=\"dataframe\">\n",
       "  <thead>\n",
       "    <tr style=\"text-align: right;\">\n",
       "      <th></th>\n",
       "      <th>ESTADO</th>\n",
       "      <th>UF</th>\n",
       "      <th>REGIAO</th>\n",
       "      <th>PAIS</th>\n",
       "    </tr>\n",
       "  </thead>\n",
       "  <tbody>\n",
       "    <tr>\n",
       "      <th>0</th>\n",
       "      <td>Acre</td>\n",
       "      <td>AC</td>\n",
       "      <td>Norte</td>\n",
       "      <td>Brasil</td>\n",
       "    </tr>\n",
       "    <tr>\n",
       "      <th>1</th>\n",
       "      <td>Alagoas</td>\n",
       "      <td>AL</td>\n",
       "      <td>Nordeste</td>\n",
       "      <td>Brasil</td>\n",
       "    </tr>\n",
       "    <tr>\n",
       "      <th>2</th>\n",
       "      <td>Amazonas</td>\n",
       "      <td>AM</td>\n",
       "      <td>Norte</td>\n",
       "      <td>Brasil</td>\n",
       "    </tr>\n",
       "    <tr>\n",
       "      <th>3</th>\n",
       "      <td>Amapa</td>\n",
       "      <td>AP</td>\n",
       "      <td>Norte</td>\n",
       "      <td>Brasil</td>\n",
       "    </tr>\n",
       "    <tr>\n",
       "      <th>4</th>\n",
       "      <td>Bahia</td>\n",
       "      <td>BA</td>\n",
       "      <td>Nordeste</td>\n",
       "      <td>Brasil</td>\n",
       "    </tr>\n",
       "    <tr>\n",
       "      <th>5</th>\n",
       "      <td>Ceara</td>\n",
       "      <td>CE</td>\n",
       "      <td>Nordeste</td>\n",
       "      <td>Brasil</td>\n",
       "    </tr>\n",
       "    <tr>\n",
       "      <th>6</th>\n",
       "      <td>Distrito Federal</td>\n",
       "      <td>DF</td>\n",
       "      <td>Centro-Oeste</td>\n",
       "      <td>Brasil</td>\n",
       "    </tr>\n",
       "    <tr>\n",
       "      <th>7</th>\n",
       "      <td>Espirito Santo</td>\n",
       "      <td>ES</td>\n",
       "      <td>Sudeste</td>\n",
       "      <td>Brasil</td>\n",
       "    </tr>\n",
       "    <tr>\n",
       "      <th>8</th>\n",
       "      <td>Goias</td>\n",
       "      <td>GO</td>\n",
       "      <td>Centro-Oeste</td>\n",
       "      <td>Brasil</td>\n",
       "    </tr>\n",
       "    <tr>\n",
       "      <th>9</th>\n",
       "      <td>Maranhao</td>\n",
       "      <td>MA</td>\n",
       "      <td>Nordeste</td>\n",
       "      <td>Brasil</td>\n",
       "    </tr>\n",
       "    <tr>\n",
       "      <th>10</th>\n",
       "      <td>Minas Gerais</td>\n",
       "      <td>MG</td>\n",
       "      <td>Sudeste</td>\n",
       "      <td>Brasil</td>\n",
       "    </tr>\n",
       "    <tr>\n",
       "      <th>11</th>\n",
       "      <td>Mato Grosso do Sul</td>\n",
       "      <td>MS</td>\n",
       "      <td>Centro-Oeste</td>\n",
       "      <td>Brasil</td>\n",
       "    </tr>\n",
       "    <tr>\n",
       "      <th>12</th>\n",
       "      <td>Mato Grosso</td>\n",
       "      <td>MT</td>\n",
       "      <td>Centro-Oeste</td>\n",
       "      <td>Brasil</td>\n",
       "    </tr>\n",
       "    <tr>\n",
       "      <th>13</th>\n",
       "      <td>Para</td>\n",
       "      <td>PA</td>\n",
       "      <td>Norte</td>\n",
       "      <td>Brasil</td>\n",
       "    </tr>\n",
       "    <tr>\n",
       "      <th>14</th>\n",
       "      <td>Paraiba</td>\n",
       "      <td>PB</td>\n",
       "      <td>Nordeste</td>\n",
       "      <td>Brasil</td>\n",
       "    </tr>\n",
       "    <tr>\n",
       "      <th>15</th>\n",
       "      <td>Pernambuco</td>\n",
       "      <td>PE</td>\n",
       "      <td>Nordeste</td>\n",
       "      <td>Brasil</td>\n",
       "    </tr>\n",
       "    <tr>\n",
       "      <th>16</th>\n",
       "      <td>Piaui</td>\n",
       "      <td>PI</td>\n",
       "      <td>Nordeste</td>\n",
       "      <td>Brasil</td>\n",
       "    </tr>\n",
       "    <tr>\n",
       "      <th>17</th>\n",
       "      <td>Parana</td>\n",
       "      <td>PR</td>\n",
       "      <td>Sul</td>\n",
       "      <td>Brasil</td>\n",
       "    </tr>\n",
       "    <tr>\n",
       "      <th>18</th>\n",
       "      <td>Rio de Janeiro</td>\n",
       "      <td>RJ</td>\n",
       "      <td>Sudeste</td>\n",
       "      <td>Brasil</td>\n",
       "    </tr>\n",
       "    <tr>\n",
       "      <th>19</th>\n",
       "      <td>Rio Grande do Norte</td>\n",
       "      <td>RN</td>\n",
       "      <td>Nordeste</td>\n",
       "      <td>Brasil</td>\n",
       "    </tr>\n",
       "    <tr>\n",
       "      <th>20</th>\n",
       "      <td>Rondonia</td>\n",
       "      <td>RO</td>\n",
       "      <td>Norte</td>\n",
       "      <td>Brasil</td>\n",
       "    </tr>\n",
       "    <tr>\n",
       "      <th>21</th>\n",
       "      <td>Roraima</td>\n",
       "      <td>RR</td>\n",
       "      <td>Norte</td>\n",
       "      <td>Brasil</td>\n",
       "    </tr>\n",
       "    <tr>\n",
       "      <th>22</th>\n",
       "      <td>Rio Grande do Sul</td>\n",
       "      <td>RS</td>\n",
       "      <td>Sul</td>\n",
       "      <td>Brasil</td>\n",
       "    </tr>\n",
       "    <tr>\n",
       "      <th>23</th>\n",
       "      <td>Santa Catarina</td>\n",
       "      <td>SC</td>\n",
       "      <td>Sul</td>\n",
       "      <td>Brasil</td>\n",
       "    </tr>\n",
       "    <tr>\n",
       "      <th>24</th>\n",
       "      <td>Sergipe</td>\n",
       "      <td>SE</td>\n",
       "      <td>Nordeste</td>\n",
       "      <td>Brasil</td>\n",
       "    </tr>\n",
       "    <tr>\n",
       "      <th>25</th>\n",
       "      <td>Sao Paulo</td>\n",
       "      <td>SP</td>\n",
       "      <td>Sudeste</td>\n",
       "      <td>Brasil</td>\n",
       "    </tr>\n",
       "    <tr>\n",
       "      <th>26</th>\n",
       "      <td>Tocantins</td>\n",
       "      <td>TO</td>\n",
       "      <td>Norte</td>\n",
       "      <td>Brasil</td>\n",
       "    </tr>\n",
       "  </tbody>\n",
       "</table>\n",
       "</div>"
      ],
      "text/plain": [
       "                 ESTADO  UF        REGIAO    PAIS\n",
       "0                  Acre  AC         Norte  Brasil\n",
       "1               Alagoas  AL      Nordeste  Brasil\n",
       "2              Amazonas  AM         Norte  Brasil\n",
       "3                 Amapa  AP         Norte  Brasil\n",
       "4                 Bahia  BA      Nordeste  Brasil\n",
       "5                 Ceara  CE      Nordeste  Brasil\n",
       "6      Distrito Federal  DF  Centro-Oeste  Brasil\n",
       "7        Espirito Santo  ES       Sudeste  Brasil\n",
       "8                 Goias  GO  Centro-Oeste  Brasil\n",
       "9              Maranhao  MA      Nordeste  Brasil\n",
       "10         Minas Gerais  MG       Sudeste  Brasil\n",
       "11   Mato Grosso do Sul  MS  Centro-Oeste  Brasil\n",
       "12          Mato Grosso  MT  Centro-Oeste  Brasil\n",
       "13                 Para  PA         Norte  Brasil\n",
       "14              Paraiba  PB      Nordeste  Brasil\n",
       "15           Pernambuco  PE      Nordeste  Brasil\n",
       "16                Piaui  PI      Nordeste  Brasil\n",
       "17               Parana  PR           Sul  Brasil\n",
       "18       Rio de Janeiro  RJ       Sudeste  Brasil\n",
       "19  Rio Grande do Norte  RN      Nordeste  Brasil\n",
       "20             Rondonia  RO         Norte  Brasil\n",
       "21              Roraima  RR         Norte  Brasil\n",
       "22    Rio Grande do Sul  RS           Sul  Brasil\n",
       "23       Santa Catarina  SC           Sul  Brasil\n",
       "24              Sergipe  SE      Nordeste  Brasil\n",
       "25            Sao Paulo  SP       Sudeste  Brasil\n",
       "26            Tocantins  TO         Norte  Brasil"
      ]
     },
     "metadata": {},
     "output_type": "display_data"
    }
   ],
   "source": [
    "#Script para enviar tabela xlsx para SQL da CIDADE\n",
    "\n",
    "import pandas as pd\n",
    "from sqlalchemy import create_engine, VARCHAR,NUMERIC,INTEGER,DATE,DATETIME,String,text\n",
    "\n",
    "conexaoDB = ('DRIVER={ODBC Driver 17 for SQL Server};SERVER=DESKTOP-HV85ADA\\\\PROJETO_MERCADO;DATABASE=MERCADO_OLTP;Trusted_Connection=yes;')\n",
    "engine = create_engine(f'mssql+pyodbc:///?odbc_connect={conexaoDB}')\n",
    "\n",
    "caminho = r\"C:\\\\Users\\\\marce\\\\OneDrive\\Arquivos Antigos\\\\Área de Trabalho\\\\Projeto Supermecado - Arquivos\\\\BANCO DE DADOS\\\\DADOS\\\\CIDADE\\\\\"\n",
    "arquivo = r\"CIDADES.csv\"\n",
    "caminhocompleto = caminho+arquivo\n",
    "\n",
    "df_cidades = pd.read_csv(caminhocompleto,delimiter=\";\")\n",
    "\n",
    "estados_brasileiros = [\"Acre\",\"Alagoas\",\"Amazonas\",\"Amapa\",\"Bahia\",\"Ceara\",\"Distrito Federal\",\"Espirito Santo\",\n",
    "\"Goias\",\"Maranhao\",\"Minas Gerais\",\"Mato Grosso do Sul\",\"Mato Grosso\",\"Para\",\"Paraiba\",\"Pernambuco\",\"Piaui\",\n",
    "\"Parana\",\"Rio de Janeiro\",\"Rio Grande do Norte\",\"Rondonia\",\"Roraima\",\"Rio Grande do Sul\",\"Santa Catarina\",\n",
    "\"Sergipe\",\"Sao Paulo\",\"Tocantins\"]\n",
    "\n",
    "siglas_estados = {\n",
    "    \"Acre\": \"AC\",\n",
    "    \"Alagoas\": \"AL\",\n",
    "    \"Amapa\": \"AP\",\n",
    "    \"Amazonas\": \"AM\",\n",
    "    \"Bahia\": \"BA\",\n",
    "    \"Ceara\": \"CE\",\n",
    "    \"Distrito Federal\": \"DF\",\n",
    "    \"Espirito Santo\": \"ES\",\n",
    "    \"Goias\": \"GO\",\n",
    "    \"Maranhao\": \"MA\",\n",
    "    \"Mato Grosso\": \"MT\",\n",
    "    \"Mato Grosso do Sul\": \"MS\",\n",
    "    \"Minas Gerais\": \"MG\",\n",
    "    \"Para\": \"PA\",\n",
    "    \"Paraiba\": \"PB\",\n",
    "    \"Parana\": \"PR\",\n",
    "    \"Pernambuco\": \"PE\",\n",
    "    \"Piaui\": \"PI\",\n",
    "    \"Rio de Janeiro\": \"RJ\",\n",
    "    \"Rio Grande do Norte\": \"RN\",\n",
    "    \"Rio Grande do Sul\": \"RS\",\n",
    "    \"Rondonia\": \"RO\",\n",
    "    \"Roraima\": \"RR\",\n",
    "    \"Santa Catarina\": \"SC\",\n",
    "    \"Sao Paulo\": \"SP\",\n",
    "    \"Sergipe\": \"SE\",\n",
    "    \"Tocantins\": \"TO\"\n",
    "}\n",
    "\n",
    "regioes = {\n",
    "    \"Norte\":        [\"Acre\", \"Amapa\", \"Amazonas\", \"Para\", \"Rondonia\", \"Roraima\", \"Tocantins\"],\n",
    "    \"Nordeste\":     [\"Alagoas\", \"Bahia\", \"Ceara\", \"Maranhao\", \"Paraiba\", \"Pernambuco\", \"Piaui\", \"Rio Grande do Norte\", \"Sergipe\"],\n",
    "    \"Centro-Oeste\": [\"Distrito Federal\", \"Goias\", \"Mato Grosso\", \"Mato Grosso do Sul\"],\n",
    "    \"Sudeste\":      [\"Espirito Santo\", \"Minas Gerais\", \"Rio de Janeiro\", \"Sao Paulo\"],\n",
    "    \"Sul\":          [\"Parana\", \"Rio Grande do Sul\", \"Santa Catarina\"]\n",
    "}\n",
    "\n",
    "df_EST = []\n",
    "\n",
    "for estado in estados_brasileiros:\n",
    "    for regiao, estados_regiao in regioes.items():\n",
    "        if estado in estados_regiao:\n",
    "            df_EST.append({\n",
    "                \"Nome\":   estado,\n",
    "                \"UF\":     siglas_estados[estado],\n",
    "                \"Regiao\": regiao,\n",
    "                \"Pais\":   \"Brasil\"\n",
    "            })\n",
    "            break\n",
    "\n",
    "df_EST = pd.DataFrame(df_EST)\n",
    "\n",
    "estados = df_cidades[\"COD_UF\"].unique().tolist()\n",
    "estados.sort()\n",
    "\n",
    "id_estado = [indice + 1 for indice in range(len(estados))]\n",
    "\n",
    "df_estados = pd.DataFrame({\n",
    "                    'ESTADO':    estados,\n",
    "                    'ID_ESTADO': id_estado,\n",
    "\n",
    "})\n",
    "\n",
    "mapeamento = dict(zip(df_estados['ESTADO'], df_estados['ID_ESTADO']))\n",
    "\n",
    "df_cidades['ID_ESTADO'] = df_cidades['COD_UF'].map(mapeamento)\n",
    "\n",
    "\n",
    "\n",
    "df_CIDADE = pd.DataFrame({\n",
    "                'NOME':         df_cidades['NOME_MUN'],\n",
    "                'ID_ESTADO':    df_cidades['ID_ESTADO'],\n",
    "\n",
    "})\n",
    "\n",
    "df_ESTADO = pd.DataFrame({\n",
    "                'ESTADO':       df_EST['Nome'],\n",
    "                'UF':           df_estados['ESTADO'],\n",
    "                'REGIAO':       df_EST['Regiao'],\n",
    "                'PAIS':         df_EST['Pais']\n",
    "\n",
    "})\n",
    "\n",
    "display(df_CIDADE)\n",
    "display(df_ESTADO)\n",
    "\n",
    "tipo_dados_cidade = {\n",
    "\n",
    "    'NOME':         VARCHAR(50),\n",
    "    'ID_ESTADO':    INTEGER\n",
    "\n",
    "}\n",
    "\n",
    "with engine.connect() as conn:\n",
    "        conn.execute(text(f\"TRUNCATE TABLE CIDADE\"))  #limpa os dados existentes, pode ser removido do codigo\n",
    "        conn.commit()\n",
    "\n",
    "df_CIDADE.to_sql(name='CIDADE',con=engine,if_exists='append',index=False,dtype=tipo_dados_cidade)\n",
    "\n",
    "tipo_dados_estado = {\n",
    "\n",
    "    'ESTADO':  VARCHAR(25),\n",
    "    'UF':      VARCHAR(2),\n",
    "    'REGIAO':  VARCHAR(20),\n",
    "    'PAIS':    VARCHAR(20),\n",
    "\n",
    "}\n",
    "\n",
    "with engine.connect() as conn:\n",
    "        conn.execute(text(f\"TRUNCATE TABLE ESTADO\"))  #limpa os dados existentes, pode ser removido do codigo\n",
    "        conn.commit()\n",
    "\n",
    "df_ESTADO.to_sql(name='ESTADO',con=engine,if_exists='append',index=False,dtype=tipo_dados_estado)\n",
    "\n",
    "engine.dispose()"
   ]
  }
 ],
 "metadata": {
  "kernelspec": {
   "display_name": "Python 3",
   "language": "python",
   "name": "python3"
  },
  "language_info": {
   "codemirror_mode": {
    "name": "ipython",
    "version": 3
   },
   "file_extension": ".py",
   "mimetype": "text/x-python",
   "name": "python",
   "nbconvert_exporter": "python",
   "pygments_lexer": "ipython3",
   "version": "3.13.2"
  }
 },
 "nbformat": 4,
 "nbformat_minor": 2
}
